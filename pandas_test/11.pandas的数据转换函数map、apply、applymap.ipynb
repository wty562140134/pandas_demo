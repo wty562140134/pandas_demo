{
 "cells": [
  {
   "cell_type": "markdown",
   "source": [
    "# pandas的数据转换函数map、apply、applymap\n",
    "数据转换函数对比: map、apply、applymap:\n",
    "1. map:用于Series, 实现每个值->值的映射;\n",
    "2. apply: 用于Series, 实现每个值的处理, 用于DataFrame实现某个周的Series的处理;\n",
    "3. applymap: 只能用于DataFrame, 用于处理改DataFrame的每个元素;"
   ],
   "metadata": {
    "collapsed": false
   }
  },
  {
   "cell_type": "markdown",
   "source": [
    "## 1.map用于Series的值的转换\n",
    "示例: 将股票代码英文转换为中文名字\n",
    "`Series.map(dict) or Series.map(function)`"
   ],
   "metadata": {
    "collapsed": false
   }
  },
  {
   "cell_type": "code",
   "execution_count": 1,
   "outputs": [
    {
     "data": {
      "text/plain": "          日期    公司     收盘     开盘      高      低     交易量     涨跌幅\n0  2023/3/27  BABA  86.12  87.13  88.22  85.50  18.18M  -0.90%\n1  2023/3/24  BABA  86.90  85.87  88.11  85.63  20.35M   0.44%\n2  2023/3/23  BABA  86.52  87.68  88.38  85.26  26.79M   3.43%\n3  2023/3/22  BABA  83.65  84.84  85.39  83.51  21.08M  -0.06%\n4  2023/3/21  BABA  83.70  82.46  84.09  82.00  16.44M   3.33%",
      "text/html": "<div>\n<style scoped>\n    .dataframe tbody tr th:only-of-type {\n        vertical-align: middle;\n    }\n\n    .dataframe tbody tr th {\n        vertical-align: top;\n    }\n\n    .dataframe thead th {\n        text-align: right;\n    }\n</style>\n<table border=\"1\" class=\"dataframe\">\n  <thead>\n    <tr style=\"text-align: right;\">\n      <th></th>\n      <th>日期</th>\n      <th>公司</th>\n      <th>收盘</th>\n      <th>开盘</th>\n      <th>高</th>\n      <th>低</th>\n      <th>交易量</th>\n      <th>涨跌幅</th>\n    </tr>\n  </thead>\n  <tbody>\n    <tr>\n      <th>0</th>\n      <td>2023/3/27</td>\n      <td>BABA</td>\n      <td>86.12</td>\n      <td>87.13</td>\n      <td>88.22</td>\n      <td>85.50</td>\n      <td>18.18M</td>\n      <td>-0.90%</td>\n    </tr>\n    <tr>\n      <th>1</th>\n      <td>2023/3/24</td>\n      <td>BABA</td>\n      <td>86.90</td>\n      <td>85.87</td>\n      <td>88.11</td>\n      <td>85.63</td>\n      <td>20.35M</td>\n      <td>0.44%</td>\n    </tr>\n    <tr>\n      <th>2</th>\n      <td>2023/3/23</td>\n      <td>BABA</td>\n      <td>86.52</td>\n      <td>87.68</td>\n      <td>88.38</td>\n      <td>85.26</td>\n      <td>26.79M</td>\n      <td>3.43%</td>\n    </tr>\n    <tr>\n      <th>3</th>\n      <td>2023/3/22</td>\n      <td>BABA</td>\n      <td>83.65</td>\n      <td>84.84</td>\n      <td>85.39</td>\n      <td>83.51</td>\n      <td>21.08M</td>\n      <td>-0.06%</td>\n    </tr>\n    <tr>\n      <th>4</th>\n      <td>2023/3/21</td>\n      <td>BABA</td>\n      <td>83.70</td>\n      <td>82.46</td>\n      <td>84.09</td>\n      <td>82.00</td>\n      <td>16.44M</td>\n      <td>3.33%</td>\n    </tr>\n  </tbody>\n</table>\n</div>"
     },
     "execution_count": 1,
     "metadata": {},
     "output_type": "execute_result"
    }
   ],
   "source": [
    "import pandas as pd\n",
    "\n",
    "stock_df = pd.read_csv('./data/stock/stock.csv')\n",
    "stock_df.head()"
   ],
   "metadata": {
    "collapsed": false
   }
  },
  {
   "cell_type": "code",
   "execution_count": 2,
   "outputs": [
    {
     "data": {
      "text/plain": "array(['BABA', 'JD', 'BAIDU'], dtype=object)"
     },
     "execution_count": 2,
     "metadata": {},
     "output_type": "execute_result"
    }
   ],
   "source": [
    "stock_df['公司'].unique()"
   ],
   "metadata": {
    "collapsed": false
   }
  },
  {
   "cell_type": "code",
   "execution_count": 3,
   "outputs": [],
   "source": [
    "# 公司股票代码到中文的映射\n",
    "dict_company_name = {\n",
    "    'baidu': '百度',\n",
    "    'baba': '阿里巴巴',\n",
    "    'jd': '京东'\n",
    "}"
   ],
   "metadata": {
    "collapsed": false
   }
  },
  {
   "cell_type": "markdown",
   "source": [
    "**方法1:Series.map(dict)**"
   ],
   "metadata": {
    "collapsed": false
   }
  },
  {
   "cell_type": "code",
   "execution_count": 4,
   "outputs": [],
   "source": [
    "stock_df['公司中文1'] = stock_df['公司'].str.lower().map(dict_company_name)"
   ],
   "metadata": {
    "collapsed": false
   }
  },
  {
   "cell_type": "code",
   "execution_count": 5,
   "outputs": [
    {
     "data": {
      "text/plain": "          日期    公司     收盘     开盘      高      低     交易量     涨跌幅 公司中文1\n0  2023/3/27  BABA  86.12  87.13  88.22  85.50  18.18M  -0.90%  阿里巴巴\n1  2023/3/24  BABA  86.90  85.87  88.11  85.63  20.35M   0.44%  阿里巴巴\n2  2023/3/23  BABA  86.52  87.68  88.38  85.26  26.79M   3.43%  阿里巴巴\n3  2023/3/22  BABA  83.65  84.84  85.39  83.51  21.08M  -0.06%  阿里巴巴\n4  2023/3/21  BABA  83.70  82.46  84.09  82.00  16.44M   3.33%  阿里巴巴",
      "text/html": "<div>\n<style scoped>\n    .dataframe tbody tr th:only-of-type {\n        vertical-align: middle;\n    }\n\n    .dataframe tbody tr th {\n        vertical-align: top;\n    }\n\n    .dataframe thead th {\n        text-align: right;\n    }\n</style>\n<table border=\"1\" class=\"dataframe\">\n  <thead>\n    <tr style=\"text-align: right;\">\n      <th></th>\n      <th>日期</th>\n      <th>公司</th>\n      <th>收盘</th>\n      <th>开盘</th>\n      <th>高</th>\n      <th>低</th>\n      <th>交易量</th>\n      <th>涨跌幅</th>\n      <th>公司中文1</th>\n    </tr>\n  </thead>\n  <tbody>\n    <tr>\n      <th>0</th>\n      <td>2023/3/27</td>\n      <td>BABA</td>\n      <td>86.12</td>\n      <td>87.13</td>\n      <td>88.22</td>\n      <td>85.50</td>\n      <td>18.18M</td>\n      <td>-0.90%</td>\n      <td>阿里巴巴</td>\n    </tr>\n    <tr>\n      <th>1</th>\n      <td>2023/3/24</td>\n      <td>BABA</td>\n      <td>86.90</td>\n      <td>85.87</td>\n      <td>88.11</td>\n      <td>85.63</td>\n      <td>20.35M</td>\n      <td>0.44%</td>\n      <td>阿里巴巴</td>\n    </tr>\n    <tr>\n      <th>2</th>\n      <td>2023/3/23</td>\n      <td>BABA</td>\n      <td>86.52</td>\n      <td>87.68</td>\n      <td>88.38</td>\n      <td>85.26</td>\n      <td>26.79M</td>\n      <td>3.43%</td>\n      <td>阿里巴巴</td>\n    </tr>\n    <tr>\n      <th>3</th>\n      <td>2023/3/22</td>\n      <td>BABA</td>\n      <td>83.65</td>\n      <td>84.84</td>\n      <td>85.39</td>\n      <td>83.51</td>\n      <td>21.08M</td>\n      <td>-0.06%</td>\n      <td>阿里巴巴</td>\n    </tr>\n    <tr>\n      <th>4</th>\n      <td>2023/3/21</td>\n      <td>BABA</td>\n      <td>83.70</td>\n      <td>82.46</td>\n      <td>84.09</td>\n      <td>82.00</td>\n      <td>16.44M</td>\n      <td>3.33%</td>\n      <td>阿里巴巴</td>\n    </tr>\n  </tbody>\n</table>\n</div>"
     },
     "execution_count": 5,
     "metadata": {},
     "output_type": "execute_result"
    }
   ],
   "source": [
    "stock_df.head()"
   ],
   "metadata": {
    "collapsed": false
   }
  },
  {
   "cell_type": "markdown",
   "source": [
    "**方法2:Series.map(function)**\n",
    "function的参数是Series的每个元素的值"
   ],
   "metadata": {
    "collapsed": false
   }
  },
  {
   "cell_type": "code",
   "execution_count": 6,
   "outputs": [],
   "source": [
    "stock_df['公司中文2'] = stock_df['公司'].map(lambda d: dict_company_name.get(d.lower()) + '2')"
   ],
   "metadata": {
    "collapsed": false
   }
  },
  {
   "cell_type": "code",
   "execution_count": 7,
   "outputs": [
    {
     "data": {
      "text/plain": "           日期     公司      收盘      开盘       高       低     交易量      涨跌幅 公司中文1   \n0   2023/3/27   BABA   86.12   87.13   88.22   85.50  18.18M   -0.90%  阿里巴巴  \\\n1   2023/3/24   BABA   86.90   85.87   88.11   85.63  20.35M    0.44%  阿里巴巴   \n2   2023/3/23   BABA   86.52   87.68   88.38   85.26  26.79M    3.43%  阿里巴巴   \n3   2023/3/22   BABA   83.65   84.84   85.39   83.51  21.08M   -0.06%  阿里巴巴   \n4   2023/3/21   BABA   83.70   82.46   84.09   82.00  16.44M    3.33%  阿里巴巴   \n5   2023/3/20   BABA   81.00   80.15   81.90   79.48  18.95M   -0.82%  阿里巴巴   \n6   2023/3/17   BABA   81.67   84.00   84.16   80.62  23.71M   -0.67%  阿里巴巴   \n7   2023/3/16   BABA   82.22   81.46   82.48   80.66  22.41M    0.87%  阿里巴巴   \n8   2023/3/15   BABA   81.51   81.55   82.54   80.15  20.86M   -2.79%  阿里巴巴   \n9   2023/3/14   BABA   83.85   82.86   83.91   82.16  19.05M    1.15%  阿里巴巴   \n10  2023/3/13   BABA   82.90   83.01   83.75   81.97  17.62M   -0.07%  阿里巴巴   \n11  2023/3/10   BABA   82.96   82.64   84.52   82.33  18.12M   -0.49%  阿里巴巴   \n12   2023/3/9   BABA   83.37   85.12   85.69   82.88  24.12M   -4.12%  阿里巴巴   \n13   2023/3/8   BABA   86.95   87.39   87.77   86.45  14.72M   -2.01%  阿里巴巴   \n14   2023/3/7   BABA   88.73   89.52   90.05   88.20  14.51M   -0.99%  阿里巴巴   \n15   2023/3/6   BABA   89.62   89.58   91.30   88.03  16.98M   -0.09%  阿里巴巴   \n16   2023/3/3   BABA   89.70   90.09   90.39   88.43  25.83M   -0.06%  阿里巴巴   \n17   2023/3/2   BABA   89.75   88.96   90.92   87.97  24.02M   -0.22%  阿里巴巴   \n18   2023/3/1   BABA   89.95   92.92   92.92   89.73  32.05M    2.46%  阿里巴巴   \n19  2023/2/28   BABA   87.79   88.46   89.34   87.27  24.60M   -1.64%  阿里巴巴   \n20  2023/3/27     JD   39.78   39.34   39.96   39.15   7.31M   -1.27%    京东   \n21  2023/3/24     JD   40.29   39.92   40.84   39.85   7.35M    0.55%    京东   \n22  2023/3/23     JD   40.07   40.30   40.89   39.63  11.04M    4.08%    京东   \n23  2023/3/22     JD   38.50   39.50   39.87   38.50   8.27M   -2.63%    京东   \n24  2023/3/21     JD   39.54   38.62   39.59   38.43   9.71M    2.28%    京东   \n25  2023/3/20     JD   38.66   38.00   39.30   37.70  11.16M   -0.44%    京东   \n26  2023/3/17     JD   38.83   39.48   39.67   38.57  11.48M   -2.41%    京东   \n27  2023/3/16     JD   39.79   39.07   40.09   38.91   9.83M    1.14%    京东   \n28  2023/3/15     JD   39.34   39.38   39.88   38.81  10.40M   -2.72%    京东   \n29  2023/3/14     JD   40.44   39.98   40.81   39.46  10.78M    0.82%    京东   \n30  2023/3/13     JD   40.11   39.68   40.84   39.04  13.14M   -0.89%    京东   \n31  2023/3/10     JD   40.47   40.88   41.38   40.07  15.48M   -2.90%    京东   \n32   2023/3/9     JD   41.68   44.51   44.79   41.31  37.10M  -11.28%    京东   \n33   2023/3/8     JD   46.98   45.51   47.41   45.47   8.51M    0.88%    京东   \n34   2023/3/7     JD   46.57   47.36   47.36   46.34   6.51M   -2.82%    京东   \n35   2023/3/6     JD   47.92   47.67   48.72   47.23   7.17M    0.97%    京东   \n36   2023/3/3     JD   47.46   47.36   48.22   47.32   7.87M    0.83%    京东   \n37   2023/3/2     JD   47.07   45.62   47.15   45.40   7.90M    2.93%    京东   \n38   2023/3/1     JD   45.73   46.54   46.77   45.30   9.24M    2.90%    京东   \n39  2023/2/28     JD   44.44   44.28   45.11   43.97   6.44M   -0.67%    京东   \n40  2023/3/27  BAIDU  149.50  156.90  157.00  147.40  15.52M   -3.17%    百度   \n41  2023/3/24  BAIDU  154.40  148.50  159.00  148.00  25.84M    2.32%    百度   \n42  2023/3/23  BAIDU  150.90  145.50  151.10  144.50  12.34M    2.79%    百度   \n43  2023/3/22  BAIDU  146.80  147.90  149.80  145.80   8.86M   -0.88%    百度   \n44  2023/3/21  BAIDU  148.10  146.20  149.30  143.50  13.13M    3.21%    百度   \n45  2023/3/20  BAIDU  143.50  146.50  148.00  141.70  16.03M    0.91%    百度   \n46  2023/3/17  BAIDU  142.20  135.00  146.00  134.00  32.59M   13.67%    百度   \n47  2023/3/16  BAIDU  125.10  131.30  134.40  120.10  24.31M   -6.36%    百度   \n48  2023/3/15  BAIDU  133.60  134.50  138.30  133.00  14.63M    3.57%    百度   \n49  2023/3/14  BAIDU  129.00  132.30  134.00  128.50   8.23M   -3.73%    百度   \n50  2023/3/13  BAIDU  134.00  131.50  136.70  129.00  11.66M    3.47%    百度   \n51  2023/3/10  BAIDU  129.50  128.20  131.10  128.00  20.86M   -5.89%    百度   \n52   2023/3/9  BAIDU  137.60  140.00  141.00  137.40   6.51M   -1.36%    百度   \n53   2023/3/8  BAIDU  139.50  141.10  141.50  137.60   7.68M   -3.26%    百度   \n54   2023/3/7  BAIDU  144.20  147.50  149.30  142.30   9.00M   -2.24%    百度   \n55   2023/3/6  BAIDU  147.50  149.40  150.00  145.70   9.97M   -1.27%    百度   \n56   2023/3/3  BAIDU  149.40  148.30  150.80  146.60  13.38M    5.29%    百度   \n57   2023/3/2  BAIDU  141.90  141.00  142.60  139.40  16.49M   -2.14%    百度   \n58   2023/3/1  BAIDU  145.00  135.00  146.90  135.00  17.88M    7.57%    百度   \n59  2023/2/28  BAIDU  134.80  137.00  138.50  134.00  12.43M    0.60%    百度   \n\n    公司中文2  \n0   阿里巴巴2  \n1   阿里巴巴2  \n2   阿里巴巴2  \n3   阿里巴巴2  \n4   阿里巴巴2  \n5   阿里巴巴2  \n6   阿里巴巴2  \n7   阿里巴巴2  \n8   阿里巴巴2  \n9   阿里巴巴2  \n10  阿里巴巴2  \n11  阿里巴巴2  \n12  阿里巴巴2  \n13  阿里巴巴2  \n14  阿里巴巴2  \n15  阿里巴巴2  \n16  阿里巴巴2  \n17  阿里巴巴2  \n18  阿里巴巴2  \n19  阿里巴巴2  \n20    京东2  \n21    京东2  \n22    京东2  \n23    京东2  \n24    京东2  \n25    京东2  \n26    京东2  \n27    京东2  \n28    京东2  \n29    京东2  \n30    京东2  \n31    京东2  \n32    京东2  \n33    京东2  \n34    京东2  \n35    京东2  \n36    京东2  \n37    京东2  \n38    京东2  \n39    京东2  \n40    百度2  \n41    百度2  \n42    百度2  \n43    百度2  \n44    百度2  \n45    百度2  \n46    百度2  \n47    百度2  \n48    百度2  \n49    百度2  \n50    百度2  \n51    百度2  \n52    百度2  \n53    百度2  \n54    百度2  \n55    百度2  \n56    百度2  \n57    百度2  \n58    百度2  \n59    百度2  ",
      "text/html": "<div>\n<style scoped>\n    .dataframe tbody tr th:only-of-type {\n        vertical-align: middle;\n    }\n\n    .dataframe tbody tr th {\n        vertical-align: top;\n    }\n\n    .dataframe thead th {\n        text-align: right;\n    }\n</style>\n<table border=\"1\" class=\"dataframe\">\n  <thead>\n    <tr style=\"text-align: right;\">\n      <th></th>\n      <th>日期</th>\n      <th>公司</th>\n      <th>收盘</th>\n      <th>开盘</th>\n      <th>高</th>\n      <th>低</th>\n      <th>交易量</th>\n      <th>涨跌幅</th>\n      <th>公司中文1</th>\n      <th>公司中文2</th>\n    </tr>\n  </thead>\n  <tbody>\n    <tr>\n      <th>0</th>\n      <td>2023/3/27</td>\n      <td>BABA</td>\n      <td>86.12</td>\n      <td>87.13</td>\n      <td>88.22</td>\n      <td>85.50</td>\n      <td>18.18M</td>\n      <td>-0.90%</td>\n      <td>阿里巴巴</td>\n      <td>阿里巴巴2</td>\n    </tr>\n    <tr>\n      <th>1</th>\n      <td>2023/3/24</td>\n      <td>BABA</td>\n      <td>86.90</td>\n      <td>85.87</td>\n      <td>88.11</td>\n      <td>85.63</td>\n      <td>20.35M</td>\n      <td>0.44%</td>\n      <td>阿里巴巴</td>\n      <td>阿里巴巴2</td>\n    </tr>\n    <tr>\n      <th>2</th>\n      <td>2023/3/23</td>\n      <td>BABA</td>\n      <td>86.52</td>\n      <td>87.68</td>\n      <td>88.38</td>\n      <td>85.26</td>\n      <td>26.79M</td>\n      <td>3.43%</td>\n      <td>阿里巴巴</td>\n      <td>阿里巴巴2</td>\n    </tr>\n    <tr>\n      <th>3</th>\n      <td>2023/3/22</td>\n      <td>BABA</td>\n      <td>83.65</td>\n      <td>84.84</td>\n      <td>85.39</td>\n      <td>83.51</td>\n      <td>21.08M</td>\n      <td>-0.06%</td>\n      <td>阿里巴巴</td>\n      <td>阿里巴巴2</td>\n    </tr>\n    <tr>\n      <th>4</th>\n      <td>2023/3/21</td>\n      <td>BABA</td>\n      <td>83.70</td>\n      <td>82.46</td>\n      <td>84.09</td>\n      <td>82.00</td>\n      <td>16.44M</td>\n      <td>3.33%</td>\n      <td>阿里巴巴</td>\n      <td>阿里巴巴2</td>\n    </tr>\n    <tr>\n      <th>5</th>\n      <td>2023/3/20</td>\n      <td>BABA</td>\n      <td>81.00</td>\n      <td>80.15</td>\n      <td>81.90</td>\n      <td>79.48</td>\n      <td>18.95M</td>\n      <td>-0.82%</td>\n      <td>阿里巴巴</td>\n      <td>阿里巴巴2</td>\n    </tr>\n    <tr>\n      <th>6</th>\n      <td>2023/3/17</td>\n      <td>BABA</td>\n      <td>81.67</td>\n      <td>84.00</td>\n      <td>84.16</td>\n      <td>80.62</td>\n      <td>23.71M</td>\n      <td>-0.67%</td>\n      <td>阿里巴巴</td>\n      <td>阿里巴巴2</td>\n    </tr>\n    <tr>\n      <th>7</th>\n      <td>2023/3/16</td>\n      <td>BABA</td>\n      <td>82.22</td>\n      <td>81.46</td>\n      <td>82.48</td>\n      <td>80.66</td>\n      <td>22.41M</td>\n      <td>0.87%</td>\n      <td>阿里巴巴</td>\n      <td>阿里巴巴2</td>\n    </tr>\n    <tr>\n      <th>8</th>\n      <td>2023/3/15</td>\n      <td>BABA</td>\n      <td>81.51</td>\n      <td>81.55</td>\n      <td>82.54</td>\n      <td>80.15</td>\n      <td>20.86M</td>\n      <td>-2.79%</td>\n      <td>阿里巴巴</td>\n      <td>阿里巴巴2</td>\n    </tr>\n    <tr>\n      <th>9</th>\n      <td>2023/3/14</td>\n      <td>BABA</td>\n      <td>83.85</td>\n      <td>82.86</td>\n      <td>83.91</td>\n      <td>82.16</td>\n      <td>19.05M</td>\n      <td>1.15%</td>\n      <td>阿里巴巴</td>\n      <td>阿里巴巴2</td>\n    </tr>\n    <tr>\n      <th>10</th>\n      <td>2023/3/13</td>\n      <td>BABA</td>\n      <td>82.90</td>\n      <td>83.01</td>\n      <td>83.75</td>\n      <td>81.97</td>\n      <td>17.62M</td>\n      <td>-0.07%</td>\n      <td>阿里巴巴</td>\n      <td>阿里巴巴2</td>\n    </tr>\n    <tr>\n      <th>11</th>\n      <td>2023/3/10</td>\n      <td>BABA</td>\n      <td>82.96</td>\n      <td>82.64</td>\n      <td>84.52</td>\n      <td>82.33</td>\n      <td>18.12M</td>\n      <td>-0.49%</td>\n      <td>阿里巴巴</td>\n      <td>阿里巴巴2</td>\n    </tr>\n    <tr>\n      <th>12</th>\n      <td>2023/3/9</td>\n      <td>BABA</td>\n      <td>83.37</td>\n      <td>85.12</td>\n      <td>85.69</td>\n      <td>82.88</td>\n      <td>24.12M</td>\n      <td>-4.12%</td>\n      <td>阿里巴巴</td>\n      <td>阿里巴巴2</td>\n    </tr>\n    <tr>\n      <th>13</th>\n      <td>2023/3/8</td>\n      <td>BABA</td>\n      <td>86.95</td>\n      <td>87.39</td>\n      <td>87.77</td>\n      <td>86.45</td>\n      <td>14.72M</td>\n      <td>-2.01%</td>\n      <td>阿里巴巴</td>\n      <td>阿里巴巴2</td>\n    </tr>\n    <tr>\n      <th>14</th>\n      <td>2023/3/7</td>\n      <td>BABA</td>\n      <td>88.73</td>\n      <td>89.52</td>\n      <td>90.05</td>\n      <td>88.20</td>\n      <td>14.51M</td>\n      <td>-0.99%</td>\n      <td>阿里巴巴</td>\n      <td>阿里巴巴2</td>\n    </tr>\n    <tr>\n      <th>15</th>\n      <td>2023/3/6</td>\n      <td>BABA</td>\n      <td>89.62</td>\n      <td>89.58</td>\n      <td>91.30</td>\n      <td>88.03</td>\n      <td>16.98M</td>\n      <td>-0.09%</td>\n      <td>阿里巴巴</td>\n      <td>阿里巴巴2</td>\n    </tr>\n    <tr>\n      <th>16</th>\n      <td>2023/3/3</td>\n      <td>BABA</td>\n      <td>89.70</td>\n      <td>90.09</td>\n      <td>90.39</td>\n      <td>88.43</td>\n      <td>25.83M</td>\n      <td>-0.06%</td>\n      <td>阿里巴巴</td>\n      <td>阿里巴巴2</td>\n    </tr>\n    <tr>\n      <th>17</th>\n      <td>2023/3/2</td>\n      <td>BABA</td>\n      <td>89.75</td>\n      <td>88.96</td>\n      <td>90.92</td>\n      <td>87.97</td>\n      <td>24.02M</td>\n      <td>-0.22%</td>\n      <td>阿里巴巴</td>\n      <td>阿里巴巴2</td>\n    </tr>\n    <tr>\n      <th>18</th>\n      <td>2023/3/1</td>\n      <td>BABA</td>\n      <td>89.95</td>\n      <td>92.92</td>\n      <td>92.92</td>\n      <td>89.73</td>\n      <td>32.05M</td>\n      <td>2.46%</td>\n      <td>阿里巴巴</td>\n      <td>阿里巴巴2</td>\n    </tr>\n    <tr>\n      <th>19</th>\n      <td>2023/2/28</td>\n      <td>BABA</td>\n      <td>87.79</td>\n      <td>88.46</td>\n      <td>89.34</td>\n      <td>87.27</td>\n      <td>24.60M</td>\n      <td>-1.64%</td>\n      <td>阿里巴巴</td>\n      <td>阿里巴巴2</td>\n    </tr>\n    <tr>\n      <th>20</th>\n      <td>2023/3/27</td>\n      <td>JD</td>\n      <td>39.78</td>\n      <td>39.34</td>\n      <td>39.96</td>\n      <td>39.15</td>\n      <td>7.31M</td>\n      <td>-1.27%</td>\n      <td>京东</td>\n      <td>京东2</td>\n    </tr>\n    <tr>\n      <th>21</th>\n      <td>2023/3/24</td>\n      <td>JD</td>\n      <td>40.29</td>\n      <td>39.92</td>\n      <td>40.84</td>\n      <td>39.85</td>\n      <td>7.35M</td>\n      <td>0.55%</td>\n      <td>京东</td>\n      <td>京东2</td>\n    </tr>\n    <tr>\n      <th>22</th>\n      <td>2023/3/23</td>\n      <td>JD</td>\n      <td>40.07</td>\n      <td>40.30</td>\n      <td>40.89</td>\n      <td>39.63</td>\n      <td>11.04M</td>\n      <td>4.08%</td>\n      <td>京东</td>\n      <td>京东2</td>\n    </tr>\n    <tr>\n      <th>23</th>\n      <td>2023/3/22</td>\n      <td>JD</td>\n      <td>38.50</td>\n      <td>39.50</td>\n      <td>39.87</td>\n      <td>38.50</td>\n      <td>8.27M</td>\n      <td>-2.63%</td>\n      <td>京东</td>\n      <td>京东2</td>\n    </tr>\n    <tr>\n      <th>24</th>\n      <td>2023/3/21</td>\n      <td>JD</td>\n      <td>39.54</td>\n      <td>38.62</td>\n      <td>39.59</td>\n      <td>38.43</td>\n      <td>9.71M</td>\n      <td>2.28%</td>\n      <td>京东</td>\n      <td>京东2</td>\n    </tr>\n    <tr>\n      <th>25</th>\n      <td>2023/3/20</td>\n      <td>JD</td>\n      <td>38.66</td>\n      <td>38.00</td>\n      <td>39.30</td>\n      <td>37.70</td>\n      <td>11.16M</td>\n      <td>-0.44%</td>\n      <td>京东</td>\n      <td>京东2</td>\n    </tr>\n    <tr>\n      <th>26</th>\n      <td>2023/3/17</td>\n      <td>JD</td>\n      <td>38.83</td>\n      <td>39.48</td>\n      <td>39.67</td>\n      <td>38.57</td>\n      <td>11.48M</td>\n      <td>-2.41%</td>\n      <td>京东</td>\n      <td>京东2</td>\n    </tr>\n    <tr>\n      <th>27</th>\n      <td>2023/3/16</td>\n      <td>JD</td>\n      <td>39.79</td>\n      <td>39.07</td>\n      <td>40.09</td>\n      <td>38.91</td>\n      <td>9.83M</td>\n      <td>1.14%</td>\n      <td>京东</td>\n      <td>京东2</td>\n    </tr>\n    <tr>\n      <th>28</th>\n      <td>2023/3/15</td>\n      <td>JD</td>\n      <td>39.34</td>\n      <td>39.38</td>\n      <td>39.88</td>\n      <td>38.81</td>\n      <td>10.40M</td>\n      <td>-2.72%</td>\n      <td>京东</td>\n      <td>京东2</td>\n    </tr>\n    <tr>\n      <th>29</th>\n      <td>2023/3/14</td>\n      <td>JD</td>\n      <td>40.44</td>\n      <td>39.98</td>\n      <td>40.81</td>\n      <td>39.46</td>\n      <td>10.78M</td>\n      <td>0.82%</td>\n      <td>京东</td>\n      <td>京东2</td>\n    </tr>\n    <tr>\n      <th>30</th>\n      <td>2023/3/13</td>\n      <td>JD</td>\n      <td>40.11</td>\n      <td>39.68</td>\n      <td>40.84</td>\n      <td>39.04</td>\n      <td>13.14M</td>\n      <td>-0.89%</td>\n      <td>京东</td>\n      <td>京东2</td>\n    </tr>\n    <tr>\n      <th>31</th>\n      <td>2023/3/10</td>\n      <td>JD</td>\n      <td>40.47</td>\n      <td>40.88</td>\n      <td>41.38</td>\n      <td>40.07</td>\n      <td>15.48M</td>\n      <td>-2.90%</td>\n      <td>京东</td>\n      <td>京东2</td>\n    </tr>\n    <tr>\n      <th>32</th>\n      <td>2023/3/9</td>\n      <td>JD</td>\n      <td>41.68</td>\n      <td>44.51</td>\n      <td>44.79</td>\n      <td>41.31</td>\n      <td>37.10M</td>\n      <td>-11.28%</td>\n      <td>京东</td>\n      <td>京东2</td>\n    </tr>\n    <tr>\n      <th>33</th>\n      <td>2023/3/8</td>\n      <td>JD</td>\n      <td>46.98</td>\n      <td>45.51</td>\n      <td>47.41</td>\n      <td>45.47</td>\n      <td>8.51M</td>\n      <td>0.88%</td>\n      <td>京东</td>\n      <td>京东2</td>\n    </tr>\n    <tr>\n      <th>34</th>\n      <td>2023/3/7</td>\n      <td>JD</td>\n      <td>46.57</td>\n      <td>47.36</td>\n      <td>47.36</td>\n      <td>46.34</td>\n      <td>6.51M</td>\n      <td>-2.82%</td>\n      <td>京东</td>\n      <td>京东2</td>\n    </tr>\n    <tr>\n      <th>35</th>\n      <td>2023/3/6</td>\n      <td>JD</td>\n      <td>47.92</td>\n      <td>47.67</td>\n      <td>48.72</td>\n      <td>47.23</td>\n      <td>7.17M</td>\n      <td>0.97%</td>\n      <td>京东</td>\n      <td>京东2</td>\n    </tr>\n    <tr>\n      <th>36</th>\n      <td>2023/3/3</td>\n      <td>JD</td>\n      <td>47.46</td>\n      <td>47.36</td>\n      <td>48.22</td>\n      <td>47.32</td>\n      <td>7.87M</td>\n      <td>0.83%</td>\n      <td>京东</td>\n      <td>京东2</td>\n    </tr>\n    <tr>\n      <th>37</th>\n      <td>2023/3/2</td>\n      <td>JD</td>\n      <td>47.07</td>\n      <td>45.62</td>\n      <td>47.15</td>\n      <td>45.40</td>\n      <td>7.90M</td>\n      <td>2.93%</td>\n      <td>京东</td>\n      <td>京东2</td>\n    </tr>\n    <tr>\n      <th>38</th>\n      <td>2023/3/1</td>\n      <td>JD</td>\n      <td>45.73</td>\n      <td>46.54</td>\n      <td>46.77</td>\n      <td>45.30</td>\n      <td>9.24M</td>\n      <td>2.90%</td>\n      <td>京东</td>\n      <td>京东2</td>\n    </tr>\n    <tr>\n      <th>39</th>\n      <td>2023/2/28</td>\n      <td>JD</td>\n      <td>44.44</td>\n      <td>44.28</td>\n      <td>45.11</td>\n      <td>43.97</td>\n      <td>6.44M</td>\n      <td>-0.67%</td>\n      <td>京东</td>\n      <td>京东2</td>\n    </tr>\n    <tr>\n      <th>40</th>\n      <td>2023/3/27</td>\n      <td>BAIDU</td>\n      <td>149.50</td>\n      <td>156.90</td>\n      <td>157.00</td>\n      <td>147.40</td>\n      <td>15.52M</td>\n      <td>-3.17%</td>\n      <td>百度</td>\n      <td>百度2</td>\n    </tr>\n    <tr>\n      <th>41</th>\n      <td>2023/3/24</td>\n      <td>BAIDU</td>\n      <td>154.40</td>\n      <td>148.50</td>\n      <td>159.00</td>\n      <td>148.00</td>\n      <td>25.84M</td>\n      <td>2.32%</td>\n      <td>百度</td>\n      <td>百度2</td>\n    </tr>\n    <tr>\n      <th>42</th>\n      <td>2023/3/23</td>\n      <td>BAIDU</td>\n      <td>150.90</td>\n      <td>145.50</td>\n      <td>151.10</td>\n      <td>144.50</td>\n      <td>12.34M</td>\n      <td>2.79%</td>\n      <td>百度</td>\n      <td>百度2</td>\n    </tr>\n    <tr>\n      <th>43</th>\n      <td>2023/3/22</td>\n      <td>BAIDU</td>\n      <td>146.80</td>\n      <td>147.90</td>\n      <td>149.80</td>\n      <td>145.80</td>\n      <td>8.86M</td>\n      <td>-0.88%</td>\n      <td>百度</td>\n      <td>百度2</td>\n    </tr>\n    <tr>\n      <th>44</th>\n      <td>2023/3/21</td>\n      <td>BAIDU</td>\n      <td>148.10</td>\n      <td>146.20</td>\n      <td>149.30</td>\n      <td>143.50</td>\n      <td>13.13M</td>\n      <td>3.21%</td>\n      <td>百度</td>\n      <td>百度2</td>\n    </tr>\n    <tr>\n      <th>45</th>\n      <td>2023/3/20</td>\n      <td>BAIDU</td>\n      <td>143.50</td>\n      <td>146.50</td>\n      <td>148.00</td>\n      <td>141.70</td>\n      <td>16.03M</td>\n      <td>0.91%</td>\n      <td>百度</td>\n      <td>百度2</td>\n    </tr>\n    <tr>\n      <th>46</th>\n      <td>2023/3/17</td>\n      <td>BAIDU</td>\n      <td>142.20</td>\n      <td>135.00</td>\n      <td>146.00</td>\n      <td>134.00</td>\n      <td>32.59M</td>\n      <td>13.67%</td>\n      <td>百度</td>\n      <td>百度2</td>\n    </tr>\n    <tr>\n      <th>47</th>\n      <td>2023/3/16</td>\n      <td>BAIDU</td>\n      <td>125.10</td>\n      <td>131.30</td>\n      <td>134.40</td>\n      <td>120.10</td>\n      <td>24.31M</td>\n      <td>-6.36%</td>\n      <td>百度</td>\n      <td>百度2</td>\n    </tr>\n    <tr>\n      <th>48</th>\n      <td>2023/3/15</td>\n      <td>BAIDU</td>\n      <td>133.60</td>\n      <td>134.50</td>\n      <td>138.30</td>\n      <td>133.00</td>\n      <td>14.63M</td>\n      <td>3.57%</td>\n      <td>百度</td>\n      <td>百度2</td>\n    </tr>\n    <tr>\n      <th>49</th>\n      <td>2023/3/14</td>\n      <td>BAIDU</td>\n      <td>129.00</td>\n      <td>132.30</td>\n      <td>134.00</td>\n      <td>128.50</td>\n      <td>8.23M</td>\n      <td>-3.73%</td>\n      <td>百度</td>\n      <td>百度2</td>\n    </tr>\n    <tr>\n      <th>50</th>\n      <td>2023/3/13</td>\n      <td>BAIDU</td>\n      <td>134.00</td>\n      <td>131.50</td>\n      <td>136.70</td>\n      <td>129.00</td>\n      <td>11.66M</td>\n      <td>3.47%</td>\n      <td>百度</td>\n      <td>百度2</td>\n    </tr>\n    <tr>\n      <th>51</th>\n      <td>2023/3/10</td>\n      <td>BAIDU</td>\n      <td>129.50</td>\n      <td>128.20</td>\n      <td>131.10</td>\n      <td>128.00</td>\n      <td>20.86M</td>\n      <td>-5.89%</td>\n      <td>百度</td>\n      <td>百度2</td>\n    </tr>\n    <tr>\n      <th>52</th>\n      <td>2023/3/9</td>\n      <td>BAIDU</td>\n      <td>137.60</td>\n      <td>140.00</td>\n      <td>141.00</td>\n      <td>137.40</td>\n      <td>6.51M</td>\n      <td>-1.36%</td>\n      <td>百度</td>\n      <td>百度2</td>\n    </tr>\n    <tr>\n      <th>53</th>\n      <td>2023/3/8</td>\n      <td>BAIDU</td>\n      <td>139.50</td>\n      <td>141.10</td>\n      <td>141.50</td>\n      <td>137.60</td>\n      <td>7.68M</td>\n      <td>-3.26%</td>\n      <td>百度</td>\n      <td>百度2</td>\n    </tr>\n    <tr>\n      <th>54</th>\n      <td>2023/3/7</td>\n      <td>BAIDU</td>\n      <td>144.20</td>\n      <td>147.50</td>\n      <td>149.30</td>\n      <td>142.30</td>\n      <td>9.00M</td>\n      <td>-2.24%</td>\n      <td>百度</td>\n      <td>百度2</td>\n    </tr>\n    <tr>\n      <th>55</th>\n      <td>2023/3/6</td>\n      <td>BAIDU</td>\n      <td>147.50</td>\n      <td>149.40</td>\n      <td>150.00</td>\n      <td>145.70</td>\n      <td>9.97M</td>\n      <td>-1.27%</td>\n      <td>百度</td>\n      <td>百度2</td>\n    </tr>\n    <tr>\n      <th>56</th>\n      <td>2023/3/3</td>\n      <td>BAIDU</td>\n      <td>149.40</td>\n      <td>148.30</td>\n      <td>150.80</td>\n      <td>146.60</td>\n      <td>13.38M</td>\n      <td>5.29%</td>\n      <td>百度</td>\n      <td>百度2</td>\n    </tr>\n    <tr>\n      <th>57</th>\n      <td>2023/3/2</td>\n      <td>BAIDU</td>\n      <td>141.90</td>\n      <td>141.00</td>\n      <td>142.60</td>\n      <td>139.40</td>\n      <td>16.49M</td>\n      <td>-2.14%</td>\n      <td>百度</td>\n      <td>百度2</td>\n    </tr>\n    <tr>\n      <th>58</th>\n      <td>2023/3/1</td>\n      <td>BAIDU</td>\n      <td>145.00</td>\n      <td>135.00</td>\n      <td>146.90</td>\n      <td>135.00</td>\n      <td>17.88M</td>\n      <td>7.57%</td>\n      <td>百度</td>\n      <td>百度2</td>\n    </tr>\n    <tr>\n      <th>59</th>\n      <td>2023/2/28</td>\n      <td>BAIDU</td>\n      <td>134.80</td>\n      <td>137.00</td>\n      <td>138.50</td>\n      <td>134.00</td>\n      <td>12.43M</td>\n      <td>0.60%</td>\n      <td>百度</td>\n      <td>百度2</td>\n    </tr>\n  </tbody>\n</table>\n</div>"
     },
     "execution_count": 7,
     "metadata": {},
     "output_type": "execute_result"
    }
   ],
   "source": [
    "stock_df"
   ],
   "metadata": {
    "collapsed": false
   }
  },
  {
   "cell_type": "markdown",
   "source": [
    "## 2.apply用于Series和DataFrame的转换\n",
    "- `Series.apply(function)` 函数的参数是Series中的每个值\n",
    "- `DataFrame.apply(function)` 函数的参数就是Series\n",
    "\n",
    "\n",
    "**`Series.apply(function)`**\n",
    "function的参数就是Series中的每个值"
   ],
   "metadata": {
    "collapsed": false
   }
  },
  {
   "cell_type": "code",
   "execution_count": 8,
   "outputs": [],
   "source": [
    "stock_df['公司中文3'] = stock_df['公司'].apply(lambda d: dict_company_name.get(d.lower()) + '3')"
   ],
   "metadata": {
    "collapsed": false
   }
  },
  {
   "cell_type": "code",
   "execution_count": 9,
   "outputs": [
    {
     "data": {
      "text/plain": "          日期    公司     收盘     开盘      高      低     交易量     涨跌幅 公司中文1  公司中文2   \n0  2023/3/27  BABA  86.12  87.13  88.22  85.50  18.18M  -0.90%  阿里巴巴  阿里巴巴2  \\\n1  2023/3/24  BABA  86.90  85.87  88.11  85.63  20.35M   0.44%  阿里巴巴  阿里巴巴2   \n2  2023/3/23  BABA  86.52  87.68  88.38  85.26  26.79M   3.43%  阿里巴巴  阿里巴巴2   \n3  2023/3/22  BABA  83.65  84.84  85.39  83.51  21.08M  -0.06%  阿里巴巴  阿里巴巴2   \n4  2023/3/21  BABA  83.70  82.46  84.09  82.00  16.44M   3.33%  阿里巴巴  阿里巴巴2   \n\n   公司中文3  \n0  阿里巴巴3  \n1  阿里巴巴3  \n2  阿里巴巴3  \n3  阿里巴巴3  \n4  阿里巴巴3  ",
      "text/html": "<div>\n<style scoped>\n    .dataframe tbody tr th:only-of-type {\n        vertical-align: middle;\n    }\n\n    .dataframe tbody tr th {\n        vertical-align: top;\n    }\n\n    .dataframe thead th {\n        text-align: right;\n    }\n</style>\n<table border=\"1\" class=\"dataframe\">\n  <thead>\n    <tr style=\"text-align: right;\">\n      <th></th>\n      <th>日期</th>\n      <th>公司</th>\n      <th>收盘</th>\n      <th>开盘</th>\n      <th>高</th>\n      <th>低</th>\n      <th>交易量</th>\n      <th>涨跌幅</th>\n      <th>公司中文1</th>\n      <th>公司中文2</th>\n      <th>公司中文3</th>\n    </tr>\n  </thead>\n  <tbody>\n    <tr>\n      <th>0</th>\n      <td>2023/3/27</td>\n      <td>BABA</td>\n      <td>86.12</td>\n      <td>87.13</td>\n      <td>88.22</td>\n      <td>85.50</td>\n      <td>18.18M</td>\n      <td>-0.90%</td>\n      <td>阿里巴巴</td>\n      <td>阿里巴巴2</td>\n      <td>阿里巴巴3</td>\n    </tr>\n    <tr>\n      <th>1</th>\n      <td>2023/3/24</td>\n      <td>BABA</td>\n      <td>86.90</td>\n      <td>85.87</td>\n      <td>88.11</td>\n      <td>85.63</td>\n      <td>20.35M</td>\n      <td>0.44%</td>\n      <td>阿里巴巴</td>\n      <td>阿里巴巴2</td>\n      <td>阿里巴巴3</td>\n    </tr>\n    <tr>\n      <th>2</th>\n      <td>2023/3/23</td>\n      <td>BABA</td>\n      <td>86.52</td>\n      <td>87.68</td>\n      <td>88.38</td>\n      <td>85.26</td>\n      <td>26.79M</td>\n      <td>3.43%</td>\n      <td>阿里巴巴</td>\n      <td>阿里巴巴2</td>\n      <td>阿里巴巴3</td>\n    </tr>\n    <tr>\n      <th>3</th>\n      <td>2023/3/22</td>\n      <td>BABA</td>\n      <td>83.65</td>\n      <td>84.84</td>\n      <td>85.39</td>\n      <td>83.51</td>\n      <td>21.08M</td>\n      <td>-0.06%</td>\n      <td>阿里巴巴</td>\n      <td>阿里巴巴2</td>\n      <td>阿里巴巴3</td>\n    </tr>\n    <tr>\n      <th>4</th>\n      <td>2023/3/21</td>\n      <td>BABA</td>\n      <td>83.70</td>\n      <td>82.46</td>\n      <td>84.09</td>\n      <td>82.00</td>\n      <td>16.44M</td>\n      <td>3.33%</td>\n      <td>阿里巴巴</td>\n      <td>阿里巴巴2</td>\n      <td>阿里巴巴3</td>\n    </tr>\n  </tbody>\n</table>\n</div>"
     },
     "execution_count": 9,
     "metadata": {},
     "output_type": "execute_result"
    }
   ],
   "source": [
    "stock_df.head()"
   ],
   "metadata": {
    "collapsed": false
   }
  },
  {
   "cell_type": "markdown",
   "source": [
    "**`DataFrame.apply(function)`**\n",
    "function的参数对应洲的Series"
   ],
   "metadata": {
    "collapsed": false
   }
  },
  {
   "cell_type": "code",
   "execution_count": 10,
   "outputs": [],
   "source": [
    "stock_df['公司中文4'] = stock_df.apply(lambda s: dict_company_name.get(s['公司'].lower()) + '4', axis=1)"
   ],
   "metadata": {
    "collapsed": false
   }
  },
  {
   "cell_type": "markdown",
   "source": [
    "注意:\n",
    "1. apply是在stock_df这个DataFrame上调用的;\n",
    "2. lambda 上的参数s是一个Series, 这里因为指定了axis=1所以传入的数据为行的Series, 所以可以s['公司']进行获取;"
   ],
   "metadata": {
    "collapsed": false
   }
  },
  {
   "cell_type": "code",
   "execution_count": 11,
   "outputs": [
    {
     "data": {
      "text/plain": "          日期    公司     收盘     开盘      高      低     交易量     涨跌幅 公司中文1  公司中文2   \n0  2023/3/27  BABA  86.12  87.13  88.22  85.50  18.18M  -0.90%  阿里巴巴  阿里巴巴2  \\\n1  2023/3/24  BABA  86.90  85.87  88.11  85.63  20.35M   0.44%  阿里巴巴  阿里巴巴2   \n2  2023/3/23  BABA  86.52  87.68  88.38  85.26  26.79M   3.43%  阿里巴巴  阿里巴巴2   \n3  2023/3/22  BABA  83.65  84.84  85.39  83.51  21.08M  -0.06%  阿里巴巴  阿里巴巴2   \n4  2023/3/21  BABA  83.70  82.46  84.09  82.00  16.44M   3.33%  阿里巴巴  阿里巴巴2   \n\n   公司中文3  公司中文4  \n0  阿里巴巴3  阿里巴巴4  \n1  阿里巴巴3  阿里巴巴4  \n2  阿里巴巴3  阿里巴巴4  \n3  阿里巴巴3  阿里巴巴4  \n4  阿里巴巴3  阿里巴巴4  ",
      "text/html": "<div>\n<style scoped>\n    .dataframe tbody tr th:only-of-type {\n        vertical-align: middle;\n    }\n\n    .dataframe tbody tr th {\n        vertical-align: top;\n    }\n\n    .dataframe thead th {\n        text-align: right;\n    }\n</style>\n<table border=\"1\" class=\"dataframe\">\n  <thead>\n    <tr style=\"text-align: right;\">\n      <th></th>\n      <th>日期</th>\n      <th>公司</th>\n      <th>收盘</th>\n      <th>开盘</th>\n      <th>高</th>\n      <th>低</th>\n      <th>交易量</th>\n      <th>涨跌幅</th>\n      <th>公司中文1</th>\n      <th>公司中文2</th>\n      <th>公司中文3</th>\n      <th>公司中文4</th>\n    </tr>\n  </thead>\n  <tbody>\n    <tr>\n      <th>0</th>\n      <td>2023/3/27</td>\n      <td>BABA</td>\n      <td>86.12</td>\n      <td>87.13</td>\n      <td>88.22</td>\n      <td>85.50</td>\n      <td>18.18M</td>\n      <td>-0.90%</td>\n      <td>阿里巴巴</td>\n      <td>阿里巴巴2</td>\n      <td>阿里巴巴3</td>\n      <td>阿里巴巴4</td>\n    </tr>\n    <tr>\n      <th>1</th>\n      <td>2023/3/24</td>\n      <td>BABA</td>\n      <td>86.90</td>\n      <td>85.87</td>\n      <td>88.11</td>\n      <td>85.63</td>\n      <td>20.35M</td>\n      <td>0.44%</td>\n      <td>阿里巴巴</td>\n      <td>阿里巴巴2</td>\n      <td>阿里巴巴3</td>\n      <td>阿里巴巴4</td>\n    </tr>\n    <tr>\n      <th>2</th>\n      <td>2023/3/23</td>\n      <td>BABA</td>\n      <td>86.52</td>\n      <td>87.68</td>\n      <td>88.38</td>\n      <td>85.26</td>\n      <td>26.79M</td>\n      <td>3.43%</td>\n      <td>阿里巴巴</td>\n      <td>阿里巴巴2</td>\n      <td>阿里巴巴3</td>\n      <td>阿里巴巴4</td>\n    </tr>\n    <tr>\n      <th>3</th>\n      <td>2023/3/22</td>\n      <td>BABA</td>\n      <td>83.65</td>\n      <td>84.84</td>\n      <td>85.39</td>\n      <td>83.51</td>\n      <td>21.08M</td>\n      <td>-0.06%</td>\n      <td>阿里巴巴</td>\n      <td>阿里巴巴2</td>\n      <td>阿里巴巴3</td>\n      <td>阿里巴巴4</td>\n    </tr>\n    <tr>\n      <th>4</th>\n      <td>2023/3/21</td>\n      <td>BABA</td>\n      <td>83.70</td>\n      <td>82.46</td>\n      <td>84.09</td>\n      <td>82.00</td>\n      <td>16.44M</td>\n      <td>3.33%</td>\n      <td>阿里巴巴</td>\n      <td>阿里巴巴2</td>\n      <td>阿里巴巴3</td>\n      <td>阿里巴巴4</td>\n    </tr>\n  </tbody>\n</table>\n</div>"
     },
     "execution_count": 11,
     "metadata": {},
     "output_type": "execute_result"
    }
   ],
   "source": [
    "stock_df.head()"
   ],
   "metadata": {
    "collapsed": false
   }
  },
  {
   "cell_type": "markdown",
   "source": [
    "## 3. applymap用于DataFrame所有值的转换"
   ],
   "metadata": {
    "collapsed": false
   }
  },
  {
   "cell_type": "code",
   "execution_count": 12,
   "outputs": [],
   "source": [
    "sub_df = stock_df[['收盘', '开盘', '高', '低']]"
   ],
   "metadata": {
    "collapsed": false
   }
  },
  {
   "cell_type": "code",
   "execution_count": 13,
   "outputs": [
    {
     "data": {
      "text/plain": "      收盘     开盘      高      低\n0  86.12  87.13  88.22  85.50\n1  86.90  85.87  88.11  85.63\n2  86.52  87.68  88.38  85.26\n3  83.65  84.84  85.39  83.51\n4  83.70  82.46  84.09  82.00",
      "text/html": "<div>\n<style scoped>\n    .dataframe tbody tr th:only-of-type {\n        vertical-align: middle;\n    }\n\n    .dataframe tbody tr th {\n        vertical-align: top;\n    }\n\n    .dataframe thead th {\n        text-align: right;\n    }\n</style>\n<table border=\"1\" class=\"dataframe\">\n  <thead>\n    <tr style=\"text-align: right;\">\n      <th></th>\n      <th>收盘</th>\n      <th>开盘</th>\n      <th>高</th>\n      <th>低</th>\n    </tr>\n  </thead>\n  <tbody>\n    <tr>\n      <th>0</th>\n      <td>86.12</td>\n      <td>87.13</td>\n      <td>88.22</td>\n      <td>85.50</td>\n    </tr>\n    <tr>\n      <th>1</th>\n      <td>86.90</td>\n      <td>85.87</td>\n      <td>88.11</td>\n      <td>85.63</td>\n    </tr>\n    <tr>\n      <th>2</th>\n      <td>86.52</td>\n      <td>87.68</td>\n      <td>88.38</td>\n      <td>85.26</td>\n    </tr>\n    <tr>\n      <th>3</th>\n      <td>83.65</td>\n      <td>84.84</td>\n      <td>85.39</td>\n      <td>83.51</td>\n    </tr>\n    <tr>\n      <th>4</th>\n      <td>83.70</td>\n      <td>82.46</td>\n      <td>84.09</td>\n      <td>82.00</td>\n    </tr>\n  </tbody>\n</table>\n</div>"
     },
     "execution_count": 13,
     "metadata": {},
     "output_type": "execute_result"
    }
   ],
   "source": [
    "sub_df.head()"
   ],
   "metadata": {
    "collapsed": false
   }
  },
  {
   "cell_type": "code",
   "execution_count": 14,
   "outputs": [
    {
     "data": {
      "text/plain": "     收盘   开盘    高    低\n0    86   87   88   85\n1    86   85   88   85\n2    86   87   88   85\n3    83   84   85   83\n4    83   82   84   82\n5    81   80   81   79\n6    81   84   84   80\n7    82   81   82   80\n8    81   81   82   80\n9    83   82   83   82\n10   82   83   83   81\n11   82   82   84   82\n12   83   85   85   82\n13   86   87   87   86\n14   88   89   90   88\n15   89   89   91   88\n16   89   90   90   88\n17   89   88   90   87\n18   89   92   92   89\n19   87   88   89   87\n20   39   39   39   39\n21   40   39   40   39\n22   40   40   40   39\n23   38   39   39   38\n24   39   38   39   38\n25   38   38   39   37\n26   38   39   39   38\n27   39   39   40   38\n28   39   39   39   38\n29   40   39   40   39\n30   40   39   40   39\n31   40   40   41   40\n32   41   44   44   41\n33   46   45   47   45\n34   46   47   47   46\n35   47   47   48   47\n36   47   47   48   47\n37   47   45   47   45\n38   45   46   46   45\n39   44   44   45   43\n40  149  156  157  147\n41  154  148  159  148\n42  150  145  151  144\n43  146  147  149  145\n44  148  146  149  143\n45  143  146  148  141\n46  142  135  146  134\n47  125  131  134  120\n48  133  134  138  133\n49  129  132  134  128\n50  134  131  136  129\n51  129  128  131  128\n52  137  140  141  137\n53  139  141  141  137\n54  144  147  149  142\n55  147  149  150  145\n56  149  148  150  146\n57  141  141  142  139\n58  145  135  146  135\n59  134  137  138  134",
      "text/html": "<div>\n<style scoped>\n    .dataframe tbody tr th:only-of-type {\n        vertical-align: middle;\n    }\n\n    .dataframe tbody tr th {\n        vertical-align: top;\n    }\n\n    .dataframe thead th {\n        text-align: right;\n    }\n</style>\n<table border=\"1\" class=\"dataframe\">\n  <thead>\n    <tr style=\"text-align: right;\">\n      <th></th>\n      <th>收盘</th>\n      <th>开盘</th>\n      <th>高</th>\n      <th>低</th>\n    </tr>\n  </thead>\n  <tbody>\n    <tr>\n      <th>0</th>\n      <td>86</td>\n      <td>87</td>\n      <td>88</td>\n      <td>85</td>\n    </tr>\n    <tr>\n      <th>1</th>\n      <td>86</td>\n      <td>85</td>\n      <td>88</td>\n      <td>85</td>\n    </tr>\n    <tr>\n      <th>2</th>\n      <td>86</td>\n      <td>87</td>\n      <td>88</td>\n      <td>85</td>\n    </tr>\n    <tr>\n      <th>3</th>\n      <td>83</td>\n      <td>84</td>\n      <td>85</td>\n      <td>83</td>\n    </tr>\n    <tr>\n      <th>4</th>\n      <td>83</td>\n      <td>82</td>\n      <td>84</td>\n      <td>82</td>\n    </tr>\n    <tr>\n      <th>5</th>\n      <td>81</td>\n      <td>80</td>\n      <td>81</td>\n      <td>79</td>\n    </tr>\n    <tr>\n      <th>6</th>\n      <td>81</td>\n      <td>84</td>\n      <td>84</td>\n      <td>80</td>\n    </tr>\n    <tr>\n      <th>7</th>\n      <td>82</td>\n      <td>81</td>\n      <td>82</td>\n      <td>80</td>\n    </tr>\n    <tr>\n      <th>8</th>\n      <td>81</td>\n      <td>81</td>\n      <td>82</td>\n      <td>80</td>\n    </tr>\n    <tr>\n      <th>9</th>\n      <td>83</td>\n      <td>82</td>\n      <td>83</td>\n      <td>82</td>\n    </tr>\n    <tr>\n      <th>10</th>\n      <td>82</td>\n      <td>83</td>\n      <td>83</td>\n      <td>81</td>\n    </tr>\n    <tr>\n      <th>11</th>\n      <td>82</td>\n      <td>82</td>\n      <td>84</td>\n      <td>82</td>\n    </tr>\n    <tr>\n      <th>12</th>\n      <td>83</td>\n      <td>85</td>\n      <td>85</td>\n      <td>82</td>\n    </tr>\n    <tr>\n      <th>13</th>\n      <td>86</td>\n      <td>87</td>\n      <td>87</td>\n      <td>86</td>\n    </tr>\n    <tr>\n      <th>14</th>\n      <td>88</td>\n      <td>89</td>\n      <td>90</td>\n      <td>88</td>\n    </tr>\n    <tr>\n      <th>15</th>\n      <td>89</td>\n      <td>89</td>\n      <td>91</td>\n      <td>88</td>\n    </tr>\n    <tr>\n      <th>16</th>\n      <td>89</td>\n      <td>90</td>\n      <td>90</td>\n      <td>88</td>\n    </tr>\n    <tr>\n      <th>17</th>\n      <td>89</td>\n      <td>88</td>\n      <td>90</td>\n      <td>87</td>\n    </tr>\n    <tr>\n      <th>18</th>\n      <td>89</td>\n      <td>92</td>\n      <td>92</td>\n      <td>89</td>\n    </tr>\n    <tr>\n      <th>19</th>\n      <td>87</td>\n      <td>88</td>\n      <td>89</td>\n      <td>87</td>\n    </tr>\n    <tr>\n      <th>20</th>\n      <td>39</td>\n      <td>39</td>\n      <td>39</td>\n      <td>39</td>\n    </tr>\n    <tr>\n      <th>21</th>\n      <td>40</td>\n      <td>39</td>\n      <td>40</td>\n      <td>39</td>\n    </tr>\n    <tr>\n      <th>22</th>\n      <td>40</td>\n      <td>40</td>\n      <td>40</td>\n      <td>39</td>\n    </tr>\n    <tr>\n      <th>23</th>\n      <td>38</td>\n      <td>39</td>\n      <td>39</td>\n      <td>38</td>\n    </tr>\n    <tr>\n      <th>24</th>\n      <td>39</td>\n      <td>38</td>\n      <td>39</td>\n      <td>38</td>\n    </tr>\n    <tr>\n      <th>25</th>\n      <td>38</td>\n      <td>38</td>\n      <td>39</td>\n      <td>37</td>\n    </tr>\n    <tr>\n      <th>26</th>\n      <td>38</td>\n      <td>39</td>\n      <td>39</td>\n      <td>38</td>\n    </tr>\n    <tr>\n      <th>27</th>\n      <td>39</td>\n      <td>39</td>\n      <td>40</td>\n      <td>38</td>\n    </tr>\n    <tr>\n      <th>28</th>\n      <td>39</td>\n      <td>39</td>\n      <td>39</td>\n      <td>38</td>\n    </tr>\n    <tr>\n      <th>29</th>\n      <td>40</td>\n      <td>39</td>\n      <td>40</td>\n      <td>39</td>\n    </tr>\n    <tr>\n      <th>30</th>\n      <td>40</td>\n      <td>39</td>\n      <td>40</td>\n      <td>39</td>\n    </tr>\n    <tr>\n      <th>31</th>\n      <td>40</td>\n      <td>40</td>\n      <td>41</td>\n      <td>40</td>\n    </tr>\n    <tr>\n      <th>32</th>\n      <td>41</td>\n      <td>44</td>\n      <td>44</td>\n      <td>41</td>\n    </tr>\n    <tr>\n      <th>33</th>\n      <td>46</td>\n      <td>45</td>\n      <td>47</td>\n      <td>45</td>\n    </tr>\n    <tr>\n      <th>34</th>\n      <td>46</td>\n      <td>47</td>\n      <td>47</td>\n      <td>46</td>\n    </tr>\n    <tr>\n      <th>35</th>\n      <td>47</td>\n      <td>47</td>\n      <td>48</td>\n      <td>47</td>\n    </tr>\n    <tr>\n      <th>36</th>\n      <td>47</td>\n      <td>47</td>\n      <td>48</td>\n      <td>47</td>\n    </tr>\n    <tr>\n      <th>37</th>\n      <td>47</td>\n      <td>45</td>\n      <td>47</td>\n      <td>45</td>\n    </tr>\n    <tr>\n      <th>38</th>\n      <td>45</td>\n      <td>46</td>\n      <td>46</td>\n      <td>45</td>\n    </tr>\n    <tr>\n      <th>39</th>\n      <td>44</td>\n      <td>44</td>\n      <td>45</td>\n      <td>43</td>\n    </tr>\n    <tr>\n      <th>40</th>\n      <td>149</td>\n      <td>156</td>\n      <td>157</td>\n      <td>147</td>\n    </tr>\n    <tr>\n      <th>41</th>\n      <td>154</td>\n      <td>148</td>\n      <td>159</td>\n      <td>148</td>\n    </tr>\n    <tr>\n      <th>42</th>\n      <td>150</td>\n      <td>145</td>\n      <td>151</td>\n      <td>144</td>\n    </tr>\n    <tr>\n      <th>43</th>\n      <td>146</td>\n      <td>147</td>\n      <td>149</td>\n      <td>145</td>\n    </tr>\n    <tr>\n      <th>44</th>\n      <td>148</td>\n      <td>146</td>\n      <td>149</td>\n      <td>143</td>\n    </tr>\n    <tr>\n      <th>45</th>\n      <td>143</td>\n      <td>146</td>\n      <td>148</td>\n      <td>141</td>\n    </tr>\n    <tr>\n      <th>46</th>\n      <td>142</td>\n      <td>135</td>\n      <td>146</td>\n      <td>134</td>\n    </tr>\n    <tr>\n      <th>47</th>\n      <td>125</td>\n      <td>131</td>\n      <td>134</td>\n      <td>120</td>\n    </tr>\n    <tr>\n      <th>48</th>\n      <td>133</td>\n      <td>134</td>\n      <td>138</td>\n      <td>133</td>\n    </tr>\n    <tr>\n      <th>49</th>\n      <td>129</td>\n      <td>132</td>\n      <td>134</td>\n      <td>128</td>\n    </tr>\n    <tr>\n      <th>50</th>\n      <td>134</td>\n      <td>131</td>\n      <td>136</td>\n      <td>129</td>\n    </tr>\n    <tr>\n      <th>51</th>\n      <td>129</td>\n      <td>128</td>\n      <td>131</td>\n      <td>128</td>\n    </tr>\n    <tr>\n      <th>52</th>\n      <td>137</td>\n      <td>140</td>\n      <td>141</td>\n      <td>137</td>\n    </tr>\n    <tr>\n      <th>53</th>\n      <td>139</td>\n      <td>141</td>\n      <td>141</td>\n      <td>137</td>\n    </tr>\n    <tr>\n      <th>54</th>\n      <td>144</td>\n      <td>147</td>\n      <td>149</td>\n      <td>142</td>\n    </tr>\n    <tr>\n      <th>55</th>\n      <td>147</td>\n      <td>149</td>\n      <td>150</td>\n      <td>145</td>\n    </tr>\n    <tr>\n      <th>56</th>\n      <td>149</td>\n      <td>148</td>\n      <td>150</td>\n      <td>146</td>\n    </tr>\n    <tr>\n      <th>57</th>\n      <td>141</td>\n      <td>141</td>\n      <td>142</td>\n      <td>139</td>\n    </tr>\n    <tr>\n      <th>58</th>\n      <td>145</td>\n      <td>135</td>\n      <td>146</td>\n      <td>135</td>\n    </tr>\n    <tr>\n      <th>59</th>\n      <td>134</td>\n      <td>137</td>\n      <td>138</td>\n      <td>134</td>\n    </tr>\n  </tbody>\n</table>\n</div>"
     },
     "execution_count": 14,
     "metadata": {},
     "output_type": "execute_result"
    }
   ],
   "source": [
    "# 将这些数字取整数, 应用于所有元素\n",
    "sub_df.applymap(lambda s: int(s))"
   ],
   "metadata": {
    "collapsed": false
   }
  },
  {
   "cell_type": "markdown",
   "source": [
    "注意:\n",
    "DataFrame.applymap(function) 函数在调用自定义函数时传入的入参为每一个Series的元素"
   ],
   "metadata": {
    "collapsed": false
   }
  },
  {
   "cell_type": "code",
   "execution_count": 15,
   "outputs": [],
   "source": [
    "# 替换原来数据的值\n",
    "stock_df.loc[:, ['收盘', '开盘', '高', '低']] = sub_df.applymap(lambda s: int(s))"
   ],
   "metadata": {
    "collapsed": false
   }
  },
  {
   "cell_type": "code",
   "execution_count": 16,
   "outputs": [
    {
     "data": {
      "text/plain": "          日期    公司    收盘    开盘     高     低     交易量     涨跌幅 公司中文1  公司中文2   \n0  2023/3/27  BABA  86.0  87.0  88.0  85.0  18.18M  -0.90%  阿里巴巴  阿里巴巴2  \\\n1  2023/3/24  BABA  86.0  85.0  88.0  85.0  20.35M   0.44%  阿里巴巴  阿里巴巴2   \n2  2023/3/23  BABA  86.0  87.0  88.0  85.0  26.79M   3.43%  阿里巴巴  阿里巴巴2   \n3  2023/3/22  BABA  83.0  84.0  85.0  83.0  21.08M  -0.06%  阿里巴巴  阿里巴巴2   \n4  2023/3/21  BABA  83.0  82.0  84.0  82.0  16.44M   3.33%  阿里巴巴  阿里巴巴2   \n\n   公司中文3  公司中文4  \n0  阿里巴巴3  阿里巴巴4  \n1  阿里巴巴3  阿里巴巴4  \n2  阿里巴巴3  阿里巴巴4  \n3  阿里巴巴3  阿里巴巴4  \n4  阿里巴巴3  阿里巴巴4  ",
      "text/html": "<div>\n<style scoped>\n    .dataframe tbody tr th:only-of-type {\n        vertical-align: middle;\n    }\n\n    .dataframe tbody tr th {\n        vertical-align: top;\n    }\n\n    .dataframe thead th {\n        text-align: right;\n    }\n</style>\n<table border=\"1\" class=\"dataframe\">\n  <thead>\n    <tr style=\"text-align: right;\">\n      <th></th>\n      <th>日期</th>\n      <th>公司</th>\n      <th>收盘</th>\n      <th>开盘</th>\n      <th>高</th>\n      <th>低</th>\n      <th>交易量</th>\n      <th>涨跌幅</th>\n      <th>公司中文1</th>\n      <th>公司中文2</th>\n      <th>公司中文3</th>\n      <th>公司中文4</th>\n    </tr>\n  </thead>\n  <tbody>\n    <tr>\n      <th>0</th>\n      <td>2023/3/27</td>\n      <td>BABA</td>\n      <td>86.0</td>\n      <td>87.0</td>\n      <td>88.0</td>\n      <td>85.0</td>\n      <td>18.18M</td>\n      <td>-0.90%</td>\n      <td>阿里巴巴</td>\n      <td>阿里巴巴2</td>\n      <td>阿里巴巴3</td>\n      <td>阿里巴巴4</td>\n    </tr>\n    <tr>\n      <th>1</th>\n      <td>2023/3/24</td>\n      <td>BABA</td>\n      <td>86.0</td>\n      <td>85.0</td>\n      <td>88.0</td>\n      <td>85.0</td>\n      <td>20.35M</td>\n      <td>0.44%</td>\n      <td>阿里巴巴</td>\n      <td>阿里巴巴2</td>\n      <td>阿里巴巴3</td>\n      <td>阿里巴巴4</td>\n    </tr>\n    <tr>\n      <th>2</th>\n      <td>2023/3/23</td>\n      <td>BABA</td>\n      <td>86.0</td>\n      <td>87.0</td>\n      <td>88.0</td>\n      <td>85.0</td>\n      <td>26.79M</td>\n      <td>3.43%</td>\n      <td>阿里巴巴</td>\n      <td>阿里巴巴2</td>\n      <td>阿里巴巴3</td>\n      <td>阿里巴巴4</td>\n    </tr>\n    <tr>\n      <th>3</th>\n      <td>2023/3/22</td>\n      <td>BABA</td>\n      <td>83.0</td>\n      <td>84.0</td>\n      <td>85.0</td>\n      <td>83.0</td>\n      <td>21.08M</td>\n      <td>-0.06%</td>\n      <td>阿里巴巴</td>\n      <td>阿里巴巴2</td>\n      <td>阿里巴巴3</td>\n      <td>阿里巴巴4</td>\n    </tr>\n    <tr>\n      <th>4</th>\n      <td>2023/3/21</td>\n      <td>BABA</td>\n      <td>83.0</td>\n      <td>82.0</td>\n      <td>84.0</td>\n      <td>82.0</td>\n      <td>16.44M</td>\n      <td>3.33%</td>\n      <td>阿里巴巴</td>\n      <td>阿里巴巴2</td>\n      <td>阿里巴巴3</td>\n      <td>阿里巴巴4</td>\n    </tr>\n  </tbody>\n</table>\n</div>"
     },
     "execution_count": 16,
     "metadata": {},
     "output_type": "execute_result"
    }
   ],
   "source": [
    "stock_df.head()"
   ],
   "metadata": {
    "collapsed": false
   }
  }
 ],
 "metadata": {
  "kernelspec": {
   "display_name": "Python 3",
   "language": "python",
   "name": "python3"
  },
  "language_info": {
   "codemirror_mode": {
    "name": "ipython",
    "version": 2
   },
   "file_extension": ".py",
   "mimetype": "text/x-python",
   "name": "python",
   "nbconvert_exporter": "python",
   "pygments_lexer": "ipython2",
   "version": "2.7.6"
  }
 },
 "nbformat": 4,
 "nbformat_minor": 0
}
