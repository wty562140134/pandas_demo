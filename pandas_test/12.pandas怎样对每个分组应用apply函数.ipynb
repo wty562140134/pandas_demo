{
 "cells": [
  {
   "cell_type": "markdown",
   "source": [
    "# pandas怎样对每个分组应用apply函数\n",
    "**知识点: pandas的groupby遵从split、 apply、 combine模式**"
   ],
   "metadata": {
    "collapsed": false
   }
  },
  {
   "cell_type": "markdown",
   "source": [
    "<img src='./image/groupby_model.png'>"
   ],
   "metadata": {
    "collapsed": false
   }
  },
  {
   "cell_type": "markdown",
   "source": [
    "这里的split值得是pandas的groupby, 我们自己实现apply函数, apply返回的结果有pandas进行combine得到结果\n",
    "\n",
    "**`GroupBy.apply(function)`**\n",
    "- function的第一参数是DataFrame\n",
    "- function的返回结果, 可以是DataFrame、 Series、 单个值和输入的DataFrame完全没关系\n",
    "\n",
    "**本次示例:**\n",
    "1. 怎样对数值列先分组然后进行归一化\n",
    "2. 怎样取每个分组的TOPN数据"
   ],
   "metadata": {
    "collapsed": false
   }
  },
  {
   "cell_type": "markdown",
   "source": [
    "## 实例1: 怎样对数值案列分组归一化\n",
    "将不同范围的数值列进行归一化, 映射到[0, 1]区间:\n",
    "- 更容易做数据横向对比, 比如价格字段是几百到几千, 增幅字段是0到100\n",
    "- 机器学习模型学的更快性能更好\n",
    "\n",
    "归一化的公式:\n",
    "<img src=\"./image/Normalization_Formula.png\">"
   ],
   "metadata": {
    "collapsed": false
   }
  },
  {
   "cell_type": "markdown",
   "source": [
    "**演示: 用户对电影评分的归一化**\n",
    "每个用户的评分不同, 有的乐观评分高, 有的悲观评分低, 按用户做归一化"
   ],
   "metadata": {
    "collapsed": false
   }
  },
  {
   "cell_type": "code",
   "execution_count": 1,
   "outputs": [],
   "source": [
    "import pandas as pd"
   ],
   "metadata": {
    "collapsed": false
   }
  },
  {
   "cell_type": "code",
   "execution_count": 2,
   "outputs": [],
   "source": [
    "ratings = pd.read_csv('./data/movies/ratings.csv')"
   ],
   "metadata": {
    "collapsed": false
   }
  },
  {
   "cell_type": "code",
   "execution_count": 3,
   "outputs": [
    {
     "data": {
      "text/plain": "   userId  movieId  rating  timestamp\n0       1        1     4.0  964982703\n1       1        3     4.0  964981247\n2       1        6     4.0  964982224\n3       1       47     5.0  964983815\n4       1       50     5.0  964982931",
      "text/html": "<div>\n<style scoped>\n    .dataframe tbody tr th:only-of-type {\n        vertical-align: middle;\n    }\n\n    .dataframe tbody tr th {\n        vertical-align: top;\n    }\n\n    .dataframe thead th {\n        text-align: right;\n    }\n</style>\n<table border=\"1\" class=\"dataframe\">\n  <thead>\n    <tr style=\"text-align: right;\">\n      <th></th>\n      <th>userId</th>\n      <th>movieId</th>\n      <th>rating</th>\n      <th>timestamp</th>\n    </tr>\n  </thead>\n  <tbody>\n    <tr>\n      <th>0</th>\n      <td>1</td>\n      <td>1</td>\n      <td>4.0</td>\n      <td>964982703</td>\n    </tr>\n    <tr>\n      <th>1</th>\n      <td>1</td>\n      <td>3</td>\n      <td>4.0</td>\n      <td>964981247</td>\n    </tr>\n    <tr>\n      <th>2</th>\n      <td>1</td>\n      <td>6</td>\n      <td>4.0</td>\n      <td>964982224</td>\n    </tr>\n    <tr>\n      <th>3</th>\n      <td>1</td>\n      <td>47</td>\n      <td>5.0</td>\n      <td>964983815</td>\n    </tr>\n    <tr>\n      <th>4</th>\n      <td>1</td>\n      <td>50</td>\n      <td>5.0</td>\n      <td>964982931</td>\n    </tr>\n  </tbody>\n</table>\n</div>"
     },
     "execution_count": 3,
     "metadata": {},
     "output_type": "execute_result"
    }
   ],
   "source": [
    "ratings.head()"
   ],
   "metadata": {
    "collapsed": false
   }
  },
  {
   "cell_type": "code",
   "execution_count": 4,
   "outputs": [],
   "source": [
    "from pandas import DataFrame\n",
    "\n",
    "\n",
    "# 实现安装用户ID分组, 然后对其中一列归一化\n",
    "def ratings_norm(df: DataFrame):\n",
    "    min_value = df['rating'].min()\n",
    "    max_value = df['rating'].max()\n",
    "    df['rating_norm'] = df['rating'].apply(lambda d: (d - min_value) / (max_value - min_value))\n",
    "    return df\n",
    "\n",
    "\n",
    "ratings = ratings.groupby(by='userId').apply(ratings_norm)"
   ],
   "metadata": {
    "collapsed": false
   }
  },
  {
   "cell_type": "code",
   "execution_count": 5,
   "outputs": [
    {
     "data": {
      "text/plain": "          userId  movieId  rating  timestamp  rating_norm\nuserId                                                   \n1      0       1        1     4.0  964982703         0.75\n       1       1        3     4.0  964981247         0.75\n       2       1        6     4.0  964982224         0.75\n       3       1       47     5.0  964983815         1.00\n       4       1       50     5.0  964982931         1.00",
      "text/html": "<div>\n<style scoped>\n    .dataframe tbody tr th:only-of-type {\n        vertical-align: middle;\n    }\n\n    .dataframe tbody tr th {\n        vertical-align: top;\n    }\n\n    .dataframe thead th {\n        text-align: right;\n    }\n</style>\n<table border=\"1\" class=\"dataframe\">\n  <thead>\n    <tr style=\"text-align: right;\">\n      <th></th>\n      <th></th>\n      <th>userId</th>\n      <th>movieId</th>\n      <th>rating</th>\n      <th>timestamp</th>\n      <th>rating_norm</th>\n    </tr>\n    <tr>\n      <th>userId</th>\n      <th></th>\n      <th></th>\n      <th></th>\n      <th></th>\n      <th></th>\n      <th></th>\n    </tr>\n  </thead>\n  <tbody>\n    <tr>\n      <th rowspan=\"5\" valign=\"top\">1</th>\n      <th>0</th>\n      <td>1</td>\n      <td>1</td>\n      <td>4.0</td>\n      <td>964982703</td>\n      <td>0.75</td>\n    </tr>\n    <tr>\n      <th>1</th>\n      <td>1</td>\n      <td>3</td>\n      <td>4.0</td>\n      <td>964981247</td>\n      <td>0.75</td>\n    </tr>\n    <tr>\n      <th>2</th>\n      <td>1</td>\n      <td>6</td>\n      <td>4.0</td>\n      <td>964982224</td>\n      <td>0.75</td>\n    </tr>\n    <tr>\n      <th>3</th>\n      <td>1</td>\n      <td>47</td>\n      <td>5.0</td>\n      <td>964983815</td>\n      <td>1.00</td>\n    </tr>\n    <tr>\n      <th>4</th>\n      <td>1</td>\n      <td>50</td>\n      <td>5.0</td>\n      <td>964982931</td>\n      <td>1.00</td>\n    </tr>\n  </tbody>\n</table>\n</div>"
     },
     "execution_count": 5,
     "metadata": {},
     "output_type": "execute_result"
    }
   ],
   "source": [
    "ratings[ratings['userId'] == 1].head()"
   ],
   "metadata": {
    "collapsed": false
   }
  },
  {
   "cell_type": "markdown",
   "source": [
    "可以看到userId==1这个用户, rating==4.0是他的最低分, 是个乐观派, 我们归一化为0.\n",
    "## 实例2. 怎样取没个分组的TOPN数据\n",
    "获取2018年每个月温度最高的2天数据"
   ],
   "metadata": {
    "collapsed": false
   }
  },
  {
   "cell_type": "code",
   "execution_count": 6,
   "outputs": [
    {
     "data": {
      "text/plain": "              日期  最高温   最低温    天气             风力风向 空气质量指数\n0  2011-01-01 周六  -2°   -7°  多云~阴          无持续风向微风    NaN\n1  2011-01-02 周日  -2°   -7°    多云          无持续风向微风    NaN\n2  2011-01-03 周一  -2°   -6°  多云~阴  西北风~北风3-4级~4-5级    NaN\n3  2011-01-04 周二  -2°   -9°     晴           北风5-6级    NaN\n4  2011-01-05 周三  -2°  -10°     晴  北风~无持续风向3-4级~微风    NaN",
      "text/html": "<div>\n<style scoped>\n    .dataframe tbody tr th:only-of-type {\n        vertical-align: middle;\n    }\n\n    .dataframe tbody tr th {\n        vertical-align: top;\n    }\n\n    .dataframe thead th {\n        text-align: right;\n    }\n</style>\n<table border=\"1\" class=\"dataframe\">\n  <thead>\n    <tr style=\"text-align: right;\">\n      <th></th>\n      <th>日期</th>\n      <th>最高温</th>\n      <th>最低温</th>\n      <th>天气</th>\n      <th>风力风向</th>\n      <th>空气质量指数</th>\n    </tr>\n  </thead>\n  <tbody>\n    <tr>\n      <th>0</th>\n      <td>2011-01-01 周六</td>\n      <td>-2°</td>\n      <td>-7°</td>\n      <td>多云~阴</td>\n      <td>无持续风向微风</td>\n      <td>NaN</td>\n    </tr>\n    <tr>\n      <th>1</th>\n      <td>2011-01-02 周日</td>\n      <td>-2°</td>\n      <td>-7°</td>\n      <td>多云</td>\n      <td>无持续风向微风</td>\n      <td>NaN</td>\n    </tr>\n    <tr>\n      <th>2</th>\n      <td>2011-01-03 周一</td>\n      <td>-2°</td>\n      <td>-6°</td>\n      <td>多云~阴</td>\n      <td>西北风~北风3-4级~4-5级</td>\n      <td>NaN</td>\n    </tr>\n    <tr>\n      <th>3</th>\n      <td>2011-01-04 周二</td>\n      <td>-2°</td>\n      <td>-9°</td>\n      <td>晴</td>\n      <td>北风5-6级</td>\n      <td>NaN</td>\n    </tr>\n    <tr>\n      <th>4</th>\n      <td>2011-01-05 周三</td>\n      <td>-2°</td>\n      <td>-10°</td>\n      <td>晴</td>\n      <td>北风~无持续风向3-4级~微风</td>\n      <td>NaN</td>\n    </tr>\n  </tbody>\n</table>\n</div>"
     },
     "execution_count": 6,
     "metadata": {},
     "output_type": "execute_result"
    }
   ],
   "source": [
    "weather_df = pd.read_excel('./data/weather/weater_beijing.xlsx')\n",
    "weather_df.head()"
   ],
   "metadata": {
    "collapsed": false
   }
  },
  {
   "cell_type": "code",
   "execution_count": 7,
   "outputs": [],
   "source": [
    "weather_df['最高温'].fillna('0', inplace=True)\n",
    "weather_df.loc[:, '最高温'] = weather_df['最高温'].str.replace('°', '').replace('', '0')\n",
    "weather_df.loc[:, '最高温'] = weather_df['最高温'].astype('int32')"
   ],
   "metadata": {
    "collapsed": false
   }
  },
  {
   "cell_type": "code",
   "execution_count": 8,
   "outputs": [],
   "source": [
    "weather_df['最低温'].fillna('0', inplace=True)\n",
    "weather_df.loc[:, '最低温'] = weather_df['最低温'].str.replace('°', '').replace('', '0')\n",
    "weather_df.loc[:, '最低温'] = weather_df['最低温'].astype('int32')"
   ],
   "metadata": {
    "collapsed": false
   }
  },
  {
   "cell_type": "code",
   "execution_count": 9,
   "outputs": [
    {
     "data": {
      "text/plain": "              日期 最高温  最低温    天气             风力风向 空气质量指数\n0  2011-01-01 周六  -2   -7  多云~阴          无持续风向微风    NaN\n1  2011-01-02 周日  -2   -7    多云          无持续风向微风    NaN\n2  2011-01-03 周一  -2   -6  多云~阴  西北风~北风3-4级~4-5级    NaN\n3  2011-01-04 周二  -2   -9     晴           北风5-6级    NaN\n4  2011-01-05 周三  -2  -10     晴  北风~无持续风向3-4级~微风    NaN",
      "text/html": "<div>\n<style scoped>\n    .dataframe tbody tr th:only-of-type {\n        vertical-align: middle;\n    }\n\n    .dataframe tbody tr th {\n        vertical-align: top;\n    }\n\n    .dataframe thead th {\n        text-align: right;\n    }\n</style>\n<table border=\"1\" class=\"dataframe\">\n  <thead>\n    <tr style=\"text-align: right;\">\n      <th></th>\n      <th>日期</th>\n      <th>最高温</th>\n      <th>最低温</th>\n      <th>天气</th>\n      <th>风力风向</th>\n      <th>空气质量指数</th>\n    </tr>\n  </thead>\n  <tbody>\n    <tr>\n      <th>0</th>\n      <td>2011-01-01 周六</td>\n      <td>-2</td>\n      <td>-7</td>\n      <td>多云~阴</td>\n      <td>无持续风向微风</td>\n      <td>NaN</td>\n    </tr>\n    <tr>\n      <th>1</th>\n      <td>2011-01-02 周日</td>\n      <td>-2</td>\n      <td>-7</td>\n      <td>多云</td>\n      <td>无持续风向微风</td>\n      <td>NaN</td>\n    </tr>\n    <tr>\n      <th>2</th>\n      <td>2011-01-03 周一</td>\n      <td>-2</td>\n      <td>-6</td>\n      <td>多云~阴</td>\n      <td>西北风~北风3-4级~4-5级</td>\n      <td>NaN</td>\n    </tr>\n    <tr>\n      <th>3</th>\n      <td>2011-01-04 周二</td>\n      <td>-2</td>\n      <td>-9</td>\n      <td>晴</td>\n      <td>北风5-6级</td>\n      <td>NaN</td>\n    </tr>\n    <tr>\n      <th>4</th>\n      <td>2011-01-05 周三</td>\n      <td>-2</td>\n      <td>-10</td>\n      <td>晴</td>\n      <td>北风~无持续风向3-4级~微风</td>\n      <td>NaN</td>\n    </tr>\n  </tbody>\n</table>\n</div>"
     },
     "execution_count": 9,
     "metadata": {},
     "output_type": "execute_result"
    }
   ],
   "source": [
    "weather_df.head()"
   ],
   "metadata": {
    "collapsed": false
   }
  },
  {
   "cell_type": "code",
   "execution_count": 10,
   "outputs": [
    {
     "data": {
      "text/plain": "              日期 最高温  最低温    天气             风力风向 空气质量指数       月份\n0  2011-01-01 周六  -2   -7  多云~阴          无持续风向微风    NaN  2011-01\n1  2011-01-02 周日  -2   -7    多云          无持续风向微风    NaN  2011-01\n2  2011-01-03 周一  -2   -6  多云~阴  西北风~北风3-4级~4-5级    NaN  2011-01\n3  2011-01-04 周二  -2   -9     晴           北风5-6级    NaN  2011-01\n4  2011-01-05 周三  -2  -10     晴  北风~无持续风向3-4级~微风    NaN  2011-01",
      "text/html": "<div>\n<style scoped>\n    .dataframe tbody tr th:only-of-type {\n        vertical-align: middle;\n    }\n\n    .dataframe tbody tr th {\n        vertical-align: top;\n    }\n\n    .dataframe thead th {\n        text-align: right;\n    }\n</style>\n<table border=\"1\" class=\"dataframe\">\n  <thead>\n    <tr style=\"text-align: right;\">\n      <th></th>\n      <th>日期</th>\n      <th>最高温</th>\n      <th>最低温</th>\n      <th>天气</th>\n      <th>风力风向</th>\n      <th>空气质量指数</th>\n      <th>月份</th>\n    </tr>\n  </thead>\n  <tbody>\n    <tr>\n      <th>0</th>\n      <td>2011-01-01 周六</td>\n      <td>-2</td>\n      <td>-7</td>\n      <td>多云~阴</td>\n      <td>无持续风向微风</td>\n      <td>NaN</td>\n      <td>2011-01</td>\n    </tr>\n    <tr>\n      <th>1</th>\n      <td>2011-01-02 周日</td>\n      <td>-2</td>\n      <td>-7</td>\n      <td>多云</td>\n      <td>无持续风向微风</td>\n      <td>NaN</td>\n      <td>2011-01</td>\n    </tr>\n    <tr>\n      <th>2</th>\n      <td>2011-01-03 周一</td>\n      <td>-2</td>\n      <td>-6</td>\n      <td>多云~阴</td>\n      <td>西北风~北风3-4级~4-5级</td>\n      <td>NaN</td>\n      <td>2011-01</td>\n    </tr>\n    <tr>\n      <th>3</th>\n      <td>2011-01-04 周二</td>\n      <td>-2</td>\n      <td>-9</td>\n      <td>晴</td>\n      <td>北风5-6级</td>\n      <td>NaN</td>\n      <td>2011-01</td>\n    </tr>\n    <tr>\n      <th>4</th>\n      <td>2011-01-05 周三</td>\n      <td>-2</td>\n      <td>-10</td>\n      <td>晴</td>\n      <td>北风~无持续风向3-4级~微风</td>\n      <td>NaN</td>\n      <td>2011-01</td>\n    </tr>\n  </tbody>\n</table>\n</div>"
     },
     "execution_count": 10,
     "metadata": {},
     "output_type": "execute_result"
    }
   ],
   "source": [
    "# 新增一列为月份\n",
    "weather_df['月份'] = weather_df['日期'].str[:7]\n",
    "weather_df.head()"
   ],
   "metadata": {
    "collapsed": false
   }
  },
  {
   "cell_type": "code",
   "execution_count": 11,
   "outputs": [],
   "source": [
    "def get_wendu_topn(df: DataFrame, topn: int):\n",
    "    \"\"\"\n",
    "    获取温度最高的topn\n",
    "\n",
    "    Args:\n",
    "        df (): 每个月份分组group的DataFrame\n",
    "        topn ():\n",
    "\n",
    "    Returns:\n",
    "\n",
    "    \"\"\"\n",
    "    # 把数据更具最高温\n",
    "    sort_data = df.sort_values(by='最高温')\n",
    "    return sort_data[['日期', '最高温']][-topn:]\n",
    "\n",
    "\n",
    "result = weather_df.groupby('月份').apply(get_wendu_topn, topn=2)"
   ],
   "metadata": {
    "collapsed": false
   }
  },
  {
   "cell_type": "code",
   "execution_count": 12,
   "outputs": [
    {
     "data": {
      "text/plain": "                       日期 最高温\n月份                           \n2011-01 18  2011-01-30 周日   3\n        19  2011-01-31 周一   7\n2011-02 38  2011-02-19 周六  10\n        43  2011-02-24 周四  11\n2011-03 77  2011-03-30 周三  22",
      "text/html": "<div>\n<style scoped>\n    .dataframe tbody tr th:only-of-type {\n        vertical-align: middle;\n    }\n\n    .dataframe tbody tr th {\n        vertical-align: top;\n    }\n\n    .dataframe thead th {\n        text-align: right;\n    }\n</style>\n<table border=\"1\" class=\"dataframe\">\n  <thead>\n    <tr style=\"text-align: right;\">\n      <th></th>\n      <th></th>\n      <th>日期</th>\n      <th>最高温</th>\n    </tr>\n    <tr>\n      <th>月份</th>\n      <th></th>\n      <th></th>\n      <th></th>\n    </tr>\n  </thead>\n  <tbody>\n    <tr>\n      <th rowspan=\"2\" valign=\"top\">2011-01</th>\n      <th>18</th>\n      <td>2011-01-30 周日</td>\n      <td>3</td>\n    </tr>\n    <tr>\n      <th>19</th>\n      <td>2011-01-31 周一</td>\n      <td>7</td>\n    </tr>\n    <tr>\n      <th rowspan=\"2\" valign=\"top\">2011-02</th>\n      <th>38</th>\n      <td>2011-02-19 周六</td>\n      <td>10</td>\n    </tr>\n    <tr>\n      <th>43</th>\n      <td>2011-02-24 周四</td>\n      <td>11</td>\n    </tr>\n    <tr>\n      <th>2011-03</th>\n      <th>77</th>\n      <td>2011-03-30 周三</td>\n      <td>22</td>\n    </tr>\n  </tbody>\n</table>\n</div>"
     },
     "execution_count": 12,
     "metadata": {},
     "output_type": "execute_result"
    }
   ],
   "source": [
    "result.head()"
   ],
   "metadata": {
    "collapsed": false
   }
  },
  {
   "cell_type": "code",
   "execution_count": 13,
   "outputs": [
    {
     "name": "stdout",
     "output_type": "stream",
     "text": [
      "日期\n",
      "最高温\n"
     ]
    }
   ],
   "source": [
    "for i in result:\n",
    "    print(i)"
   ],
   "metadata": {
    "collapsed": false
   }
  },
  {
   "cell_type": "code",
   "execution_count": 34,
   "outputs": [],
   "source": [
    "r = result.loc['2011-01']"
   ],
   "metadata": {
    "collapsed": false
   }
  },
  {
   "cell_type": "code",
   "execution_count": 37,
   "outputs": [
    {
     "data": {
      "text/plain": "               日期 最高温\n18  2011-01-30 周日   3",
      "text/html": "<div>\n<style scoped>\n    .dataframe tbody tr th:only-of-type {\n        vertical-align: middle;\n    }\n\n    .dataframe tbody tr th {\n        vertical-align: top;\n    }\n\n    .dataframe thead th {\n        text-align: right;\n    }\n</style>\n<table border=\"1\" class=\"dataframe\">\n  <thead>\n    <tr style=\"text-align: right;\">\n      <th></th>\n      <th>日期</th>\n      <th>最高温</th>\n    </tr>\n  </thead>\n  <tbody>\n    <tr>\n      <th>18</th>\n      <td>2011-01-30 周日</td>\n      <td>3</td>\n    </tr>\n  </tbody>\n</table>\n</div>"
     },
     "execution_count": 37,
     "metadata": {},
     "output_type": "execute_result"
    }
   ],
   "source": [
    "r.loc[r.index==18]"
   ],
   "metadata": {
    "collapsed": false
   }
  }
 ],
 "metadata": {
  "kernelspec": {
   "display_name": "Python 3",
   "language": "python",
   "name": "python3"
  },
  "language_info": {
   "codemirror_mode": {
    "name": "ipython",
    "version": 2
   },
   "file_extension": ".py",
   "mimetype": "text/x-python",
   "name": "python",
   "nbconvert_exporter": "python",
   "pygments_lexer": "ipython2",
   "version": "2.7.6"
  }
 },
 "nbformat": 4,
 "nbformat_minor": 0
}
