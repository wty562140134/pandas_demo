{
 "cells": [
  {
   "cell_type": "markdown",
   "source": [
    "# pandas的stack和pivot实现数据透视\n",
    "<font size=\"5\" color=\"#dd0000\">**将劣势数据变成二位交叉形式, 便于分析, 叫做重塑或透视**</font>\n",
    "<img src=\"./image/stack_pivot.png\">\n",
    "\n",
    "1. 经过统计的到多为指标数据\n",
    "2. 使用unstack实现数据二维透视\n",
    "3. 使用pivot简化透视\n",
    "4. stack、unstack、pivot的语法"
   ],
   "metadata": {
    "collapsed": false
   }
  },
  {
   "cell_type": "markdown",
   "source": [
    "**1.经过统计得到多为度指标数据**\n",
    "非常场景的统计场景, 指定多个维度, 计算聚合后的指标\n",
    "示例: 统计的到点光源评分数据集, 每个月份的每个分数被评多份多少次(月份、分数1~5、次数)"
   ],
   "metadata": {
    "collapsed": false
   }
  },
  {
   "cell_type": "code",
   "execution_count": null,
   "outputs": [],
   "source": [
    "import pandas as pd\n",
    "import numpy as np\n",
    "%matplotlib inline"
   ],
   "metadata": {
    "collapsed": false
   }
  },
  {
   "cell_type": "code",
   "execution_count": null,
   "outputs": [],
   "source": [
    "df = pd.read_csv('./data/movies/ratings.csv')"
   ],
   "metadata": {
    "collapsed": false
   }
  },
  {
   "cell_type": "code",
   "execution_count": null,
   "outputs": [],
   "source": [
    "df.head()"
   ],
   "metadata": {
    "collapsed": false
   }
  },
  {
   "cell_type": "code",
   "execution_count": null,
   "outputs": [],
   "source": [
    "# pandas处理日期\n",
    "df['pddate'] = pd.to_datetime(df['timestamp'], unit='s')"
   ],
   "metadata": {
    "collapsed": false
   }
  },
  {
   "cell_type": "code",
   "execution_count": null,
   "outputs": [],
   "source": [
    "df.head()"
   ],
   "metadata": {
    "collapsed": false
   }
  },
  {
   "cell_type": "code",
   "execution_count": null,
   "outputs": [],
   "source": [
    "df.dtypes"
   ],
   "metadata": {
    "collapsed": false
   }
  },
  {
   "cell_type": "markdown",
   "source": [
    "**注意: 使用pd.to_datetime()函数所转换的时间戳可以直接使用pandas中的日期函数, 列如:**\n",
    "1. dt.month\n",
    "2. dt.day"
   ],
   "metadata": {
    "collapsed": false
   }
  },
  {
   "cell_type": "code",
   "execution_count": null,
   "outputs": [],
   "source": [
    "df['pddate'].dt.month"
   ],
   "metadata": {
    "collapsed": false
   }
  },
  {
   "cell_type": "code",
   "execution_count": null,
   "outputs": [],
   "source": [
    "# 实现数据统计\n",
    "df_group = df.groupby([df['pddate'].dt.month, 'rating'])"
   ],
   "metadata": {
    "collapsed": false
   }
  },
  {
   "cell_type": "code",
   "execution_count": null,
   "outputs": [],
   "source": [
    "df_group"
   ],
   "metadata": {
    "collapsed": false
   }
  },
  {
   "cell_type": "code",
   "execution_count": null,
   "outputs": [],
   "source": [
    "# 取分组数据\n",
    "df_group.get_group((4, 0.5))"
   ],
   "metadata": {
    "collapsed": false
   }
  },
  {
   "cell_type": "code",
   "execution_count": null,
   "outputs": [],
   "source": [
    "df_group = df_group['userId'].agg(pv=np.size)"
   ],
   "metadata": {
    "collapsed": false
   }
  },
  {
   "cell_type": "code",
   "execution_count": null,
   "outputs": [],
   "source": [
    "df_group.head(20)"
   ],
   "metadata": {
    "collapsed": false
   }
  },
  {
   "cell_type": "markdown",
   "source": [
    "这样的数据格式, 想查看按月份, 不同评分次数趋势, 没办法实现\n",
    "需要将数据变成每个评分是一列才可以实现"
   ],
   "metadata": {
    "collapsed": false
   }
  },
  {
   "cell_type": "markdown",
   "source": [
    "**2.使用unstack实现数据二维透视**\n",
    "目的: 想要画图对比安装月份的不同评分的数量趋势"
   ],
   "metadata": {
    "collapsed": false
   }
  },
  {
   "cell_type": "code",
   "execution_count": null,
   "outputs": [],
   "source": [
    "df_stack = df_group.unstack()\n",
    "df_stack"
   ],
   "metadata": {
    "collapsed": false
   }
  },
  {
   "cell_type": "code",
   "execution_count": null,
   "outputs": [],
   "source": [
    "# 查看某一个pv的数据\n",
    "df_stack[('pv', 1.0)]"
   ],
   "metadata": {
    "collapsed": false
   }
  },
  {
   "cell_type": "code",
   "execution_count": null,
   "outputs": [],
   "source": [
    "# 查看指定月份和指定pv数据\n",
    "df_stack.loc[1, ('pv', 2.0)]"
   ],
   "metadata": {
    "collapsed": false
   }
  },
  {
   "cell_type": "code",
   "execution_count": null,
   "outputs": [],
   "source": [
    "df_stack.plot()"
   ],
   "metadata": {
    "collapsed": false
   }
  },
  {
   "cell_type": "code",
   "execution_count": null,
   "outputs": [],
   "source": [
    "#unstack和stack互逆操作\n",
    "df_stack.stack().head(20)"
   ],
   "metadata": {
    "collapsed": false
   }
  },
  {
   "cell_type": "markdown",
   "source": [
    "## 3.使用pivot简化透视"
   ],
   "metadata": {
    "collapsed": false
   }
  },
  {
   "cell_type": "code",
   "execution_count": null,
   "outputs": [],
   "source": [
    "df_group.head(20)"
   ],
   "metadata": {
    "collapsed": false
   }
  },
  {
   "cell_type": "code",
   "execution_count": null,
   "outputs": [],
   "source": [
    "df_reset = df_group.reset_index()\n",
    "df_reset.head()"
   ],
   "metadata": {
    "collapsed": false
   }
  },
  {
   "cell_type": "code",
   "execution_count": null,
   "outputs": [],
   "source": [
    "df_pivot = df_reset.pivot(index='pddate', columns='rating', values='pv')"
   ],
   "metadata": {
    "collapsed": false
   }
  },
  {
   "cell_type": "code",
   "execution_count": null,
   "outputs": [],
   "source": [
    "df_pivot.head()"
   ],
   "metadata": {
    "collapsed": false
   }
  },
  {
   "cell_type": "code",
   "execution_count": null,
   "outputs": [],
   "source": [
    "df_pivot.plot()"
   ],
   "metadata": {
    "collapsed": false
   }
  },
  {
   "cell_type": "markdown",
   "source": [
    "**pivot方法相当于对DataFrame使用set_index创建分层索引, 然后调用unstack**\n"
   ],
   "metadata": {
    "collapsed": false
   }
  },
  {
   "cell_type": "markdown",
   "source": [
    "## 4. stack、unstack、pivot的语法\n",
    "\n",
    "**stack:DataFrame.stack(level=-1, dropna=True), 将column变成index, 类似把横放的书记变成竖放**\n",
    "level=-1代表多层索引的最内层, 可以通过level=0,1,2指定多层索引的对应层\n",
    "\n",
    "<img src=\"./image/stack.png\">"
   ],
   "metadata": {
    "collapsed": false
   }
  },
  {
   "cell_type": "markdown",
   "source": [
    "**unstack:DataFrame.unstack(level=-1, fill_value=None), 将index变成column, 类似把竖放的书变为横放**\n",
    "<img src=\"./image/unstack.png\">"
   ],
   "metadata": {
    "collapsed": false
   }
  },
  {
   "cell_type": "markdown",
   "source": [
    "**pivot:DataFrame.pivot(index=None, columns=None, values=None), 指定index, columns, values实现二维透视**\n",
    "<img src=\"./image/pivot.png\">"
   ],
   "metadata": {
    "collapsed": false
   }
  }
 ],
 "metadata": {
  "kernelspec": {
   "display_name": "Python 3",
   "language": "python",
   "name": "python3"
  },
  "language_info": {
   "codemirror_mode": {
    "name": "ipython",
    "version": 2
   },
   "file_extension": ".py",
   "mimetype": "text/x-python",
   "name": "python",
   "nbconvert_exporter": "python",
   "pygments_lexer": "ipython2",
   "version": "2.7.6"
  }
 },
 "nbformat": 4,
 "nbformat_minor": 0
}
