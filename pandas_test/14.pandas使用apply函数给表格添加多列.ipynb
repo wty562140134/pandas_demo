{
 "cells": [
  {
   "cell_type": "markdown",
   "source": [
    "**知识回忆:增益给表格添加一列**\n",
    "\n",
    "```python\n",
    "def my_func(row):\n",
    "    new_column = row['a'] + row['b']\n",
    "    return new_column\n",
    "\n",
    "df['new_column'] = df.apply(my_func, axis=1)\n",
    "```\n",
    "**新的知识:怎样同时添加多列**\n",
    "```python\n",
    "def my_func(row):\n",
    "    newa, newb = row['a'] + row['b'], row['a'] - row['b']\n",
    "    return newa, newb\n",
    "\n",
    "df[['newa', 'newb']] = df.apply(my_func, axis=1, result_type=expand)\n",
    "```"
   ],
   "metadata": {
    "collapsed": false
   }
  },
  {
   "cell_type": "code",
   "execution_count": 39,
   "outputs": [],
   "source": [
    "import pandas as pd\n",
    "from pandas import Series"
   ],
   "metadata": {
    "collapsed": false
   }
  },
  {
   "cell_type": "code",
   "execution_count": 40,
   "outputs": [],
   "source": [
    "df = pd.read_excel('./data/weather/weater_beijing.xlsx')"
   ],
   "metadata": {
    "collapsed": false
   }
  },
  {
   "cell_type": "code",
   "execution_count": 41,
   "outputs": [
    {
     "data": {
      "text/plain": "              日期  最高温   最低温    天气             风力风向 空气质量指数\n0  2011-01-01 周六  -2°   -7°  多云~阴          无持续风向微风    NaN\n1  2011-01-02 周日  -2°   -7°    多云          无持续风向微风    NaN\n2  2011-01-03 周一  -2°   -6°  多云~阴  西北风~北风3-4级~4-5级    NaN\n3  2011-01-04 周二  -2°   -9°     晴           北风5-6级    NaN\n4  2011-01-05 周三  -2°  -10°     晴  北风~无持续风向3-4级~微风    NaN",
      "text/html": "<div>\n<style scoped>\n    .dataframe tbody tr th:only-of-type {\n        vertical-align: middle;\n    }\n\n    .dataframe tbody tr th {\n        vertical-align: top;\n    }\n\n    .dataframe thead th {\n        text-align: right;\n    }\n</style>\n<table border=\"1\" class=\"dataframe\">\n  <thead>\n    <tr style=\"text-align: right;\">\n      <th></th>\n      <th>日期</th>\n      <th>最高温</th>\n      <th>最低温</th>\n      <th>天气</th>\n      <th>风力风向</th>\n      <th>空气质量指数</th>\n    </tr>\n  </thead>\n  <tbody>\n    <tr>\n      <th>0</th>\n      <td>2011-01-01 周六</td>\n      <td>-2°</td>\n      <td>-7°</td>\n      <td>多云~阴</td>\n      <td>无持续风向微风</td>\n      <td>NaN</td>\n    </tr>\n    <tr>\n      <th>1</th>\n      <td>2011-01-02 周日</td>\n      <td>-2°</td>\n      <td>-7°</td>\n      <td>多云</td>\n      <td>无持续风向微风</td>\n      <td>NaN</td>\n    </tr>\n    <tr>\n      <th>2</th>\n      <td>2011-01-03 周一</td>\n      <td>-2°</td>\n      <td>-6°</td>\n      <td>多云~阴</td>\n      <td>西北风~北风3-4级~4-5级</td>\n      <td>NaN</td>\n    </tr>\n    <tr>\n      <th>3</th>\n      <td>2011-01-04 周二</td>\n      <td>-2°</td>\n      <td>-9°</td>\n      <td>晴</td>\n      <td>北风5-6级</td>\n      <td>NaN</td>\n    </tr>\n    <tr>\n      <th>4</th>\n      <td>2011-01-05 周三</td>\n      <td>-2°</td>\n      <td>-10°</td>\n      <td>晴</td>\n      <td>北风~无持续风向3-4级~微风</td>\n      <td>NaN</td>\n    </tr>\n  </tbody>\n</table>\n</div>"
     },
     "execution_count": 41,
     "metadata": {},
     "output_type": "execute_result"
    }
   ],
   "source": [
    "df.head()"
   ],
   "metadata": {
    "collapsed": false
   }
  },
  {
   "cell_type": "code",
   "execution_count": 42,
   "outputs": [],
   "source": [
    "df.loc[:, '最高温'] = df['最高温'].str.replace('°', '').replace('', '0')"
   ],
   "metadata": {
    "collapsed": false
   }
  },
  {
   "cell_type": "code",
   "execution_count": 43,
   "outputs": [
    {
     "data": {
      "text/plain": "0       -2\n1       -2\n2       -2\n3       -2\n4       -2\n        ..\n4001     6\n4002     6\n4003     5\n4004     6\n4005     5\nName: 最高温, Length: 4006, dtype: object"
     },
     "execution_count": 43,
     "metadata": {},
     "output_type": "execute_result"
    }
   ],
   "source": [
    "df['最高温']"
   ],
   "metadata": {
    "collapsed": false
   }
  },
  {
   "cell_type": "code",
   "execution_count": 44,
   "outputs": [],
   "source": [
    "df.fillna({'最高温': '0'}, inplace=True)"
   ],
   "metadata": {
    "collapsed": false
   }
  },
  {
   "cell_type": "code",
   "execution_count": 45,
   "outputs": [
    {
     "data": {
      "text/plain": "0       -2\n1       -2\n2       -2\n3       -2\n4       -2\n        ..\n4001     6\n4002     6\n4003     5\n4004     6\n4005     5\nName: 最高温, Length: 4006, dtype: object"
     },
     "execution_count": 45,
     "metadata": {},
     "output_type": "execute_result"
    }
   ],
   "source": [
    "df['最高温']"
   ],
   "metadata": {
    "collapsed": false
   }
  },
  {
   "cell_type": "code",
   "execution_count": 46,
   "outputs": [],
   "source": [
    "df.loc[:, '最高温'] = df['最高温'].astype('int32')"
   ],
   "metadata": {
    "collapsed": false
   }
  },
  {
   "cell_type": "code",
   "execution_count": 47,
   "outputs": [],
   "source": [
    "df.loc[:, '最低温'] = df['最低温'].str.replace('°', '').replace('', '0')\n",
    "df.fillna({'最低温': '0'}, inplace=True)"
   ],
   "metadata": {
    "collapsed": false
   }
  },
  {
   "cell_type": "code",
   "execution_count": 48,
   "outputs": [],
   "source": [
    "df.loc[:, '最低温'] = df['最低温'].astype('int32')"
   ],
   "metadata": {
    "collapsed": false
   }
  },
  {
   "cell_type": "code",
   "execution_count": 49,
   "outputs": [
    {
     "data": {
      "text/plain": "              日期 最高温  最低温    天气             风力风向 空气质量指数\n0  2011-01-01 周六  -2   -7  多云~阴          无持续风向微风    NaN\n1  2011-01-02 周日  -2   -7    多云          无持续风向微风    NaN\n2  2011-01-03 周一  -2   -6  多云~阴  西北风~北风3-4级~4-5级    NaN\n3  2011-01-04 周二  -2   -9     晴           北风5-6级    NaN\n4  2011-01-05 周三  -2  -10     晴  北风~无持续风向3-4级~微风    NaN",
      "text/html": "<div>\n<style scoped>\n    .dataframe tbody tr th:only-of-type {\n        vertical-align: middle;\n    }\n\n    .dataframe tbody tr th {\n        vertical-align: top;\n    }\n\n    .dataframe thead th {\n        text-align: right;\n    }\n</style>\n<table border=\"1\" class=\"dataframe\">\n  <thead>\n    <tr style=\"text-align: right;\">\n      <th></th>\n      <th>日期</th>\n      <th>最高温</th>\n      <th>最低温</th>\n      <th>天气</th>\n      <th>风力风向</th>\n      <th>空气质量指数</th>\n    </tr>\n  </thead>\n  <tbody>\n    <tr>\n      <th>0</th>\n      <td>2011-01-01 周六</td>\n      <td>-2</td>\n      <td>-7</td>\n      <td>多云~阴</td>\n      <td>无持续风向微风</td>\n      <td>NaN</td>\n    </tr>\n    <tr>\n      <th>1</th>\n      <td>2011-01-02 周日</td>\n      <td>-2</td>\n      <td>-7</td>\n      <td>多云</td>\n      <td>无持续风向微风</td>\n      <td>NaN</td>\n    </tr>\n    <tr>\n      <th>2</th>\n      <td>2011-01-03 周一</td>\n      <td>-2</td>\n      <td>-6</td>\n      <td>多云~阴</td>\n      <td>西北风~北风3-4级~4-5级</td>\n      <td>NaN</td>\n    </tr>\n    <tr>\n      <th>3</th>\n      <td>2011-01-04 周二</td>\n      <td>-2</td>\n      <td>-9</td>\n      <td>晴</td>\n      <td>北风5-6级</td>\n      <td>NaN</td>\n    </tr>\n    <tr>\n      <th>4</th>\n      <td>2011-01-05 周三</td>\n      <td>-2</td>\n      <td>-10</td>\n      <td>晴</td>\n      <td>北风~无持续风向3-4级~微风</td>\n      <td>NaN</td>\n    </tr>\n  </tbody>\n</table>\n</div>"
     },
     "execution_count": 49,
     "metadata": {},
     "output_type": "execute_result"
    }
   ],
   "source": [
    "df.head()"
   ],
   "metadata": {
    "collapsed": false
   }
  },
  {
   "cell_type": "markdown",
   "source": [
    "### 同时添加温差, 平均温度"
   ],
   "metadata": {
    "collapsed": false
   }
  },
  {
   "cell_type": "code",
   "execution_count": 54,
   "outputs": [],
   "source": [
    "def wencha(row:Series):\n",
    "    return row['最高温'] - row['最低温'], (row['最高温'] + row['最低温'])/2\n",
    "\n",
    "df[['温差', '平均温']] = df.apply(wencha, axis=1, result_type='expand')"
   ],
   "metadata": {
    "collapsed": false
   }
  },
  {
   "cell_type": "code",
   "execution_count": 55,
   "outputs": [
    {
     "data": {
      "text/plain": "              日期 最高温  最低温    天气             风力风向 空气质量指数   温差  平均温\n0  2011-01-01 周六  -2   -7  多云~阴          无持续风向微风    NaN  5.0 -4.5\n1  2011-01-02 周日  -2   -7    多云          无持续风向微风    NaN  5.0 -4.5\n2  2011-01-03 周一  -2   -6  多云~阴  西北风~北风3-4级~4-5级    NaN  4.0 -4.0\n3  2011-01-04 周二  -2   -9     晴           北风5-6级    NaN  7.0 -5.5\n4  2011-01-05 周三  -2  -10     晴  北风~无持续风向3-4级~微风    NaN  8.0 -6.0",
      "text/html": "<div>\n<style scoped>\n    .dataframe tbody tr th:only-of-type {\n        vertical-align: middle;\n    }\n\n    .dataframe tbody tr th {\n        vertical-align: top;\n    }\n\n    .dataframe thead th {\n        text-align: right;\n    }\n</style>\n<table border=\"1\" class=\"dataframe\">\n  <thead>\n    <tr style=\"text-align: right;\">\n      <th></th>\n      <th>日期</th>\n      <th>最高温</th>\n      <th>最低温</th>\n      <th>天气</th>\n      <th>风力风向</th>\n      <th>空气质量指数</th>\n      <th>温差</th>\n      <th>平均温</th>\n    </tr>\n  </thead>\n  <tbody>\n    <tr>\n      <th>0</th>\n      <td>2011-01-01 周六</td>\n      <td>-2</td>\n      <td>-7</td>\n      <td>多云~阴</td>\n      <td>无持续风向微风</td>\n      <td>NaN</td>\n      <td>5.0</td>\n      <td>-4.5</td>\n    </tr>\n    <tr>\n      <th>1</th>\n      <td>2011-01-02 周日</td>\n      <td>-2</td>\n      <td>-7</td>\n      <td>多云</td>\n      <td>无持续风向微风</td>\n      <td>NaN</td>\n      <td>5.0</td>\n      <td>-4.5</td>\n    </tr>\n    <tr>\n      <th>2</th>\n      <td>2011-01-03 周一</td>\n      <td>-2</td>\n      <td>-6</td>\n      <td>多云~阴</td>\n      <td>西北风~北风3-4级~4-5级</td>\n      <td>NaN</td>\n      <td>4.0</td>\n      <td>-4.0</td>\n    </tr>\n    <tr>\n      <th>3</th>\n      <td>2011-01-04 周二</td>\n      <td>-2</td>\n      <td>-9</td>\n      <td>晴</td>\n      <td>北风5-6级</td>\n      <td>NaN</td>\n      <td>7.0</td>\n      <td>-5.5</td>\n    </tr>\n    <tr>\n      <th>4</th>\n      <td>2011-01-05 周三</td>\n      <td>-2</td>\n      <td>-10</td>\n      <td>晴</td>\n      <td>北风~无持续风向3-4级~微风</td>\n      <td>NaN</td>\n      <td>8.0</td>\n      <td>-6.0</td>\n    </tr>\n  </tbody>\n</table>\n</div>"
     },
     "execution_count": 55,
     "metadata": {},
     "output_type": "execute_result"
    }
   ],
   "source": [
    "df.head()"
   ],
   "metadata": {
    "collapsed": false
   }
  }
 ],
 "metadata": {
  "kernelspec": {
   "display_name": "Python 3",
   "language": "python",
   "name": "python3"
  },
  "language_info": {
   "codemirror_mode": {
    "name": "ipython",
    "version": 2
   },
   "file_extension": ".py",
   "mimetype": "text/x-python",
   "name": "python",
   "nbconvert_exporter": "python",
   "pygments_lexer": "ipython2",
   "version": "2.7.6"
  }
 },
 "nbformat": 4,
 "nbformat_minor": 0
}
