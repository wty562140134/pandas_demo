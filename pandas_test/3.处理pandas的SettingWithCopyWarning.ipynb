{
 "cells": [
  {
   "cell_type": "markdown",
   "source": [
    "# pandans的settingWithCopyWarning报警"
   ],
   "metadata": {
    "collapsed": false
   }
  },
  {
   "cell_type": "markdown",
   "source": [
    "## 0. 读取数据"
   ],
   "metadata": {
    "collapsed": false
   }
  },
  {
   "cell_type": "code",
   "execution_count": 66,
   "outputs": [],
   "source": [
    "import pandas as pd"
   ],
   "metadata": {
    "collapsed": false
   }
  },
  {
   "cell_type": "code",
   "execution_count": 68,
   "outputs": [
    {
     "data": {
      "text/plain": "                 日期  最高温   最低温    天气             风力风向 空气质量指数\n0     2011-01-01 周六  -2°   -7°  多云~阴          无持续风向微风    NaN\n1     2011-01-02 周日  -2°   -7°    多云          无持续风向微风    NaN\n2     2011-01-03 周一  -2°   -6°  多云~阴  西北风~北风3-4级~4-5级    NaN\n3     2011-01-04 周二  -2°   -9°     晴           北风5-6级    NaN\n4     2011-01-05 周三  -2°  -10°     晴  北风~无持续风向3-4级~微风    NaN\n...             ...  ...   ...   ...              ...    ...\n4001  2021-12-27 周一   6°   -8°     晴            西北风1级   56 良\n4002  2021-12-28 周二   6°   -5°  多云~晴            西北风1级   64 良\n4003  2021-12-29 周三   5°   -5°     晴            西北风3级   43 优\n4004  2021-12-30 周四   6°   -7°     晴            西北风3级   38 优\n4005  2021-12-31 周五   5°   -7°     晴            东北风1级   44 优\n\n[4006 rows x 6 columns]",
      "text/html": "<div>\n<style scoped>\n    .dataframe tbody tr th:only-of-type {\n        vertical-align: middle;\n    }\n\n    .dataframe tbody tr th {\n        vertical-align: top;\n    }\n\n    .dataframe thead th {\n        text-align: right;\n    }\n</style>\n<table border=\"1\" class=\"dataframe\">\n  <thead>\n    <tr style=\"text-align: right;\">\n      <th></th>\n      <th>日期</th>\n      <th>最高温</th>\n      <th>最低温</th>\n      <th>天气</th>\n      <th>风力风向</th>\n      <th>空气质量指数</th>\n    </tr>\n  </thead>\n  <tbody>\n    <tr>\n      <th>0</th>\n      <td>2011-01-01 周六</td>\n      <td>-2°</td>\n      <td>-7°</td>\n      <td>多云~阴</td>\n      <td>无持续风向微风</td>\n      <td>NaN</td>\n    </tr>\n    <tr>\n      <th>1</th>\n      <td>2011-01-02 周日</td>\n      <td>-2°</td>\n      <td>-7°</td>\n      <td>多云</td>\n      <td>无持续风向微风</td>\n      <td>NaN</td>\n    </tr>\n    <tr>\n      <th>2</th>\n      <td>2011-01-03 周一</td>\n      <td>-2°</td>\n      <td>-6°</td>\n      <td>多云~阴</td>\n      <td>西北风~北风3-4级~4-5级</td>\n      <td>NaN</td>\n    </tr>\n    <tr>\n      <th>3</th>\n      <td>2011-01-04 周二</td>\n      <td>-2°</td>\n      <td>-9°</td>\n      <td>晴</td>\n      <td>北风5-6级</td>\n      <td>NaN</td>\n    </tr>\n    <tr>\n      <th>4</th>\n      <td>2011-01-05 周三</td>\n      <td>-2°</td>\n      <td>-10°</td>\n      <td>晴</td>\n      <td>北风~无持续风向3-4级~微风</td>\n      <td>NaN</td>\n    </tr>\n    <tr>\n      <th>...</th>\n      <td>...</td>\n      <td>...</td>\n      <td>...</td>\n      <td>...</td>\n      <td>...</td>\n      <td>...</td>\n    </tr>\n    <tr>\n      <th>4001</th>\n      <td>2021-12-27 周一</td>\n      <td>6°</td>\n      <td>-8°</td>\n      <td>晴</td>\n      <td>西北风1级</td>\n      <td>56 良</td>\n    </tr>\n    <tr>\n      <th>4002</th>\n      <td>2021-12-28 周二</td>\n      <td>6°</td>\n      <td>-5°</td>\n      <td>多云~晴</td>\n      <td>西北风1级</td>\n      <td>64 良</td>\n    </tr>\n    <tr>\n      <th>4003</th>\n      <td>2021-12-29 周三</td>\n      <td>5°</td>\n      <td>-5°</td>\n      <td>晴</td>\n      <td>西北风3级</td>\n      <td>43 优</td>\n    </tr>\n    <tr>\n      <th>4004</th>\n      <td>2021-12-30 周四</td>\n      <td>6°</td>\n      <td>-7°</td>\n      <td>晴</td>\n      <td>西北风3级</td>\n      <td>38 优</td>\n    </tr>\n    <tr>\n      <th>4005</th>\n      <td>2021-12-31 周五</td>\n      <td>5°</td>\n      <td>-7°</td>\n      <td>晴</td>\n      <td>东北风1级</td>\n      <td>44 优</td>\n    </tr>\n  </tbody>\n</table>\n<p>4006 rows × 6 columns</p>\n</div>"
     },
     "execution_count": 68,
     "metadata": {},
     "output_type": "execute_result"
    }
   ],
   "source": [
    "fpath = './data/weather/weater_beijing.xlsx'\n",
    "df = pd.read_excel(fpath)\n",
    "df\n",
    "# df.loc[df['日期'].str.startswith('2018-03')]"
   ],
   "metadata": {
    "collapsed": false
   }
  },
  {
   "cell_type": "code",
   "execution_count": 55,
   "outputs": [
    {
     "data": {
      "text/plain": "                 日期 最高温  最低温    天气     风力风向  空气质量指数\n2604  2018-03-01 周四   8  -3°    多云  西南风1-2级    46 优\n2605  2018-03-02 周五   9  -1°  晴~多云   北风1-2级    95 良\n2606  2018-03-03 周六  13   3°  多云~阴   北风1-2级  214 重度\n2607  2018-03-04 周日   7  -2°  阴~多云  东南风1-2级  144 轻度\n2608  2018-03-05 周一   8  -3°     晴   南风1-2级    94 良\n2609  2018-03-06 周二   6  -3°  多云~阴  东南风3-4级    67 良\n2610  2018-03-07 周三   6  -2°  阴~多云   北风1-2级    65 良\n2611  2018-03-08 周四   8  -4°     晴  东北风1-2级    62 良\n2612  2018-03-09 周五  10  -2°    多云  西南风1-2级  132 轻度\n2613  2018-03-10 周六  14  -2°     晴  东南风1-2级  171 中度\n2614  2018-03-11 周日  11   0°    多云   南风1-2级    81 良\n2615  2018-03-12 周一  15   3°  多云~晴   南风1-2级  174 中度\n2616  2018-03-13 周二  17   5°  晴~多云   南风1-2级  287 重度\n2617  2018-03-14 周三  15   6°  多云~阴  东北风1-2级  293 重度\n2618  2018-03-15 周四  12  -1°  多云~晴  东北风3-4级    70 良\n2619  2018-03-16 周五  10  -1°    多云   南风1-2级    58 良\n2620  2018-03-17 周六   4   0°  小雨~阴   南风1-2级    81 良\n2621  2018-03-18 周日  13   1°  多云~晴  西南风1-2级  134 轻度\n2622  2018-03-19 周一  13   2°    多云   东风1-2级  107 轻度\n2623  2018-03-20 周二  10  -2°    多云   南风1-2级    41 优\n2624  2018-03-21 周三  11   1°    多云  西南风1-2级    76 良\n2625  2018-03-22 周四  17   4°  晴~多云  西南风1-2级  112 轻度\n2626  2018-03-23 周五  18   5°    多云   北风1-2级  146 轻度\n2627  2018-03-24 周六  22   5°     晴  西南风1-2级  119 轻度\n2628  2018-03-25 周日  24   7°     晴   南风1-2级    78 良\n2629  2018-03-26 周一  25   7°    多云  西南风1-2级  151 中度\n2630  2018-03-27 周二  27  11°     晴   南风1-2级  243 重度\n2631  2018-03-28 周三  25   9°  多云~晴   东风1-2级  387 严重\n2632  2018-03-29 周四  19   7°     晴   南风1-2级  119 轻度\n2633  2018-03-30 周五  18   8°    多云   南风1-2级    68 良\n2634  2018-03-31 周六  23   9°  多云~晴   南风1-2级  125 轻度",
      "text/html": "<div>\n<style scoped>\n    .dataframe tbody tr th:only-of-type {\n        vertical-align: middle;\n    }\n\n    .dataframe tbody tr th {\n        vertical-align: top;\n    }\n\n    .dataframe thead th {\n        text-align: right;\n    }\n</style>\n<table border=\"1\" class=\"dataframe\">\n  <thead>\n    <tr style=\"text-align: right;\">\n      <th></th>\n      <th>日期</th>\n      <th>最高温</th>\n      <th>最低温</th>\n      <th>天气</th>\n      <th>风力风向</th>\n      <th>空气质量指数</th>\n    </tr>\n  </thead>\n  <tbody>\n    <tr>\n      <th>2604</th>\n      <td>2018-03-01 周四</td>\n      <td>8</td>\n      <td>-3°</td>\n      <td>多云</td>\n      <td>西南风1-2级</td>\n      <td>46 优</td>\n    </tr>\n    <tr>\n      <th>2605</th>\n      <td>2018-03-02 周五</td>\n      <td>9</td>\n      <td>-1°</td>\n      <td>晴~多云</td>\n      <td>北风1-2级</td>\n      <td>95 良</td>\n    </tr>\n    <tr>\n      <th>2606</th>\n      <td>2018-03-03 周六</td>\n      <td>13</td>\n      <td>3°</td>\n      <td>多云~阴</td>\n      <td>北风1-2级</td>\n      <td>214 重度</td>\n    </tr>\n    <tr>\n      <th>2607</th>\n      <td>2018-03-04 周日</td>\n      <td>7</td>\n      <td>-2°</td>\n      <td>阴~多云</td>\n      <td>东南风1-2级</td>\n      <td>144 轻度</td>\n    </tr>\n    <tr>\n      <th>2608</th>\n      <td>2018-03-05 周一</td>\n      <td>8</td>\n      <td>-3°</td>\n      <td>晴</td>\n      <td>南风1-2级</td>\n      <td>94 良</td>\n    </tr>\n    <tr>\n      <th>2609</th>\n      <td>2018-03-06 周二</td>\n      <td>6</td>\n      <td>-3°</td>\n      <td>多云~阴</td>\n      <td>东南风3-4级</td>\n      <td>67 良</td>\n    </tr>\n    <tr>\n      <th>2610</th>\n      <td>2018-03-07 周三</td>\n      <td>6</td>\n      <td>-2°</td>\n      <td>阴~多云</td>\n      <td>北风1-2级</td>\n      <td>65 良</td>\n    </tr>\n    <tr>\n      <th>2611</th>\n      <td>2018-03-08 周四</td>\n      <td>8</td>\n      <td>-4°</td>\n      <td>晴</td>\n      <td>东北风1-2级</td>\n      <td>62 良</td>\n    </tr>\n    <tr>\n      <th>2612</th>\n      <td>2018-03-09 周五</td>\n      <td>10</td>\n      <td>-2°</td>\n      <td>多云</td>\n      <td>西南风1-2级</td>\n      <td>132 轻度</td>\n    </tr>\n    <tr>\n      <th>2613</th>\n      <td>2018-03-10 周六</td>\n      <td>14</td>\n      <td>-2°</td>\n      <td>晴</td>\n      <td>东南风1-2级</td>\n      <td>171 中度</td>\n    </tr>\n    <tr>\n      <th>2614</th>\n      <td>2018-03-11 周日</td>\n      <td>11</td>\n      <td>0°</td>\n      <td>多云</td>\n      <td>南风1-2级</td>\n      <td>81 良</td>\n    </tr>\n    <tr>\n      <th>2615</th>\n      <td>2018-03-12 周一</td>\n      <td>15</td>\n      <td>3°</td>\n      <td>多云~晴</td>\n      <td>南风1-2级</td>\n      <td>174 中度</td>\n    </tr>\n    <tr>\n      <th>2616</th>\n      <td>2018-03-13 周二</td>\n      <td>17</td>\n      <td>5°</td>\n      <td>晴~多云</td>\n      <td>南风1-2级</td>\n      <td>287 重度</td>\n    </tr>\n    <tr>\n      <th>2617</th>\n      <td>2018-03-14 周三</td>\n      <td>15</td>\n      <td>6°</td>\n      <td>多云~阴</td>\n      <td>东北风1-2级</td>\n      <td>293 重度</td>\n    </tr>\n    <tr>\n      <th>2618</th>\n      <td>2018-03-15 周四</td>\n      <td>12</td>\n      <td>-1°</td>\n      <td>多云~晴</td>\n      <td>东北风3-4级</td>\n      <td>70 良</td>\n    </tr>\n    <tr>\n      <th>2619</th>\n      <td>2018-03-16 周五</td>\n      <td>10</td>\n      <td>-1°</td>\n      <td>多云</td>\n      <td>南风1-2级</td>\n      <td>58 良</td>\n    </tr>\n    <tr>\n      <th>2620</th>\n      <td>2018-03-17 周六</td>\n      <td>4</td>\n      <td>0°</td>\n      <td>小雨~阴</td>\n      <td>南风1-2级</td>\n      <td>81 良</td>\n    </tr>\n    <tr>\n      <th>2621</th>\n      <td>2018-03-18 周日</td>\n      <td>13</td>\n      <td>1°</td>\n      <td>多云~晴</td>\n      <td>西南风1-2级</td>\n      <td>134 轻度</td>\n    </tr>\n    <tr>\n      <th>2622</th>\n      <td>2018-03-19 周一</td>\n      <td>13</td>\n      <td>2°</td>\n      <td>多云</td>\n      <td>东风1-2级</td>\n      <td>107 轻度</td>\n    </tr>\n    <tr>\n      <th>2623</th>\n      <td>2018-03-20 周二</td>\n      <td>10</td>\n      <td>-2°</td>\n      <td>多云</td>\n      <td>南风1-2级</td>\n      <td>41 优</td>\n    </tr>\n    <tr>\n      <th>2624</th>\n      <td>2018-03-21 周三</td>\n      <td>11</td>\n      <td>1°</td>\n      <td>多云</td>\n      <td>西南风1-2级</td>\n      <td>76 良</td>\n    </tr>\n    <tr>\n      <th>2625</th>\n      <td>2018-03-22 周四</td>\n      <td>17</td>\n      <td>4°</td>\n      <td>晴~多云</td>\n      <td>西南风1-2级</td>\n      <td>112 轻度</td>\n    </tr>\n    <tr>\n      <th>2626</th>\n      <td>2018-03-23 周五</td>\n      <td>18</td>\n      <td>5°</td>\n      <td>多云</td>\n      <td>北风1-2级</td>\n      <td>146 轻度</td>\n    </tr>\n    <tr>\n      <th>2627</th>\n      <td>2018-03-24 周六</td>\n      <td>22</td>\n      <td>5°</td>\n      <td>晴</td>\n      <td>西南风1-2级</td>\n      <td>119 轻度</td>\n    </tr>\n    <tr>\n      <th>2628</th>\n      <td>2018-03-25 周日</td>\n      <td>24</td>\n      <td>7°</td>\n      <td>晴</td>\n      <td>南风1-2级</td>\n      <td>78 良</td>\n    </tr>\n    <tr>\n      <th>2629</th>\n      <td>2018-03-26 周一</td>\n      <td>25</td>\n      <td>7°</td>\n      <td>多云</td>\n      <td>西南风1-2级</td>\n      <td>151 中度</td>\n    </tr>\n    <tr>\n      <th>2630</th>\n      <td>2018-03-27 周二</td>\n      <td>27</td>\n      <td>11°</td>\n      <td>晴</td>\n      <td>南风1-2级</td>\n      <td>243 重度</td>\n    </tr>\n    <tr>\n      <th>2631</th>\n      <td>2018-03-28 周三</td>\n      <td>25</td>\n      <td>9°</td>\n      <td>多云~晴</td>\n      <td>东风1-2级</td>\n      <td>387 严重</td>\n    </tr>\n    <tr>\n      <th>2632</th>\n      <td>2018-03-29 周四</td>\n      <td>19</td>\n      <td>7°</td>\n      <td>晴</td>\n      <td>南风1-2级</td>\n      <td>119 轻度</td>\n    </tr>\n    <tr>\n      <th>2633</th>\n      <td>2018-03-30 周五</td>\n      <td>18</td>\n      <td>8°</td>\n      <td>多云</td>\n      <td>南风1-2级</td>\n      <td>68 良</td>\n    </tr>\n    <tr>\n      <th>2634</th>\n      <td>2018-03-31 周六</td>\n      <td>23</td>\n      <td>9°</td>\n      <td>多云~晴</td>\n      <td>南风1-2级</td>\n      <td>125 轻度</td>\n    </tr>\n  </tbody>\n</table>\n</div>"
     },
     "execution_count": 55,
     "metadata": {},
     "output_type": "execute_result"
    }
   ],
   "source": [
    "# 替换°符号为'0'字符串， 转换为数字类型\n",
    "df_copy = df.copy(True)\n",
    "# 处理字符串替换后出现空字符串，导致invalid literal for int() with base 10: ''错误\n",
    "# 第一种使用处理缺失值写法\n",
    "df_copy.loc[:, '最高温'] = df['最高温'].str.replace('°', '').replace('', '0')\n",
    "df_copy.fillna({'最高温': '0'}, inplace=True)\n",
    "df_copy.loc[:, '最高温'] = df_copy['最高温'].astype('int32')\n",
    "# df_copy.head()\n",
    "df_copy.loc[df_copy['日期'].str.startswith('2018-03')]"
   ],
   "metadata": {
    "collapsed": false
   }
  },
  {
   "cell_type": "code",
   "execution_count": 56,
   "outputs": [
    {
     "data": {
      "text/plain": "                 日期 最高温 最低温    天气     风力风向  空气质量指数\n2604  2018-03-01 周四   8  -3    多云  西南风1-2级    46 优\n2605  2018-03-02 周五   9  -1  晴~多云   北风1-2级    95 良\n2606  2018-03-03 周六  13   3  多云~阴   北风1-2级  214 重度\n2607  2018-03-04 周日   7  -2  阴~多云  东南风1-2级  144 轻度\n2608  2018-03-05 周一   8  -3     晴   南风1-2级    94 良\n2609  2018-03-06 周二   6  -3  多云~阴  东南风3-4级    67 良\n2610  2018-03-07 周三   6  -2  阴~多云   北风1-2级    65 良\n2611  2018-03-08 周四   8  -4     晴  东北风1-2级    62 良\n2612  2018-03-09 周五  10  -2    多云  西南风1-2级  132 轻度\n2613  2018-03-10 周六  14  -2     晴  东南风1-2级  171 中度\n2614  2018-03-11 周日  11   0    多云   南风1-2级    81 良\n2615  2018-03-12 周一  15   3  多云~晴   南风1-2级  174 中度\n2616  2018-03-13 周二  17   5  晴~多云   南风1-2级  287 重度\n2617  2018-03-14 周三  15   6  多云~阴  东北风1-2级  293 重度\n2618  2018-03-15 周四  12  -1  多云~晴  东北风3-4级    70 良\n2619  2018-03-16 周五  10  -1    多云   南风1-2级    58 良\n2620  2018-03-17 周六   4   0  小雨~阴   南风1-2级    81 良\n2621  2018-03-18 周日  13   1  多云~晴  西南风1-2级  134 轻度\n2622  2018-03-19 周一  13   2    多云   东风1-2级  107 轻度\n2623  2018-03-20 周二  10  -2    多云   南风1-2级    41 优\n2624  2018-03-21 周三  11   1    多云  西南风1-2级    76 良\n2625  2018-03-22 周四  17   4  晴~多云  西南风1-2级  112 轻度\n2626  2018-03-23 周五  18   5    多云   北风1-2级  146 轻度\n2627  2018-03-24 周六  22   5     晴  西南风1-2级  119 轻度\n2628  2018-03-25 周日  24   7     晴   南风1-2级    78 良\n2629  2018-03-26 周一  25   7    多云  西南风1-2级  151 中度\n2630  2018-03-27 周二  27  11     晴   南风1-2级  243 重度\n2631  2018-03-28 周三  25   9  多云~晴   东风1-2级  387 严重\n2632  2018-03-29 周四  19   7     晴   南风1-2级  119 轻度\n2633  2018-03-30 周五  18   8    多云   南风1-2级    68 良\n2634  2018-03-31 周六  23   9  多云~晴   南风1-2级  125 轻度",
      "text/html": "<div>\n<style scoped>\n    .dataframe tbody tr th:only-of-type {\n        vertical-align: middle;\n    }\n\n    .dataframe tbody tr th {\n        vertical-align: top;\n    }\n\n    .dataframe thead th {\n        text-align: right;\n    }\n</style>\n<table border=\"1\" class=\"dataframe\">\n  <thead>\n    <tr style=\"text-align: right;\">\n      <th></th>\n      <th>日期</th>\n      <th>最高温</th>\n      <th>最低温</th>\n      <th>天气</th>\n      <th>风力风向</th>\n      <th>空气质量指数</th>\n    </tr>\n  </thead>\n  <tbody>\n    <tr>\n      <th>2604</th>\n      <td>2018-03-01 周四</td>\n      <td>8</td>\n      <td>-3</td>\n      <td>多云</td>\n      <td>西南风1-2级</td>\n      <td>46 优</td>\n    </tr>\n    <tr>\n      <th>2605</th>\n      <td>2018-03-02 周五</td>\n      <td>9</td>\n      <td>-1</td>\n      <td>晴~多云</td>\n      <td>北风1-2级</td>\n      <td>95 良</td>\n    </tr>\n    <tr>\n      <th>2606</th>\n      <td>2018-03-03 周六</td>\n      <td>13</td>\n      <td>3</td>\n      <td>多云~阴</td>\n      <td>北风1-2级</td>\n      <td>214 重度</td>\n    </tr>\n    <tr>\n      <th>2607</th>\n      <td>2018-03-04 周日</td>\n      <td>7</td>\n      <td>-2</td>\n      <td>阴~多云</td>\n      <td>东南风1-2级</td>\n      <td>144 轻度</td>\n    </tr>\n    <tr>\n      <th>2608</th>\n      <td>2018-03-05 周一</td>\n      <td>8</td>\n      <td>-3</td>\n      <td>晴</td>\n      <td>南风1-2级</td>\n      <td>94 良</td>\n    </tr>\n    <tr>\n      <th>2609</th>\n      <td>2018-03-06 周二</td>\n      <td>6</td>\n      <td>-3</td>\n      <td>多云~阴</td>\n      <td>东南风3-4级</td>\n      <td>67 良</td>\n    </tr>\n    <tr>\n      <th>2610</th>\n      <td>2018-03-07 周三</td>\n      <td>6</td>\n      <td>-2</td>\n      <td>阴~多云</td>\n      <td>北风1-2级</td>\n      <td>65 良</td>\n    </tr>\n    <tr>\n      <th>2611</th>\n      <td>2018-03-08 周四</td>\n      <td>8</td>\n      <td>-4</td>\n      <td>晴</td>\n      <td>东北风1-2级</td>\n      <td>62 良</td>\n    </tr>\n    <tr>\n      <th>2612</th>\n      <td>2018-03-09 周五</td>\n      <td>10</td>\n      <td>-2</td>\n      <td>多云</td>\n      <td>西南风1-2级</td>\n      <td>132 轻度</td>\n    </tr>\n    <tr>\n      <th>2613</th>\n      <td>2018-03-10 周六</td>\n      <td>14</td>\n      <td>-2</td>\n      <td>晴</td>\n      <td>东南风1-2级</td>\n      <td>171 中度</td>\n    </tr>\n    <tr>\n      <th>2614</th>\n      <td>2018-03-11 周日</td>\n      <td>11</td>\n      <td>0</td>\n      <td>多云</td>\n      <td>南风1-2级</td>\n      <td>81 良</td>\n    </tr>\n    <tr>\n      <th>2615</th>\n      <td>2018-03-12 周一</td>\n      <td>15</td>\n      <td>3</td>\n      <td>多云~晴</td>\n      <td>南风1-2级</td>\n      <td>174 中度</td>\n    </tr>\n    <tr>\n      <th>2616</th>\n      <td>2018-03-13 周二</td>\n      <td>17</td>\n      <td>5</td>\n      <td>晴~多云</td>\n      <td>南风1-2级</td>\n      <td>287 重度</td>\n    </tr>\n    <tr>\n      <th>2617</th>\n      <td>2018-03-14 周三</td>\n      <td>15</td>\n      <td>6</td>\n      <td>多云~阴</td>\n      <td>东北风1-2级</td>\n      <td>293 重度</td>\n    </tr>\n    <tr>\n      <th>2618</th>\n      <td>2018-03-15 周四</td>\n      <td>12</td>\n      <td>-1</td>\n      <td>多云~晴</td>\n      <td>东北风3-4级</td>\n      <td>70 良</td>\n    </tr>\n    <tr>\n      <th>2619</th>\n      <td>2018-03-16 周五</td>\n      <td>10</td>\n      <td>-1</td>\n      <td>多云</td>\n      <td>南风1-2级</td>\n      <td>58 良</td>\n    </tr>\n    <tr>\n      <th>2620</th>\n      <td>2018-03-17 周六</td>\n      <td>4</td>\n      <td>0</td>\n      <td>小雨~阴</td>\n      <td>南风1-2级</td>\n      <td>81 良</td>\n    </tr>\n    <tr>\n      <th>2621</th>\n      <td>2018-03-18 周日</td>\n      <td>13</td>\n      <td>1</td>\n      <td>多云~晴</td>\n      <td>西南风1-2级</td>\n      <td>134 轻度</td>\n    </tr>\n    <tr>\n      <th>2622</th>\n      <td>2018-03-19 周一</td>\n      <td>13</td>\n      <td>2</td>\n      <td>多云</td>\n      <td>东风1-2级</td>\n      <td>107 轻度</td>\n    </tr>\n    <tr>\n      <th>2623</th>\n      <td>2018-03-20 周二</td>\n      <td>10</td>\n      <td>-2</td>\n      <td>多云</td>\n      <td>南风1-2级</td>\n      <td>41 优</td>\n    </tr>\n    <tr>\n      <th>2624</th>\n      <td>2018-03-21 周三</td>\n      <td>11</td>\n      <td>1</td>\n      <td>多云</td>\n      <td>西南风1-2级</td>\n      <td>76 良</td>\n    </tr>\n    <tr>\n      <th>2625</th>\n      <td>2018-03-22 周四</td>\n      <td>17</td>\n      <td>4</td>\n      <td>晴~多云</td>\n      <td>西南风1-2级</td>\n      <td>112 轻度</td>\n    </tr>\n    <tr>\n      <th>2626</th>\n      <td>2018-03-23 周五</td>\n      <td>18</td>\n      <td>5</td>\n      <td>多云</td>\n      <td>北风1-2级</td>\n      <td>146 轻度</td>\n    </tr>\n    <tr>\n      <th>2627</th>\n      <td>2018-03-24 周六</td>\n      <td>22</td>\n      <td>5</td>\n      <td>晴</td>\n      <td>西南风1-2级</td>\n      <td>119 轻度</td>\n    </tr>\n    <tr>\n      <th>2628</th>\n      <td>2018-03-25 周日</td>\n      <td>24</td>\n      <td>7</td>\n      <td>晴</td>\n      <td>南风1-2级</td>\n      <td>78 良</td>\n    </tr>\n    <tr>\n      <th>2629</th>\n      <td>2018-03-26 周一</td>\n      <td>25</td>\n      <td>7</td>\n      <td>多云</td>\n      <td>西南风1-2级</td>\n      <td>151 中度</td>\n    </tr>\n    <tr>\n      <th>2630</th>\n      <td>2018-03-27 周二</td>\n      <td>27</td>\n      <td>11</td>\n      <td>晴</td>\n      <td>南风1-2级</td>\n      <td>243 重度</td>\n    </tr>\n    <tr>\n      <th>2631</th>\n      <td>2018-03-28 周三</td>\n      <td>25</td>\n      <td>9</td>\n      <td>多云~晴</td>\n      <td>东风1-2级</td>\n      <td>387 严重</td>\n    </tr>\n    <tr>\n      <th>2632</th>\n      <td>2018-03-29 周四</td>\n      <td>19</td>\n      <td>7</td>\n      <td>晴</td>\n      <td>南风1-2级</td>\n      <td>119 轻度</td>\n    </tr>\n    <tr>\n      <th>2633</th>\n      <td>2018-03-30 周五</td>\n      <td>18</td>\n      <td>8</td>\n      <td>多云</td>\n      <td>南风1-2级</td>\n      <td>68 良</td>\n    </tr>\n    <tr>\n      <th>2634</th>\n      <td>2018-03-31 周六</td>\n      <td>23</td>\n      <td>9</td>\n      <td>多云~晴</td>\n      <td>南风1-2级</td>\n      <td>125 轻度</td>\n    </tr>\n  </tbody>\n</table>\n</div>"
     },
     "execution_count": 56,
     "metadata": {},
     "output_type": "execute_result"
    }
   ],
   "source": [
    "# 第二种处理缺失值写法\n",
    "df_copy.loc[:, '最低温'] = df['最低温'].str.replace('°', '').replace('', '0')\n",
    "df_copy['最低温'].fillna('0', inplace=True)\n",
    "df_copy.loc[:, '最低温'] = df_copy['最低温'].astype('int32')\n",
    "# df_copy.head()\n",
    "df_copy.loc[df_copy['日期'].str.startswith('2018-03')]"
   ],
   "metadata": {
    "collapsed": false
   }
  },
  {
   "cell_type": "markdown",
   "source": [
    "## 1. 复现"
   ],
   "metadata": {
    "collapsed": false
   }
  },
  {
   "cell_type": "code",
   "execution_count": 57,
   "outputs": [
    {
     "data": {
      "text/plain": "0       False\n1       False\n2       False\n3       False\n4       False\n        ...  \n4001    False\n4002    False\n4003    False\n4004    False\n4005    False\nName: 日期, Length: 4006, dtype: bool"
     },
     "execution_count": 57,
     "metadata": {},
     "output_type": "execute_result"
    }
   ],
   "source": [
    "# 只选出2018年3月份的数据用于分析\n",
    "condition = df_copy['日期'].str.startswith('2018-03')\n",
    "condition"
   ],
   "metadata": {
    "collapsed": false
   }
  },
  {
   "cell_type": "code",
   "execution_count": 58,
   "outputs": [
    {
     "name": "stderr",
     "output_type": "stream",
     "text": [
      "C:\\Users\\LKJH\\AppData\\Local\\Temp\\ipykernel_158188\\3809955660.py:2: SettingWithCopyWarning: \n",
      "A value is trying to be set on a copy of a slice from a DataFrame.\n",
      "Try using .loc[row_indexer,col_indexer] = value instead\n",
      "\n",
      "See the caveats in the documentation: https://pandas.pydata.org/pandas-docs/stable/user_guide/indexing.html#returning-a-view-versus-a-copy\n",
      "  df_copy[condition]['温差'] = df_copy['最高温'] - df_copy['最低温']\n"
     ]
    },
    {
     "data": {
      "text/plain": "                 日期 最高温 最低温    天气     风力风向  空气质量指数\n2604  2018-03-01 周四   8  -3    多云  西南风1-2级    46 优\n2605  2018-03-02 周五   9  -1  晴~多云   北风1-2级    95 良\n2606  2018-03-03 周六  13   3  多云~阴   北风1-2级  214 重度\n2607  2018-03-04 周日   7  -2  阴~多云  东南风1-2级  144 轻度\n2608  2018-03-05 周一   8  -3     晴   南风1-2级    94 良",
      "text/html": "<div>\n<style scoped>\n    .dataframe tbody tr th:only-of-type {\n        vertical-align: middle;\n    }\n\n    .dataframe tbody tr th {\n        vertical-align: top;\n    }\n\n    .dataframe thead th {\n        text-align: right;\n    }\n</style>\n<table border=\"1\" class=\"dataframe\">\n  <thead>\n    <tr style=\"text-align: right;\">\n      <th></th>\n      <th>日期</th>\n      <th>最高温</th>\n      <th>最低温</th>\n      <th>天气</th>\n      <th>风力风向</th>\n      <th>空气质量指数</th>\n    </tr>\n  </thead>\n  <tbody>\n    <tr>\n      <th>2604</th>\n      <td>2018-03-01 周四</td>\n      <td>8</td>\n      <td>-3</td>\n      <td>多云</td>\n      <td>西南风1-2级</td>\n      <td>46 优</td>\n    </tr>\n    <tr>\n      <th>2605</th>\n      <td>2018-03-02 周五</td>\n      <td>9</td>\n      <td>-1</td>\n      <td>晴~多云</td>\n      <td>北风1-2级</td>\n      <td>95 良</td>\n    </tr>\n    <tr>\n      <th>2606</th>\n      <td>2018-03-03 周六</td>\n      <td>13</td>\n      <td>3</td>\n      <td>多云~阴</td>\n      <td>北风1-2级</td>\n      <td>214 重度</td>\n    </tr>\n    <tr>\n      <th>2607</th>\n      <td>2018-03-04 周日</td>\n      <td>7</td>\n      <td>-2</td>\n      <td>阴~多云</td>\n      <td>东南风1-2级</td>\n      <td>144 轻度</td>\n    </tr>\n    <tr>\n      <th>2608</th>\n      <td>2018-03-05 周一</td>\n      <td>8</td>\n      <td>-3</td>\n      <td>晴</td>\n      <td>南风1-2级</td>\n      <td>94 良</td>\n    </tr>\n  </tbody>\n</table>\n</div>"
     },
     "execution_count": 58,
     "metadata": {},
     "output_type": "execute_result"
    }
   ],
   "source": [
    "# 设置温差\n",
    "df_copy[condition]['温差'] = df_copy['最高温'] - df_copy['最低温']\n",
    "# 查看是否修改成功\n",
    "df_copy[condition].head()"
   ],
   "metadata": {
    "collapsed": false
   }
  },
  {
   "cell_type": "markdown",
   "source": [
    "## 2. 原因\n",
    "发出告警的代码 `df_copy[condition]['温差'] = df_copy['最高温'] - df_copy['最低温']` 相当于 `df_copy.get(condition).set('温差')` 第一步的get发出警报\n",
    "**链式操作其实是两个步骤, 先get后set, get得到的DataFrame可能是view也可能是copy, pandas**\n",
    "[官网](https://pandas.pydata.org/pandas-docs/stable/user_guide/indexing.html#returning-a-view-versus-a-copy \"SettingWithCopyWarning说明\")\n",
    "核心要绝: pandas 的DataFrame的修改写操作只允许在源DataFrame上进行, 一部到位"
   ],
   "metadata": {
    "collapsed": false
   }
  },
  {
   "cell_type": "markdown",
   "source": [
    "## 3. 解决方法\n",
    "1. 将get+set的两步操作改成set一部操作"
   ],
   "metadata": {
    "collapsed": false
   }
  },
  {
   "cell_type": "code",
   "execution_count": 59,
   "outputs": [
    {
     "data": {
      "text/plain": "                 日期 最高温 最低温    天气     风力风向  空气质量指数  温差\n2604  2018-03-01 周四   8  -3    多云  西南风1-2级    46 优  11\n2605  2018-03-02 周五   9  -1  晴~多云   北风1-2级    95 良  10\n2606  2018-03-03 周六  13   3  多云~阴   北风1-2级  214 重度  10\n2607  2018-03-04 周日   7  -2  阴~多云  东南风1-2级  144 轻度   9\n2608  2018-03-05 周一   8  -3     晴   南风1-2级    94 良  11",
      "text/html": "<div>\n<style scoped>\n    .dataframe tbody tr th:only-of-type {\n        vertical-align: middle;\n    }\n\n    .dataframe tbody tr th {\n        vertical-align: top;\n    }\n\n    .dataframe thead th {\n        text-align: right;\n    }\n</style>\n<table border=\"1\" class=\"dataframe\">\n  <thead>\n    <tr style=\"text-align: right;\">\n      <th></th>\n      <th>日期</th>\n      <th>最高温</th>\n      <th>最低温</th>\n      <th>天气</th>\n      <th>风力风向</th>\n      <th>空气质量指数</th>\n      <th>温差</th>\n    </tr>\n  </thead>\n  <tbody>\n    <tr>\n      <th>2604</th>\n      <td>2018-03-01 周四</td>\n      <td>8</td>\n      <td>-3</td>\n      <td>多云</td>\n      <td>西南风1-2级</td>\n      <td>46 优</td>\n      <td>11</td>\n    </tr>\n    <tr>\n      <th>2605</th>\n      <td>2018-03-02 周五</td>\n      <td>9</td>\n      <td>-1</td>\n      <td>晴~多云</td>\n      <td>北风1-2级</td>\n      <td>95 良</td>\n      <td>10</td>\n    </tr>\n    <tr>\n      <th>2606</th>\n      <td>2018-03-03 周六</td>\n      <td>13</td>\n      <td>3</td>\n      <td>多云~阴</td>\n      <td>北风1-2级</td>\n      <td>214 重度</td>\n      <td>10</td>\n    </tr>\n    <tr>\n      <th>2607</th>\n      <td>2018-03-04 周日</td>\n      <td>7</td>\n      <td>-2</td>\n      <td>阴~多云</td>\n      <td>东南风1-2级</td>\n      <td>144 轻度</td>\n      <td>9</td>\n    </tr>\n    <tr>\n      <th>2608</th>\n      <td>2018-03-05 周一</td>\n      <td>8</td>\n      <td>-3</td>\n      <td>晴</td>\n      <td>南风1-2级</td>\n      <td>94 良</td>\n      <td>11</td>\n    </tr>\n  </tbody>\n</table>\n</div>"
     },
     "execution_count": 59,
     "metadata": {},
     "output_type": "execute_result"
    }
   ],
   "source": [
    "df_copy1 = df_copy.copy(True)\n",
    "df_copy.loc[condition, '温差'] = df_copy['最高温'] - df_copy['最低温']\n",
    "df_copy.loc[df_copy['日期'].str.startswith('2018-03')].head()\n",
    "# df_copy1[condition].head()"
   ],
   "metadata": {
    "collapsed": false
   }
  },
  {
   "cell_type": "markdown",
   "source": [
    "2. 如果需要预筛选数据做后续的吃力分析, 使用copy复制DataFrame"
   ],
   "metadata": {
    "collapsed": false
   }
  },
  {
   "cell_type": "code",
   "execution_count": 60,
   "outputs": [
    {
     "data": {
      "text/plain": "              日期 最高温  最低温    天气             风力风向 空气质量指数\n0  2011-01-01 周六  -2   -7  多云~阴          无持续风向微风    NaN\n1  2011-01-02 周日  -2   -7    多云          无持续风向微风    NaN\n2  2011-01-03 周一  -2   -6  多云~阴  西北风~北风3-4级~4-5级    NaN\n3  2011-01-04 周二  -2   -9     晴           北风5-6级    NaN\n4  2011-01-05 周三  -2  -10     晴  北风~无持续风向3-4级~微风    NaN",
      "text/html": "<div>\n<style scoped>\n    .dataframe tbody tr th:only-of-type {\n        vertical-align: middle;\n    }\n\n    .dataframe tbody tr th {\n        vertical-align: top;\n    }\n\n    .dataframe thead th {\n        text-align: right;\n    }\n</style>\n<table border=\"1\" class=\"dataframe\">\n  <thead>\n    <tr style=\"text-align: right;\">\n      <th></th>\n      <th>日期</th>\n      <th>最高温</th>\n      <th>最低温</th>\n      <th>天气</th>\n      <th>风力风向</th>\n      <th>空气质量指数</th>\n    </tr>\n  </thead>\n  <tbody>\n    <tr>\n      <th>0</th>\n      <td>2011-01-01 周六</td>\n      <td>-2</td>\n      <td>-7</td>\n      <td>多云~阴</td>\n      <td>无持续风向微风</td>\n      <td>NaN</td>\n    </tr>\n    <tr>\n      <th>1</th>\n      <td>2011-01-02 周日</td>\n      <td>-2</td>\n      <td>-7</td>\n      <td>多云</td>\n      <td>无持续风向微风</td>\n      <td>NaN</td>\n    </tr>\n    <tr>\n      <th>2</th>\n      <td>2011-01-03 周一</td>\n      <td>-2</td>\n      <td>-6</td>\n      <td>多云~阴</td>\n      <td>西北风~北风3-4级~4-5级</td>\n      <td>NaN</td>\n    </tr>\n    <tr>\n      <th>3</th>\n      <td>2011-01-04 周二</td>\n      <td>-2</td>\n      <td>-9</td>\n      <td>晴</td>\n      <td>北风5-6级</td>\n      <td>NaN</td>\n    </tr>\n    <tr>\n      <th>4</th>\n      <td>2011-01-05 周三</td>\n      <td>-2</td>\n      <td>-10</td>\n      <td>晴</td>\n      <td>北风~无持续风向3-4级~微风</td>\n      <td>NaN</td>\n    </tr>\n  </tbody>\n</table>\n</div>"
     },
     "execution_count": 60,
     "metadata": {},
     "output_type": "execute_result"
    }
   ],
   "source": [
    "df_copy1.head()"
   ],
   "metadata": {
    "collapsed": false
   }
  },
  {
   "cell_type": "code",
   "execution_count": 62,
   "outputs": [
    {
     "data": {
      "text/plain": "                 日期 最高温 最低温    天气     风力风向  空气质量指数\n2604  2018-03-01 周四   8  -3    多云  西南风1-2级    46 优\n2605  2018-03-02 周五   9  -1  晴~多云   北风1-2级    95 良\n2606  2018-03-03 周六  13   3  多云~阴   北风1-2级  214 重度\n2607  2018-03-04 周日   7  -2  阴~多云  东南风1-2级  144 轻度\n2608  2018-03-05 周一   8  -3     晴   南风1-2级    94 良",
      "text/html": "<div>\n<style scoped>\n    .dataframe tbody tr th:only-of-type {\n        vertical-align: middle;\n    }\n\n    .dataframe tbody tr th {\n        vertical-align: top;\n    }\n\n    .dataframe thead th {\n        text-align: right;\n    }\n</style>\n<table border=\"1\" class=\"dataframe\">\n  <thead>\n    <tr style=\"text-align: right;\">\n      <th></th>\n      <th>日期</th>\n      <th>最高温</th>\n      <th>最低温</th>\n      <th>天气</th>\n      <th>风力风向</th>\n      <th>空气质量指数</th>\n    </tr>\n  </thead>\n  <tbody>\n    <tr>\n      <th>2604</th>\n      <td>2018-03-01 周四</td>\n      <td>8</td>\n      <td>-3</td>\n      <td>多云</td>\n      <td>西南风1-2级</td>\n      <td>46 优</td>\n    </tr>\n    <tr>\n      <th>2605</th>\n      <td>2018-03-02 周五</td>\n      <td>9</td>\n      <td>-1</td>\n      <td>晴~多云</td>\n      <td>北风1-2级</td>\n      <td>95 良</td>\n    </tr>\n    <tr>\n      <th>2606</th>\n      <td>2018-03-03 周六</td>\n      <td>13</td>\n      <td>3</td>\n      <td>多云~阴</td>\n      <td>北风1-2级</td>\n      <td>214 重度</td>\n    </tr>\n    <tr>\n      <th>2607</th>\n      <td>2018-03-04 周日</td>\n      <td>7</td>\n      <td>-2</td>\n      <td>阴~多云</td>\n      <td>东南风1-2级</td>\n      <td>144 轻度</td>\n    </tr>\n    <tr>\n      <th>2608</th>\n      <td>2018-03-05 周一</td>\n      <td>8</td>\n      <td>-3</td>\n      <td>晴</td>\n      <td>南风1-2级</td>\n      <td>94 良</td>\n    </tr>\n  </tbody>\n</table>\n</div>"
     },
     "execution_count": 62,
     "metadata": {},
     "output_type": "execute_result"
    }
   ],
   "source": [
    "df_month3 = df_copy1[condition].copy()\n",
    "df_month3.head()"
   ],
   "metadata": {
    "collapsed": false
   }
  },
  {
   "cell_type": "code",
   "execution_count": 64,
   "outputs": [
    {
     "data": {
      "text/plain": "                 日期 最高温 最低温    天气     风力风向  空气质量指数  温差\n2604  2018-03-01 周四   8  -3    多云  西南风1-2级    46 优  11\n2605  2018-03-02 周五   9  -1  晴~多云   北风1-2级    95 良  10\n2606  2018-03-03 周六  13   3  多云~阴   北风1-2级  214 重度  10\n2607  2018-03-04 周日   7  -2  阴~多云  东南风1-2级  144 轻度   9\n2608  2018-03-05 周一   8  -3     晴   南风1-2级    94 良  11",
      "text/html": "<div>\n<style scoped>\n    .dataframe tbody tr th:only-of-type {\n        vertical-align: middle;\n    }\n\n    .dataframe tbody tr th {\n        vertical-align: top;\n    }\n\n    .dataframe thead th {\n        text-align: right;\n    }\n</style>\n<table border=\"1\" class=\"dataframe\">\n  <thead>\n    <tr style=\"text-align: right;\">\n      <th></th>\n      <th>日期</th>\n      <th>最高温</th>\n      <th>最低温</th>\n      <th>天气</th>\n      <th>风力风向</th>\n      <th>空气质量指数</th>\n      <th>温差</th>\n    </tr>\n  </thead>\n  <tbody>\n    <tr>\n      <th>2604</th>\n      <td>2018-03-01 周四</td>\n      <td>8</td>\n      <td>-3</td>\n      <td>多云</td>\n      <td>西南风1-2级</td>\n      <td>46 优</td>\n      <td>11</td>\n    </tr>\n    <tr>\n      <th>2605</th>\n      <td>2018-03-02 周五</td>\n      <td>9</td>\n      <td>-1</td>\n      <td>晴~多云</td>\n      <td>北风1-2级</td>\n      <td>95 良</td>\n      <td>10</td>\n    </tr>\n    <tr>\n      <th>2606</th>\n      <td>2018-03-03 周六</td>\n      <td>13</td>\n      <td>3</td>\n      <td>多云~阴</td>\n      <td>北风1-2级</td>\n      <td>214 重度</td>\n      <td>10</td>\n    </tr>\n    <tr>\n      <th>2607</th>\n      <td>2018-03-04 周日</td>\n      <td>7</td>\n      <td>-2</td>\n      <td>阴~多云</td>\n      <td>东南风1-2级</td>\n      <td>144 轻度</td>\n      <td>9</td>\n    </tr>\n    <tr>\n      <th>2608</th>\n      <td>2018-03-05 周一</td>\n      <td>8</td>\n      <td>-3</td>\n      <td>晴</td>\n      <td>南风1-2级</td>\n      <td>94 良</td>\n      <td>11</td>\n    </tr>\n  </tbody>\n</table>\n</div>"
     },
     "execution_count": 64,
     "metadata": {},
     "output_type": "execute_result"
    }
   ],
   "source": [
    "df_month3['温差'] = df_copy1['最高温'] - df_copy1['最低温']\n",
    "df_month3.head()"
   ],
   "metadata": {
    "collapsed": false
   }
  },
  {
   "cell_type": "markdown",
   "source": [
    "### 总之, pandas不允许先筛选子DataFrame在进行修改写入\n",
    "要么使用.loc实现一个步骤直接修改源DataFrame\n",
    "要么先筛选将筛选出来的子DataFrame进行复制在执行修改写入"
   ],
   "metadata": {
    "collapsed": false
   }
  }
 ],
 "metadata": {
  "kernelspec": {
   "display_name": "Python 3",
   "language": "python",
   "name": "python3"
  },
  "language_info": {
   "codemirror_mode": {
    "name": "ipython",
    "version": 2
   },
   "file_extension": ".py",
   "mimetype": "text/x-python",
   "name": "python",
   "nbconvert_exporter": "python",
   "pygments_lexer": "ipython2",
   "version": "2.7.6"
  }
 },
 "nbformat": 4,
 "nbformat_minor": 0
}
