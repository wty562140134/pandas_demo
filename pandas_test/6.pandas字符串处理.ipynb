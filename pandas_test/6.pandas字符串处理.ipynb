{
 "cells": [
  {
   "cell_type": "markdown",
   "source": [
    "# pandas字符串处理\n",
    "\n",
    "## pandas的字符串处理:\n",
    "1. 使用方法: 先获取Series的str属性,然后在属性上调用函数\n",
    "2. 只能在字符串列上使用,不能在其他数据类型上使用\n",
    "3. DataFrame上没有str属性和方法\n",
    "4. Series.str并不是原始python原始字符串, 而是自己的一套方法, 大部分和python的str类似\n",
    "\n",
    "## Series.str字符串方法列表参考文档:\n",
    "[文档](https://pandas.pydataorg/pandas-docs/stable/reference/series.html#string-handling 'pandas字符串官方文档')\n",
    "\n",
    "## 代码示例内容:\n",
    "1. 获取Series的str属性, 然后使用各种字符串处理函数\n",
    "2. 使用str的startswith、contains等 得到bool值的Series 作为查询条件\n",
    "3. 需要多次str处理的链式操作\n",
    "4. 使用正则表达式的处理"
   ],
   "metadata": {
    "collapsed": false
   }
  },
  {
   "cell_type": "markdown",
   "source": [
    "# 读取数据"
   ],
   "metadata": {
    "collapsed": false
   }
  },
  {
   "cell_type": "code",
   "execution_count": 1,
   "outputs": [],
   "source": [
    "import pandas as pd"
   ],
   "metadata": {
    "collapsed": false
   }
  },
  {
   "cell_type": "code",
   "execution_count": 2,
   "outputs": [],
   "source": [
    "fpath = './data/weather/weater_beijing.xlsx'\n",
    "df = pd.read_excel(fpath)\n",
    "\n",
    "# 将最高温、最低温的°干掉, 并进行缺失值的处理\n",
    "# 处理缺失值第一种方式\n",
    "df.loc[:, '最高温'] = df['最高温'].str.replace('°', '').str.replace('', '0')\n",
    "df['最高温'].fillna('0', inplace=True)\n",
    "df.loc[:, '最高温'] = df['最高温'].astype(int)\n",
    "# 处理缺失值第二种方式\n",
    "df.loc[:, '最低温'] = df['最低温'].str.replace('°', '').str.replace('', '0')\n",
    "df.loc[:, '最低温'] = df['最低温'].fillna({'最低温': '0'})\n",
    "df.loc[:, '最低温'] = df['最低温'].astype(int)"
   ],
   "metadata": {
    "collapsed": false
   }
  },
  {
   "cell_type": "markdown",
   "source": [
    "# 1. 获取Series的str属性, 使用各种字符串处理函数"
   ],
   "metadata": {
    "collapsed": false
   }
  },
  {
   "cell_type": "code",
   "execution_count": 3,
   "outputs": [
    {
     "data": {
      "text/plain": "日期        object\n最高温       object\n最低温       object\n天气        object\n风力风向      object\n空气质量指数    object\ndtype: object"
     },
     "execution_count": 3,
     "metadata": {},
     "output_type": "execute_result"
    }
   ],
   "source": [
    "df.dtypes"
   ],
   "metadata": {
    "collapsed": false
   }
  },
  {
   "cell_type": "code",
   "execution_count": 4,
   "outputs": [
    {
     "data": {
      "text/plain": "<pandas.core.strings.accessor.StringMethods at 0x2429360a3e0>"
     },
     "execution_count": 4,
     "metadata": {},
     "output_type": "execute_result"
    }
   ],
   "source": [
    "df['天气'].str"
   ],
   "metadata": {
    "collapsed": false
   }
  },
  {
   "cell_type": "code",
   "execution_count": 5,
   "outputs": [
    {
     "data": {
      "text/plain": "0       False\n1       False\n2       False\n3       False\n4       False\n        ...  \n4001    False\n4002    False\n4003    False\n4004    False\n4005    False\nName: 天气, Length: 4006, dtype: bool"
     },
     "execution_count": 5,
     "metadata": {},
     "output_type": "execute_result"
    }
   ],
   "source": [
    "# 判断是不是数字\n",
    "df['天气'].str.isnumeric()"
   ],
   "metadata": {
    "collapsed": false
   }
  },
  {
   "cell_type": "code",
   "execution_count": 6,
   "outputs": [
    {
     "data": {
      "text/plain": "0       4\n1       2\n2       4\n3       1\n4       1\n       ..\n4001    1\n4002    4\n4003    1\n4004    1\n4005    1\nName: 天气, Length: 4006, dtype: int64"
     },
     "execution_count": 6,
     "metadata": {},
     "output_type": "execute_result"
    }
   ],
   "source": [
    "df['天气'].str.len()"
   ],
   "metadata": {
    "collapsed": false
   }
  },
  {
   "cell_type": "code",
   "execution_count": 7,
   "outputs": [
    {
     "data": {
      "text/plain": "                 日期 最高温  最低温    天气             风力风向 空气质量指数\n0     2011-01-01 周六  -2   -7  多云~阴          无持续风向微风    NaN\n1     2011-01-02 周日  -2   -7    多云          无持续风向微风    NaN\n2     2011-01-03 周一  -2   -6  多云~阴  西北风~北风3-4级~4-5级    NaN\n3     2011-01-04 周二  -2   -9     晴           北风5-6级    NaN\n4     2011-01-05 周三  -2  -10     晴  北风~无持续风向3-4级~微风    NaN\n...             ...  ..  ...   ...              ...    ...\n4001  2021-12-27 周一   6   -8     晴            西北风1级   56 良\n4002  2021-12-28 周二   6   -5  多云~晴            西北风1级   64 良\n4003  2021-12-29 周三   5   -5     晴            西北风3级   43 优\n4004  2021-12-30 周四   6   -7     晴            西北风3级   38 优\n4005  2021-12-31 周五   5   -7     晴            东北风1级   44 优\n\n[4006 rows x 6 columns]",
      "text/html": "<div>\n<style scoped>\n    .dataframe tbody tr th:only-of-type {\n        vertical-align: middle;\n    }\n\n    .dataframe tbody tr th {\n        vertical-align: top;\n    }\n\n    .dataframe thead th {\n        text-align: right;\n    }\n</style>\n<table border=\"1\" class=\"dataframe\">\n  <thead>\n    <tr style=\"text-align: right;\">\n      <th></th>\n      <th>日期</th>\n      <th>最高温</th>\n      <th>最低温</th>\n      <th>天气</th>\n      <th>风力风向</th>\n      <th>空气质量指数</th>\n    </tr>\n  </thead>\n  <tbody>\n    <tr>\n      <th>0</th>\n      <td>2011-01-01 周六</td>\n      <td>-2</td>\n      <td>-7</td>\n      <td>多云~阴</td>\n      <td>无持续风向微风</td>\n      <td>NaN</td>\n    </tr>\n    <tr>\n      <th>1</th>\n      <td>2011-01-02 周日</td>\n      <td>-2</td>\n      <td>-7</td>\n      <td>多云</td>\n      <td>无持续风向微风</td>\n      <td>NaN</td>\n    </tr>\n    <tr>\n      <th>2</th>\n      <td>2011-01-03 周一</td>\n      <td>-2</td>\n      <td>-6</td>\n      <td>多云~阴</td>\n      <td>西北风~北风3-4级~4-5级</td>\n      <td>NaN</td>\n    </tr>\n    <tr>\n      <th>3</th>\n      <td>2011-01-04 周二</td>\n      <td>-2</td>\n      <td>-9</td>\n      <td>晴</td>\n      <td>北风5-6级</td>\n      <td>NaN</td>\n    </tr>\n    <tr>\n      <th>4</th>\n      <td>2011-01-05 周三</td>\n      <td>-2</td>\n      <td>-10</td>\n      <td>晴</td>\n      <td>北风~无持续风向3-4级~微风</td>\n      <td>NaN</td>\n    </tr>\n    <tr>\n      <th>...</th>\n      <td>...</td>\n      <td>...</td>\n      <td>...</td>\n      <td>...</td>\n      <td>...</td>\n      <td>...</td>\n    </tr>\n    <tr>\n      <th>4001</th>\n      <td>2021-12-27 周一</td>\n      <td>6</td>\n      <td>-8</td>\n      <td>晴</td>\n      <td>西北风1级</td>\n      <td>56 良</td>\n    </tr>\n    <tr>\n      <th>4002</th>\n      <td>2021-12-28 周二</td>\n      <td>6</td>\n      <td>-5</td>\n      <td>多云~晴</td>\n      <td>西北风1级</td>\n      <td>64 良</td>\n    </tr>\n    <tr>\n      <th>4003</th>\n      <td>2021-12-29 周三</td>\n      <td>5</td>\n      <td>-5</td>\n      <td>晴</td>\n      <td>西北风3级</td>\n      <td>43 优</td>\n    </tr>\n    <tr>\n      <th>4004</th>\n      <td>2021-12-30 周四</td>\n      <td>6</td>\n      <td>-7</td>\n      <td>晴</td>\n      <td>西北风3级</td>\n      <td>38 优</td>\n    </tr>\n    <tr>\n      <th>4005</th>\n      <td>2021-12-31 周五</td>\n      <td>5</td>\n      <td>-7</td>\n      <td>晴</td>\n      <td>东北风1级</td>\n      <td>44 优</td>\n    </tr>\n  </tbody>\n</table>\n<p>4006 rows × 6 columns</p>\n</div>"
     },
     "execution_count": 7,
     "metadata": {},
     "output_type": "execute_result"
    }
   ],
   "source": [
    "df"
   ],
   "metadata": {
    "collapsed": false
   }
  },
  {
   "cell_type": "code",
   "execution_count": 8,
   "outputs": [],
   "source": [
    "# 将空气质量指数这一列处理, 做缺失值处理后,将数据进行拆分成两列 空气质量(优、良) 空气质量指数\n",
    "df['空气质量指数'].fillna('-1 未统计', inplace=True)\n",
    "\n",
    "# 第一种方式\n",
    "df_copy = df.copy(True)\n",
    "df_copy[['空气质量','空气质量指数']] = df_copy['空气质量指数'].apply(lambda x: pd.Series(x.split(\" \")))"
   ],
   "metadata": {
    "collapsed": false
   }
  },
  {
   "cell_type": "code",
   "execution_count": 9,
   "outputs": [
    {
     "data": {
      "text/plain": "                 日期 最高温  最低温    天气             风力风向 空气质量指数 空气质量\n0     2011-01-01 周六  -2   -7  多云~阴          无持续风向微风    未统计   -1\n1     2011-01-02 周日  -2   -7    多云          无持续风向微风    未统计   -1\n2     2011-01-03 周一  -2   -6  多云~阴  西北风~北风3-4级~4-5级    未统计   -1\n3     2011-01-04 周二  -2   -9     晴           北风5-6级    未统计   -1\n4     2011-01-05 周三  -2  -10     晴  北风~无持续风向3-4级~微风    未统计   -1\n...             ...  ..  ...   ...              ...    ...  ...\n4001  2021-12-27 周一   6   -8     晴            西北风1级      良   56\n4002  2021-12-28 周二   6   -5  多云~晴            西北风1级      良   64\n4003  2021-12-29 周三   5   -5     晴            西北风3级      优   43\n4004  2021-12-30 周四   6   -7     晴            西北风3级      优   38\n4005  2021-12-31 周五   5   -7     晴            东北风1级      优   44\n\n[4006 rows x 7 columns]",
      "text/html": "<div>\n<style scoped>\n    .dataframe tbody tr th:only-of-type {\n        vertical-align: middle;\n    }\n\n    .dataframe tbody tr th {\n        vertical-align: top;\n    }\n\n    .dataframe thead th {\n        text-align: right;\n    }\n</style>\n<table border=\"1\" class=\"dataframe\">\n  <thead>\n    <tr style=\"text-align: right;\">\n      <th></th>\n      <th>日期</th>\n      <th>最高温</th>\n      <th>最低温</th>\n      <th>天气</th>\n      <th>风力风向</th>\n      <th>空气质量指数</th>\n      <th>空气质量</th>\n    </tr>\n  </thead>\n  <tbody>\n    <tr>\n      <th>0</th>\n      <td>2011-01-01 周六</td>\n      <td>-2</td>\n      <td>-7</td>\n      <td>多云~阴</td>\n      <td>无持续风向微风</td>\n      <td>未统计</td>\n      <td>-1</td>\n    </tr>\n    <tr>\n      <th>1</th>\n      <td>2011-01-02 周日</td>\n      <td>-2</td>\n      <td>-7</td>\n      <td>多云</td>\n      <td>无持续风向微风</td>\n      <td>未统计</td>\n      <td>-1</td>\n    </tr>\n    <tr>\n      <th>2</th>\n      <td>2011-01-03 周一</td>\n      <td>-2</td>\n      <td>-6</td>\n      <td>多云~阴</td>\n      <td>西北风~北风3-4级~4-5级</td>\n      <td>未统计</td>\n      <td>-1</td>\n    </tr>\n    <tr>\n      <th>3</th>\n      <td>2011-01-04 周二</td>\n      <td>-2</td>\n      <td>-9</td>\n      <td>晴</td>\n      <td>北风5-6级</td>\n      <td>未统计</td>\n      <td>-1</td>\n    </tr>\n    <tr>\n      <th>4</th>\n      <td>2011-01-05 周三</td>\n      <td>-2</td>\n      <td>-10</td>\n      <td>晴</td>\n      <td>北风~无持续风向3-4级~微风</td>\n      <td>未统计</td>\n      <td>-1</td>\n    </tr>\n    <tr>\n      <th>...</th>\n      <td>...</td>\n      <td>...</td>\n      <td>...</td>\n      <td>...</td>\n      <td>...</td>\n      <td>...</td>\n      <td>...</td>\n    </tr>\n    <tr>\n      <th>4001</th>\n      <td>2021-12-27 周一</td>\n      <td>6</td>\n      <td>-8</td>\n      <td>晴</td>\n      <td>西北风1级</td>\n      <td>良</td>\n      <td>56</td>\n    </tr>\n    <tr>\n      <th>4002</th>\n      <td>2021-12-28 周二</td>\n      <td>6</td>\n      <td>-5</td>\n      <td>多云~晴</td>\n      <td>西北风1级</td>\n      <td>良</td>\n      <td>64</td>\n    </tr>\n    <tr>\n      <th>4003</th>\n      <td>2021-12-29 周三</td>\n      <td>5</td>\n      <td>-5</td>\n      <td>晴</td>\n      <td>西北风3级</td>\n      <td>优</td>\n      <td>43</td>\n    </tr>\n    <tr>\n      <th>4004</th>\n      <td>2021-12-30 周四</td>\n      <td>6</td>\n      <td>-7</td>\n      <td>晴</td>\n      <td>西北风3级</td>\n      <td>优</td>\n      <td>38</td>\n    </tr>\n    <tr>\n      <th>4005</th>\n      <td>2021-12-31 周五</td>\n      <td>5</td>\n      <td>-7</td>\n      <td>晴</td>\n      <td>东北风1级</td>\n      <td>优</td>\n      <td>44</td>\n    </tr>\n  </tbody>\n</table>\n<p>4006 rows × 7 columns</p>\n</div>"
     },
     "execution_count": 9,
     "metadata": {},
     "output_type": "execute_result"
    }
   ],
   "source": [
    "df_copy"
   ],
   "metadata": {
    "collapsed": false
   }
  },
  {
   "cell_type": "code",
   "execution_count": 10,
   "outputs": [],
   "source": [
    "# 第二种方式\n",
    "def split_data(d):\n",
    "   r = pd.Series(d.split(' '))\n",
    "   return r\n",
    "\n",
    "\n",
    "df_copy1 = df.copy(True)\n",
    "df_copy1[['空气质量','空气质量指数']] = df_copy1['空气质量指数'].apply(split_data)"
   ],
   "metadata": {
    "collapsed": false
   }
  },
  {
   "cell_type": "code",
   "execution_count": 11,
   "outputs": [
    {
     "data": {
      "text/plain": "                 日期 最高温  最低温    天气             风力风向 空气质量指数 空气质量\n0     2011-01-01 周六  -2   -7  多云~阴          无持续风向微风    未统计   -1\n1     2011-01-02 周日  -2   -7    多云          无持续风向微风    未统计   -1\n2     2011-01-03 周一  -2   -6  多云~阴  西北风~北风3-4级~4-5级    未统计   -1\n3     2011-01-04 周二  -2   -9     晴           北风5-6级    未统计   -1\n4     2011-01-05 周三  -2  -10     晴  北风~无持续风向3-4级~微风    未统计   -1\n...             ...  ..  ...   ...              ...    ...  ...\n4001  2021-12-27 周一   6   -8     晴            西北风1级      良   56\n4002  2021-12-28 周二   6   -5  多云~晴            西北风1级      良   64\n4003  2021-12-29 周三   5   -5     晴            西北风3级      优   43\n4004  2021-12-30 周四   6   -7     晴            西北风3级      优   38\n4005  2021-12-31 周五   5   -7     晴            东北风1级      优   44\n\n[4006 rows x 7 columns]",
      "text/html": "<div>\n<style scoped>\n    .dataframe tbody tr th:only-of-type {\n        vertical-align: middle;\n    }\n\n    .dataframe tbody tr th {\n        vertical-align: top;\n    }\n\n    .dataframe thead th {\n        text-align: right;\n    }\n</style>\n<table border=\"1\" class=\"dataframe\">\n  <thead>\n    <tr style=\"text-align: right;\">\n      <th></th>\n      <th>日期</th>\n      <th>最高温</th>\n      <th>最低温</th>\n      <th>天气</th>\n      <th>风力风向</th>\n      <th>空气质量指数</th>\n      <th>空气质量</th>\n    </tr>\n  </thead>\n  <tbody>\n    <tr>\n      <th>0</th>\n      <td>2011-01-01 周六</td>\n      <td>-2</td>\n      <td>-7</td>\n      <td>多云~阴</td>\n      <td>无持续风向微风</td>\n      <td>未统计</td>\n      <td>-1</td>\n    </tr>\n    <tr>\n      <th>1</th>\n      <td>2011-01-02 周日</td>\n      <td>-2</td>\n      <td>-7</td>\n      <td>多云</td>\n      <td>无持续风向微风</td>\n      <td>未统计</td>\n      <td>-1</td>\n    </tr>\n    <tr>\n      <th>2</th>\n      <td>2011-01-03 周一</td>\n      <td>-2</td>\n      <td>-6</td>\n      <td>多云~阴</td>\n      <td>西北风~北风3-4级~4-5级</td>\n      <td>未统计</td>\n      <td>-1</td>\n    </tr>\n    <tr>\n      <th>3</th>\n      <td>2011-01-04 周二</td>\n      <td>-2</td>\n      <td>-9</td>\n      <td>晴</td>\n      <td>北风5-6级</td>\n      <td>未统计</td>\n      <td>-1</td>\n    </tr>\n    <tr>\n      <th>4</th>\n      <td>2011-01-05 周三</td>\n      <td>-2</td>\n      <td>-10</td>\n      <td>晴</td>\n      <td>北风~无持续风向3-4级~微风</td>\n      <td>未统计</td>\n      <td>-1</td>\n    </tr>\n    <tr>\n      <th>...</th>\n      <td>...</td>\n      <td>...</td>\n      <td>...</td>\n      <td>...</td>\n      <td>...</td>\n      <td>...</td>\n      <td>...</td>\n    </tr>\n    <tr>\n      <th>4001</th>\n      <td>2021-12-27 周一</td>\n      <td>6</td>\n      <td>-8</td>\n      <td>晴</td>\n      <td>西北风1级</td>\n      <td>良</td>\n      <td>56</td>\n    </tr>\n    <tr>\n      <th>4002</th>\n      <td>2021-12-28 周二</td>\n      <td>6</td>\n      <td>-5</td>\n      <td>多云~晴</td>\n      <td>西北风1级</td>\n      <td>良</td>\n      <td>64</td>\n    </tr>\n    <tr>\n      <th>4003</th>\n      <td>2021-12-29 周三</td>\n      <td>5</td>\n      <td>-5</td>\n      <td>晴</td>\n      <td>西北风3级</td>\n      <td>优</td>\n      <td>43</td>\n    </tr>\n    <tr>\n      <th>4004</th>\n      <td>2021-12-30 周四</td>\n      <td>6</td>\n      <td>-7</td>\n      <td>晴</td>\n      <td>西北风3级</td>\n      <td>优</td>\n      <td>38</td>\n    </tr>\n    <tr>\n      <th>4005</th>\n      <td>2021-12-31 周五</td>\n      <td>5</td>\n      <td>-7</td>\n      <td>晴</td>\n      <td>东北风1级</td>\n      <td>优</td>\n      <td>44</td>\n    </tr>\n  </tbody>\n</table>\n<p>4006 rows × 7 columns</p>\n</div>"
     },
     "execution_count": 11,
     "metadata": {},
     "output_type": "execute_result"
    }
   ],
   "source": [
    "df_copy1"
   ],
   "metadata": {
    "collapsed": false
   }
  },
  {
   "cell_type": "markdown",
   "source": [
    "# 2. 使用str的startswith、contains等 得到bool值的Series 作为查询条件"
   ],
   "metadata": {
    "collapsed": false
   }
  },
  {
   "cell_type": "code",
   "execution_count": 12,
   "outputs": [],
   "source": [
    "condition = df['日期'].str.startswith('2018-03')"
   ],
   "metadata": {
    "collapsed": false
   }
  },
  {
   "cell_type": "code",
   "execution_count": 13,
   "outputs": [
    {
     "data": {
      "text/plain": "0       False\n1       False\n2       False\n3       False\n4       False\n        ...  \n4001    False\n4002    False\n4003    False\n4004    False\n4005    False\nName: 日期, Length: 4006, dtype: bool"
     },
     "execution_count": 13,
     "metadata": {},
     "output_type": "execute_result"
    }
   ],
   "source": [
    "condition"
   ],
   "metadata": {
    "collapsed": false
   }
  },
  {
   "cell_type": "code",
   "execution_count": 14,
   "outputs": [
    {
     "data": {
      "text/plain": "                 日期 最高温 最低温    天气     风力风向  空气质量指数\n2604  2018-03-01 周四   8  -3    多云  西南风1-2级    46 优\n2605  2018-03-02 周五   9  -1  晴~多云   北风1-2级    95 良\n2606  2018-03-03 周六  13   3  多云~阴   北风1-2级  214 重度\n2607  2018-03-04 周日   7  -2  阴~多云  东南风1-2级  144 轻度\n2608  2018-03-05 周一   8  -3     晴   南风1-2级    94 良",
      "text/html": "<div>\n<style scoped>\n    .dataframe tbody tr th:only-of-type {\n        vertical-align: middle;\n    }\n\n    .dataframe tbody tr th {\n        vertical-align: top;\n    }\n\n    .dataframe thead th {\n        text-align: right;\n    }\n</style>\n<table border=\"1\" class=\"dataframe\">\n  <thead>\n    <tr style=\"text-align: right;\">\n      <th></th>\n      <th>日期</th>\n      <th>最高温</th>\n      <th>最低温</th>\n      <th>天气</th>\n      <th>风力风向</th>\n      <th>空气质量指数</th>\n    </tr>\n  </thead>\n  <tbody>\n    <tr>\n      <th>2604</th>\n      <td>2018-03-01 周四</td>\n      <td>8</td>\n      <td>-3</td>\n      <td>多云</td>\n      <td>西南风1-2级</td>\n      <td>46 优</td>\n    </tr>\n    <tr>\n      <th>2605</th>\n      <td>2018-03-02 周五</td>\n      <td>9</td>\n      <td>-1</td>\n      <td>晴~多云</td>\n      <td>北风1-2级</td>\n      <td>95 良</td>\n    </tr>\n    <tr>\n      <th>2606</th>\n      <td>2018-03-03 周六</td>\n      <td>13</td>\n      <td>3</td>\n      <td>多云~阴</td>\n      <td>北风1-2级</td>\n      <td>214 重度</td>\n    </tr>\n    <tr>\n      <th>2607</th>\n      <td>2018-03-04 周日</td>\n      <td>7</td>\n      <td>-2</td>\n      <td>阴~多云</td>\n      <td>东南风1-2级</td>\n      <td>144 轻度</td>\n    </tr>\n    <tr>\n      <th>2608</th>\n      <td>2018-03-05 周一</td>\n      <td>8</td>\n      <td>-3</td>\n      <td>晴</td>\n      <td>南风1-2级</td>\n      <td>94 良</td>\n    </tr>\n  </tbody>\n</table>\n</div>"
     },
     "execution_count": 14,
     "metadata": {},
     "output_type": "execute_result"
    }
   ],
   "source": [
    "df[condition].head()"
   ],
   "metadata": {
    "collapsed": false
   }
  },
  {
   "cell_type": "markdown",
   "source": [
    "# 3. 需要多次str处理的链式操作\n",
    "怎样提前201803这样的数字月份\n",
    "1. 先将日期2018-03-31形式替换为20180331的形式\n",
    "2. 提取月份字符串201803"
   ],
   "metadata": {
    "collapsed": false
   }
  },
  {
   "cell_type": "code",
   "execution_count": 15,
   "outputs": [
    {
     "data": {
      "text/plain": "0       20110101 周六\n1       20110102 周日\n2       20110103 周一\n3       20110104 周二\n4       20110105 周三\n           ...     \n4001    20211227 周一\n4002    20211228 周二\n4003    20211229 周三\n4004    20211230 周四\n4005    20211231 周五\nName: 日期, Length: 4006, dtype: object"
     },
     "execution_count": 15,
     "metadata": {},
     "output_type": "execute_result"
    }
   ],
   "source": [
    "df['日期'].str.replace('-', '')"
   ],
   "metadata": {
    "collapsed": false
   }
  },
  {
   "cell_type": "code",
   "execution_count": 15,
   "outputs": [],
   "source": [],
   "metadata": {
    "collapsed": false
   }
  }
 ],
 "metadata": {
  "kernelspec": {
   "display_name": "Python 3",
   "language": "python",
   "name": "python3"
  },
  "language_info": {
   "codemirror_mode": {
    "name": "ipython",
    "version": 2
   },
   "file_extension": ".py",
   "mimetype": "text/x-python",
   "name": "python",
   "nbconvert_exporter": "python",
   "pygments_lexer": "ipython2",
   "version": "2.7.6"
  }
 },
 "nbformat": 4,
 "nbformat_minor": 0
}
