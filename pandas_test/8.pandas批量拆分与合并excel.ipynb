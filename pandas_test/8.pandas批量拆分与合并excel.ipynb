{
 "cells": [
  {
   "cell_type": "markdown",
   "source": [
    "# pandas批量拆分与合并Excel\n",
    "实例:\n",
    "1. 将一个大excel等份拆分成多个excel\n",
    "2. 将多个小excel合并成一个大excel并标记来源"
   ],
   "metadata": {
    "collapsed": false
   }
  },
  {
   "cell_type": "code",
   "execution_count": 1,
   "outputs": [],
   "source": [
    "work_dir = './data/合并目录/'\n",
    "split_dir = './data/合并目录/splits/'"
   ],
   "metadata": {
    "collapsed": false
   }
  },
  {
   "cell_type": "code",
   "execution_count": 2,
   "outputs": [],
   "source": [
    "import os\n",
    "\n",
    "if not os.path.exists(split_dir):\n",
    "    os.mkdir(split_dir)"
   ],
   "metadata": {
    "collapsed": false
   }
  },
  {
   "cell_type": "markdown",
   "source": [
    "## 0. 读取exce"
   ],
   "metadata": {
    "collapsed": false
   }
  },
  {
   "cell_type": "code",
   "execution_count": 3,
   "outputs": [],
   "source": [
    "import pandas as pd"
   ],
   "metadata": {
    "collapsed": false
   }
  },
  {
   "cell_type": "code",
   "execution_count": 4,
   "outputs": [],
   "source": [
    "df_source = pd.read_excel('./data/movies/users.xlsx')"
   ],
   "metadata": {
    "collapsed": false
   }
  },
  {
   "cell_type": "code",
   "execution_count": 5,
   "outputs": [
    {
     "data": {
      "text/plain": "   userId  age gender  occupation zip-code\n0       1   24      M  technician    85711\n1       2   53      F       other    94043\n2       3   23      M      writer    32067\n3       4   24      M  technician    43537\n4       5   33      F       other    15213",
      "text/html": "<div>\n<style scoped>\n    .dataframe tbody tr th:only-of-type {\n        vertical-align: middle;\n    }\n\n    .dataframe tbody tr th {\n        vertical-align: top;\n    }\n\n    .dataframe thead th {\n        text-align: right;\n    }\n</style>\n<table border=\"1\" class=\"dataframe\">\n  <thead>\n    <tr style=\"text-align: right;\">\n      <th></th>\n      <th>userId</th>\n      <th>age</th>\n      <th>gender</th>\n      <th>occupation</th>\n      <th>zip-code</th>\n    </tr>\n  </thead>\n  <tbody>\n    <tr>\n      <th>0</th>\n      <td>1</td>\n      <td>24</td>\n      <td>M</td>\n      <td>technician</td>\n      <td>85711</td>\n    </tr>\n    <tr>\n      <th>1</th>\n      <td>2</td>\n      <td>53</td>\n      <td>F</td>\n      <td>other</td>\n      <td>94043</td>\n    </tr>\n    <tr>\n      <th>2</th>\n      <td>3</td>\n      <td>23</td>\n      <td>M</td>\n      <td>writer</td>\n      <td>32067</td>\n    </tr>\n    <tr>\n      <th>3</th>\n      <td>4</td>\n      <td>24</td>\n      <td>M</td>\n      <td>technician</td>\n      <td>43537</td>\n    </tr>\n    <tr>\n      <th>4</th>\n      <td>5</td>\n      <td>33</td>\n      <td>F</td>\n      <td>other</td>\n      <td>15213</td>\n    </tr>\n  </tbody>\n</table>\n</div>"
     },
     "execution_count": 5,
     "metadata": {},
     "output_type": "execute_result"
    }
   ],
   "source": [
    "df_source.head()"
   ],
   "metadata": {
    "collapsed": false
   }
  },
  {
   "cell_type": "code",
   "execution_count": 6,
   "outputs": [
    {
     "data": {
      "text/plain": "RangeIndex(start=0, stop=943, step=1)"
     },
     "execution_count": 6,
     "metadata": {},
     "output_type": "execute_result"
    }
   ],
   "source": [
    "df_source.index"
   ],
   "metadata": {
    "collapsed": false
   }
  },
  {
   "cell_type": "code",
   "execution_count": 7,
   "outputs": [
    {
     "data": {
      "text/plain": "(943, 5)"
     },
     "execution_count": 7,
     "metadata": {},
     "output_type": "execute_result"
    }
   ],
   "source": [
    "df_source.shape  # 查看有几行几列"
   ],
   "metadata": {
    "collapsed": false
   }
  },
  {
   "cell_type": "markdown",
   "source": [
    "# 一. 将一个大excel等份拆分成多个excel\n",
    "1. 使用df.iloc方法, 将一个大DataFrame拆分成多个小DataFrame\n",
    "2. 将使用dataFrame.to_excel()保存小excel\n"
   ],
   "metadata": {
    "collapsed": false
   }
  },
  {
   "cell_type": "markdown",
   "source": [
    "**1.计算拆分后的每个excel的行数**"
   ],
   "metadata": {
    "collapsed": false
   }
  },
  {
   "cell_type": "code",
   "execution_count": 8,
   "outputs": [
    {
     "data": {
      "text/plain": "['student',\n 'other',\n 'educator',\n 'administrator',\n 'engineer',\n 'programmer',\n 'librarian',\n 'writer',\n 'executive',\n 'scientist',\n 'artist',\n 'technician',\n 'marketing',\n 'entertainment',\n 'healthcare',\n 'retired',\n 'lawyer',\n 'salesman',\n 'none',\n 'homemaker',\n 'doctor']"
     },
     "execution_count": 8,
     "metadata": {},
     "output_type": "execute_result"
    }
   ],
   "source": [
    "# 将某一列做统计并且将统计结果转换为列表方式一\n",
    "list(df_source['occupation'].value_counts().keys()[0:])"
   ],
   "metadata": {
    "collapsed": false
   }
  },
  {
   "cell_type": "code",
   "execution_count": 9,
   "outputs": [
    {
     "data": {
      "text/plain": "['student',\n 'other',\n 'educator',\n 'administrator',\n 'engineer',\n 'programmer',\n 'librarian',\n 'writer',\n 'executive',\n 'scientist',\n 'artist',\n 'technician',\n 'marketing',\n 'entertainment',\n 'healthcare',\n 'retired',\n 'lawyer',\n 'salesman',\n 'none',\n 'homemaker',\n 'doctor']"
     },
     "execution_count": 9,
     "metadata": {},
     "output_type": "execute_result"
    }
   ],
   "source": [
    "# 将某一列做统计并且将统计结果转换为列表方式二\n",
    "list(df_source['occupation'].value_counts().index[0:])"
   ],
   "metadata": {
    "collapsed": false
   }
  },
  {
   "cell_type": "code",
   "execution_count": 10,
   "outputs": [
    {
     "data": {
      "text/plain": "158"
     },
     "execution_count": 10,
     "metadata": {},
     "output_type": "execute_result"
    }
   ],
   "source": [
    "# 这个大excel, 会拆封给这些人\n",
    "user_names = ['xiao_shuai', 'xiao_wang', 'xiao_ming', 'xiao_lei', 'xiao_bo', 'xiao_hong']\n",
    "# 每个人的任务数目\n",
    "total_row_count = df_source.shape[0]\n",
    "split_size = total_row_count / len(user_names)\n",
    "if total_row_count % len(user_names) != 0:\n",
    "    split_size += 1\n",
    "int(split_size)"
   ],
   "metadata": {
    "collapsed": false
   }
  },
  {
   "cell_type": "markdown",
   "source": [
    "**2.拆分成多个DataFrame**"
   ],
   "metadata": {
    "collapsed": false
   }
  },
  {
   "cell_type": "markdown",
   "source": [
    "1. 使用循环来确定拆分数据"
   ],
   "metadata": {
    "collapsed": false
   }
  },
  {
   "cell_type": "code",
   "execution_count": 11,
   "outputs": [],
   "source": [
    "df_subs = []\n",
    "for idx, user_name in enumerate(user_names):\n",
    "    # iloc开始索引\n",
    "    begin = int(idx * split_size)\n",
    "    # iloc结束索引\n",
    "    end = int(begin + split_size)\n",
    "    # 实现df安装iloc拆分\n",
    "    df_sub = df_source.iloc[begin: end]\n",
    "    df_subs.append((idx, user_name, df_sub))"
   ],
   "metadata": {
    "collapsed": false
   }
  },
  {
   "cell_type": "code",
   "execution_count": 12,
   "outputs": [
    {
     "data": {
      "text/plain": "[(0,\n  'xiao_shuai',\n       userId  age gender  occupation zip-code\n  0         1   24      M  technician    85711\n  1         2   53      F       other    94043\n  2         3   23      M      writer    32067\n  3         4   24      M  technician    43537\n  4         5   33      F       other    15213\n  ..      ...  ...    ...         ...      ...\n  153     154   25      M     student    53703\n  154     155   32      F       other    11217\n  155     156   25      M    educator    08360\n  156     157   57      M    engineer    70808\n  157     158   50      M    educator    27606\n  \n  [158 rows x 5 columns]),\n (1,\n  'xiao_wang',\n       userId  age gender     occupation zip-code\n  158     159   23      F        student    55346\n  159     160   27      M     programmer    66215\n  160     161   50      M         lawyer    55104\n  161     162   25      M         artist    15610\n  162     163   49      M  administrator    97212\n  ..      ...  ...    ...            ...      ...\n  311     312   48      M          other    02110\n  312     313   41      M      marketing    60035\n  313     314   20      F        student    08043\n  314     315   31      M       educator    18301\n  315     316   43      F          other    77009\n  \n  [158 rows x 5 columns]),\n (2,\n  'xiao_ming',\n       userId  age gender     occupation zip-code\n  316     317   22      M  administrator    13210\n  317     318   65      M        retired    06518\n  318     319   38      M     programmer    22030\n  319     320   19      M        student    24060\n  320     321   49      F       educator    55413\n  ..      ...  ...    ...            ...      ...\n  469     470   24      M     programmer    10021\n  470     471   10      M        student    77459\n  471     472   24      M        student    87544\n  472     473   29      M        student    94708\n  473     474   51      M      executive    93711\n  \n  [158 rows x 5 columns]),\n (3,\n  'xiao_lei',\n       userId  age gender  occupation zip-code\n  474     475   30      M  programmer    75230\n  475     476   28      M     student    60440\n  476     477   23      F     student    02125\n  477     478   29      M       other    10019\n  478     479   30      M    educator    55409\n  ..      ...  ...    ...         ...      ...\n  627     628   13      M        none    94306\n  628     629   46      F       other    44224\n  629     630   26      F  healthcare    55408\n  630     631   18      F     student    38866\n  631     632   18      M     student    55454\n  \n  [158 rows x 5 columns]),\n (4,\n  'xiao_bo',\n       userId  age gender     occupation zip-code\n  632     633   35      M     programmer    55414\n  633     634   39      M       engineer    T8H1N\n  634     635   22      M          other    23237\n  635     636   47      M       educator    48043\n  636     637   30      M          other    74101\n  ..      ...  ...    ...            ...      ...\n  785     786   36      F       engineer    01754\n  786     787   18      F        student    98620\n  787     788   51      M  administrator    05779\n  788     789   29      M          other    55420\n  789     790   27      M     technician    80913\n  \n  [158 rows x 5 columns]),\n (5,\n  'xiao_hong',\n       userId  age gender     occupation zip-code\n  790     791   31      M       educator    20064\n  791     792   40      M     programmer    12205\n  792     793   22      M        student    85281\n  793     794   32      M       educator    57197\n  794     795   30      M     programmer    08610\n  ..      ...  ...    ...            ...      ...\n  938     939   26      F        student    33319\n  939     940   32      M  administrator    02215\n  940     941   20      M        student    97229\n  941     942   48      F      librarian    78209\n  942     943   22      M        student    77841\n  \n  [153 rows x 5 columns])]"
     },
     "execution_count": 12,
     "metadata": {},
     "output_type": "execute_result"
    }
   ],
   "source": [
    "df_subs"
   ],
   "metadata": {
    "collapsed": false
   }
  },
  {
   "cell_type": "markdown",
   "source": [
    "2. 使用pandas来代替循环确定拆分数据"
   ],
   "metadata": {
    "collapsed": false
   }
  },
  {
   "cell_type": "code",
   "execution_count": 13,
   "outputs": [],
   "source": [
    "def get_begin_end_ids(user_name):\n",
    "    ids = user_names.index(user_name)\n",
    "    begin = int(ids * split_size)\n",
    "    end = int(begin + split_size)\n",
    "    return begin, end, ids\n",
    "\n",
    "\n",
    "m = list(map(get_begin_end_ids, user_names))\n",
    "query_df = pd.DataFrame({'user_name': user_names,\n",
    "                         'begin': list(map(lambda i: i[0], m)),\n",
    "                         'end': list(map(lambda i: i[1], m)),\n",
    "                         'ids': list(map(lambda i: i[1], m))})"
   ],
   "metadata": {
    "collapsed": false
   }
  },
  {
   "cell_type": "code",
   "execution_count": 14,
   "outputs": [
    {
     "data": {
      "text/plain": "    user_name  begin  end  ids\n0  xiao_shuai      0  158  158\n1   xiao_wang    158  316  316\n2   xiao_ming    316  474  474\n3    xiao_lei    474  632  632\n4     xiao_bo    632  790  790\n5   xiao_hong    790  948  948",
      "text/html": "<div>\n<style scoped>\n    .dataframe tbody tr th:only-of-type {\n        vertical-align: middle;\n    }\n\n    .dataframe tbody tr th {\n        vertical-align: top;\n    }\n\n    .dataframe thead th {\n        text-align: right;\n    }\n</style>\n<table border=\"1\" class=\"dataframe\">\n  <thead>\n    <tr style=\"text-align: right;\">\n      <th></th>\n      <th>user_name</th>\n      <th>begin</th>\n      <th>end</th>\n      <th>ids</th>\n    </tr>\n  </thead>\n  <tbody>\n    <tr>\n      <th>0</th>\n      <td>xiao_shuai</td>\n      <td>0</td>\n      <td>158</td>\n      <td>158</td>\n    </tr>\n    <tr>\n      <th>1</th>\n      <td>xiao_wang</td>\n      <td>158</td>\n      <td>316</td>\n      <td>316</td>\n    </tr>\n    <tr>\n      <th>2</th>\n      <td>xiao_ming</td>\n      <td>316</td>\n      <td>474</td>\n      <td>474</td>\n    </tr>\n    <tr>\n      <th>3</th>\n      <td>xiao_lei</td>\n      <td>474</td>\n      <td>632</td>\n      <td>632</td>\n    </tr>\n    <tr>\n      <th>4</th>\n      <td>xiao_bo</td>\n      <td>632</td>\n      <td>790</td>\n      <td>790</td>\n    </tr>\n    <tr>\n      <th>5</th>\n      <td>xiao_hong</td>\n      <td>790</td>\n      <td>948</td>\n      <td>948</td>\n    </tr>\n  </tbody>\n</table>\n</div>"
     },
     "execution_count": 14,
     "metadata": {},
     "output_type": "execute_result"
    }
   ],
   "source": [
    "query_df"
   ],
   "metadata": {
    "collapsed": false
   }
  },
  {
   "cell_type": "code",
   "execution_count": 15,
   "outputs": [
    {
     "name": "stdout",
     "output_type": "stream",
     "text": [
      "CPU times: total: 0 ns\n",
      "Wall time: 0 ns\n"
     ]
    }
   ],
   "source": [
    "% % time\n",
    "\n",
    "def get_sub_df(user_name):\n",
    "    condition = query_df['user_name'] == user_name\n",
    "    condition_index = query_df.loc[condition].index[0]\n",
    "    begin = query_df.loc[condition]['begin'][condition_index]\n",
    "    end = query_df.loc[condition]['end'][condition_index]\n",
    "    return df_source.loc[begin: end]"
   ],
   "metadata": {
    "collapsed": false
   }
  },
  {
   "cell_type": "code",
   "execution_count": 16,
   "outputs": [],
   "source": [
    "df_subs1 = list(map(get_sub_df, user_names))"
   ],
   "metadata": {
    "collapsed": false
   }
  },
  {
   "cell_type": "markdown",
   "source": [
    "**2.将拆分后的数据保存**"
   ],
   "metadata": {
    "collapsed": false
   }
  },
  {
   "cell_type": "code",
   "execution_count": 17,
   "outputs": [
    {
     "data": {
      "text/plain": "[     userId  age gender  occupation zip-code\n 0         1   24      M  technician    85711\n 1         2   53      F       other    94043\n 2         3   23      M      writer    32067\n 3         4   24      M  technician    43537\n 4         5   33      F       other    15213\n ..      ...  ...    ...         ...      ...\n 154     155   32      F       other    11217\n 155     156   25      M    educator    08360\n 156     157   57      M    engineer    70808\n 157     158   50      M    educator    27606\n 158     159   23      F     student    55346\n \n [159 rows x 5 columns],\n      userId  age gender     occupation zip-code\n 158     159   23      F        student    55346\n 159     160   27      M     programmer    66215\n 160     161   50      M         lawyer    55104\n 161     162   25      M         artist    15610\n 162     163   49      M  administrator    97212\n ..      ...  ...    ...            ...      ...\n 312     313   41      M      marketing    60035\n 313     314   20      F        student    08043\n 314     315   31      M       educator    18301\n 315     316   43      F          other    77009\n 316     317   22      M  administrator    13210\n \n [159 rows x 5 columns],\n      userId  age gender     occupation zip-code\n 316     317   22      M  administrator    13210\n 317     318   65      M        retired    06518\n 318     319   38      M     programmer    22030\n 319     320   19      M        student    24060\n 320     321   49      F       educator    55413\n ..      ...  ...    ...            ...      ...\n 470     471   10      M        student    77459\n 471     472   24      M        student    87544\n 472     473   29      M        student    94708\n 473     474   51      M      executive    93711\n 474     475   30      M     programmer    75230\n \n [159 rows x 5 columns],\n      userId  age gender  occupation zip-code\n 474     475   30      M  programmer    75230\n 475     476   28      M     student    60440\n 476     477   23      F     student    02125\n 477     478   29      M       other    10019\n 478     479   30      M    educator    55409\n ..      ...  ...    ...         ...      ...\n 628     629   46      F       other    44224\n 629     630   26      F  healthcare    55408\n 630     631   18      F     student    38866\n 631     632   18      M     student    55454\n 632     633   35      M  programmer    55414\n \n [159 rows x 5 columns],\n      userId  age gender     occupation zip-code\n 632     633   35      M     programmer    55414\n 633     634   39      M       engineer    T8H1N\n 634     635   22      M          other    23237\n 635     636   47      M       educator    48043\n 636     637   30      M          other    74101\n ..      ...  ...    ...            ...      ...\n 786     787   18      F        student    98620\n 787     788   51      M  administrator    05779\n 788     789   29      M          other    55420\n 789     790   27      M     technician    80913\n 790     791   31      M       educator    20064\n \n [159 rows x 5 columns],\n      userId  age gender     occupation zip-code\n 790     791   31      M       educator    20064\n 791     792   40      M     programmer    12205\n 792     793   22      M        student    85281\n 793     794   32      M       educator    57197\n 794     795   30      M     programmer    08610\n ..      ...  ...    ...            ...      ...\n 938     939   26      F        student    33319\n 939     940   32      M  administrator    02215\n 940     941   20      M        student    97229\n 941     942   48      F      librarian    78209\n 942     943   22      M        student    77841\n \n [153 rows x 5 columns]]"
     },
     "execution_count": 17,
     "metadata": {},
     "output_type": "execute_result"
    }
   ],
   "source": [
    "df_subs1"
   ],
   "metadata": {
    "collapsed": false
   }
  },
  {
   "cell_type": "code",
   "execution_count": 18,
   "outputs": [],
   "source": [
    "df_data = {'name': user_names, 'data': df_subs1}\n",
    "d = pd.DataFrame(df_data)"
   ],
   "metadata": {
    "collapsed": false
   }
  },
  {
   "cell_type": "code",
   "execution_count": 19,
   "outputs": [
    {
     "data": {
      "text/plain": "         name                                               data\n0  xiao_shuai       userId  age gender  occupation zip-code\n0...\n1   xiao_wang       userId  age gender     occupation zip-cod...\n2   xiao_ming       userId  age gender     occupation zip-cod...\n3    xiao_lei       userId  age gender  occupation zip-code\n4...\n4     xiao_bo       userId  age gender     occupation zip-cod...\n5   xiao_hong       userId  age gender     occupation zip-cod...",
      "text/html": "<div>\n<style scoped>\n    .dataframe tbody tr th:only-of-type {\n        vertical-align: middle;\n    }\n\n    .dataframe tbody tr th {\n        vertical-align: top;\n    }\n\n    .dataframe thead th {\n        text-align: right;\n    }\n</style>\n<table border=\"1\" class=\"dataframe\">\n  <thead>\n    <tr style=\"text-align: right;\">\n      <th></th>\n      <th>name</th>\n      <th>data</th>\n    </tr>\n  </thead>\n  <tbody>\n    <tr>\n      <th>0</th>\n      <td>xiao_shuai</td>\n      <td>userId  age gender  occupation zip-code\n0...</td>\n    </tr>\n    <tr>\n      <th>1</th>\n      <td>xiao_wang</td>\n      <td>userId  age gender     occupation zip-cod...</td>\n    </tr>\n    <tr>\n      <th>2</th>\n      <td>xiao_ming</td>\n      <td>userId  age gender     occupation zip-cod...</td>\n    </tr>\n    <tr>\n      <th>3</th>\n      <td>xiao_lei</td>\n      <td>userId  age gender  occupation zip-code\n4...</td>\n    </tr>\n    <tr>\n      <th>4</th>\n      <td>xiao_bo</td>\n      <td>userId  age gender     occupation zip-cod...</td>\n    </tr>\n    <tr>\n      <th>5</th>\n      <td>xiao_hong</td>\n      <td>userId  age gender     occupation zip-cod...</td>\n    </tr>\n  </tbody>\n</table>\n</div>"
     },
     "execution_count": 19,
     "metadata": {},
     "output_type": "execute_result"
    }
   ],
   "source": [
    "d"
   ],
   "metadata": {
    "collapsed": false
   }
  },
  {
   "cell_type": "code",
   "execution_count": 20,
   "outputs": [
    {
     "data": {
      "text/plain": "0    None\n1    None\n2    None\n3    None\n4    None\n5    None\ndtype: object"
     },
     "execution_count": 20,
     "metadata": {},
     "output_type": "execute_result"
    }
   ],
   "source": [
    "d.apply(lambda s: s['data'].to_excel(split_dir + s['name'] + '.xlsx', index=False), axis=1)"
   ],
   "metadata": {
    "collapsed": false
   }
  },
  {
   "cell_type": "markdown",
   "source": [
    "# 二. 合并多个小excel到一个excel\n",
    "1. 遍历文件夹， 的到所有的excel文件\n",
    "2. 分别读取到DataFrame, 给每个df添加一列用于标记来源\n",
    "3. 使用pd.concat进行批量合并\n",
    "4. 将合并文件保存"
   ],
   "metadata": {
    "collapsed": false
   }
  },
  {
   "cell_type": "markdown",
   "source": [
    "**1.遍历文件夹， 的到所有的excel文件**"
   ],
   "metadata": {
    "collapsed": false
   }
  },
  {
   "cell_type": "code",
   "execution_count": 21,
   "outputs": [
    {
     "name": "stdout",
     "output_type": "stream",
     "text": [
      "xiao_bo.xlsx\n",
      "xiao_hong.xlsx\n",
      "xiao_lei.xlsx\n",
      "xiao_ming.xlsx\n",
      "xiao_shuai.xlsx\n",
      "xiao_wang.xlsx\n"
     ]
    },
    {
     "data": {
      "text/plain": "[     userId  age gender     occupation zip-code user_name\n 0       633   35      M     programmer    55414   xiao_bo\n 1       634   39      M       engineer    T8H1N   xiao_bo\n 2       635   22      M          other    23237   xiao_bo\n 3       636   47      M       educator    48043   xiao_bo\n 4       637   30      M          other    74101   xiao_bo\n ..      ...  ...    ...            ...      ...       ...\n 154     787   18      F        student    98620   xiao_bo\n 155     788   51      M  administrator    05779   xiao_bo\n 156     789   29      M          other    55420   xiao_bo\n 157     790   27      M     technician    80913   xiao_bo\n 158     791   31      M       educator    20064   xiao_bo\n \n [159 rows x 6 columns],\n      userId  age gender     occupation zip-code  user_name\n 0       791   31      M       educator    20064  xiao_hong\n 1       792   40      M     programmer    12205  xiao_hong\n 2       793   22      M        student    85281  xiao_hong\n 3       794   32      M       educator    57197  xiao_hong\n 4       795   30      M     programmer    08610  xiao_hong\n ..      ...  ...    ...            ...      ...        ...\n 148     939   26      F        student    33319  xiao_hong\n 149     940   32      M  administrator    02215  xiao_hong\n 150     941   20      M        student    97229  xiao_hong\n 151     942   48      F      librarian    78209  xiao_hong\n 152     943   22      M        student    77841  xiao_hong\n \n [153 rows x 6 columns],\n      userId  age gender  occupation zip-code user_name\n 0       475   30      M  programmer    75230  xiao_lei\n 1       476   28      M     student    60440  xiao_lei\n 2       477   23      F     student    02125  xiao_lei\n 3       478   29      M       other    10019  xiao_lei\n 4       479   30      M    educator    55409  xiao_lei\n ..      ...  ...    ...         ...      ...       ...\n 154     629   46      F       other    44224  xiao_lei\n 155     630   26      F  healthcare    55408  xiao_lei\n 156     631   18      F     student    38866  xiao_lei\n 157     632   18      M     student    55454  xiao_lei\n 158     633   35      M  programmer    55414  xiao_lei\n \n [159 rows x 6 columns],\n      userId  age gender     occupation zip-code  user_name\n 0       317   22      M  administrator    13210  xiao_ming\n 1       318   65      M        retired    06518  xiao_ming\n 2       319   38      M     programmer    22030  xiao_ming\n 3       320   19      M        student    24060  xiao_ming\n 4       321   49      F       educator    55413  xiao_ming\n ..      ...  ...    ...            ...      ...        ...\n 154     471   10      M        student    77459  xiao_ming\n 155     472   24      M        student    87544  xiao_ming\n 156     473   29      M        student    94708  xiao_ming\n 157     474   51      M      executive    93711  xiao_ming\n 158     475   30      M     programmer    75230  xiao_ming\n \n [159 rows x 6 columns],\n      userId  age gender  occupation zip-code   user_name\n 0         1   24      M  technician    85711  xiao_shuai\n 1         2   53      F       other    94043  xiao_shuai\n 2         3   23      M      writer    32067  xiao_shuai\n 3         4   24      M  technician    43537  xiao_shuai\n 4         5   33      F       other    15213  xiao_shuai\n ..      ...  ...    ...         ...      ...         ...\n 154     155   32      F       other    11217  xiao_shuai\n 155     156   25      M    educator    08360  xiao_shuai\n 156     157   57      M    engineer    70808  xiao_shuai\n 157     158   50      M    educator    27606  xiao_shuai\n 158     159   23      F     student    55346  xiao_shuai\n \n [159 rows x 6 columns],\n      userId  age gender     occupation zip-code  user_name\n 0       159   23      F        student    55346  xiao_wang\n 1       160   27      M     programmer    66215  xiao_wang\n 2       161   50      M         lawyer    55104  xiao_wang\n 3       162   25      M         artist    15610  xiao_wang\n 4       163   49      M  administrator    97212  xiao_wang\n ..      ...  ...    ...            ...      ...        ...\n 154     313   41      M      marketing    60035  xiao_wang\n 155     314   20      F        student    08043  xiao_wang\n 156     315   31      M       educator    18301  xiao_wang\n 157     316   43      F          other    77009  xiao_wang\n 158     317   22      M  administrator    13210  xiao_wang\n \n [159 rows x 6 columns]]"
     },
     "execution_count": 21,
     "metadata": {},
     "output_type": "execute_result"
    }
   ],
   "source": [
    "excel_source = os.listdir(split_dir)\n",
    "\n",
    "def load_excel_to_data_frame(file_name:str):\n",
    "    split_df = pd.read_excel(split_dir + file_name)\n",
    "    print(file_name)\n",
    "    split_df['user_name'] = file_name.split('.')[0]\n",
    "    return split_df\n",
    "\n",
    "df_list = list(map(load_excel_to_data_frame, excel_source))\n",
    "df_list"
   ],
   "metadata": {
    "collapsed": false
   }
  },
  {
   "cell_type": "code",
   "execution_count": 22,
   "outputs": [],
   "source": [
    "pd.concat(df_list).to_excel(work_dir + 'merge.xlsx', index=False)"
   ],
   "metadata": {
    "collapsed": false
   }
  }
 ],
 "metadata": {
  "kernelspec": {
   "display_name": "Python 3",
   "language": "python",
   "name": "python3"
  },
  "language_info": {
   "codemirror_mode": {
    "name": "ipython",
    "version": 2
   },
   "file_extension": ".py",
   "mimetype": "text/x-python",
   "name": "python",
   "nbconvert_exporter": "python",
   "pygments_lexer": "ipython2",
   "version": "2.7.6"
  }
 },
 "nbformat": 4,
 "nbformat_minor": 0
}
