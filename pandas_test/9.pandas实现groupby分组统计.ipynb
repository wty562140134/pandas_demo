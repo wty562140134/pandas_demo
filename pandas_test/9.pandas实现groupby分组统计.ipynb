{
 "cells": [
  {
   "cell_type": "markdown",
   "source": [
    "# pandas实现groupby分组统计\n",
    "\n",
    "类似SQL:\n",
    "select city, max(temperature) from city_weather group by city;\n",
    "\n",
    "groupby: 先对数据分组, 然后在每个分组上应用聚合函数、转换函数\n",
    "\n",
    "本次示例:\n",
    "1. 分组使用聚合函数做数据统计\n",
    "2. 遍历groupby的结果理解执行流程\n",
    "3. 实例分组探索天气数据"
   ],
   "metadata": {
    "collapsed": false
   }
  },
  {
   "cell_type": "code",
   "execution_count": 1,
   "outputs": [],
   "source": [
    "import pandas as pd\n",
    "import numpy as np\n",
    "from pandas import DataFrame\n",
    "# from pylab import mpl\n",
    "import matplotlib.pyplot as plt\n",
    "# 加上这一句, 能在jupyter notebook展示matplot图表\n",
    "%matplotlib inline\n",
    "\n",
    "plt.rcParams[\"font.sans-serif\"]=[\"SimHei\"] # 指定默认字体：解决plot不能显示中文问题\n",
    "plt.rcParams[\"axes.unicode_minus\"]=False  # 解决保存图像是负号'-'显示为方块的问题\n",
    "\n",
    "# mpl.rcParams['font.sans-serif'] = ['Microsoft YaHei']\n",
    "# mpl.rcParams['axes.unicode_minus'] = False"
   ],
   "metadata": {
    "collapsed": false
   }
  },
  {
   "cell_type": "code",
   "execution_count": 2,
   "outputs": [
    {
     "data": {
      "text/plain": "     A      B         C         D\n0  foo    one -1.800575  0.926776\n1  bar    one -0.725976  0.675453\n2  foo    two  0.511159  0.335860\n3  bar  three  1.340017  0.290663\n4  foo    two  0.478787 -0.651279\n5  bar    two -0.861409  0.017083\n6  foo    one -1.001919  0.861418\n7  foo  three  0.708341  0.576321",
      "text/html": "<div>\n<style scoped>\n    .dataframe tbody tr th:only-of-type {\n        vertical-align: middle;\n    }\n\n    .dataframe tbody tr th {\n        vertical-align: top;\n    }\n\n    .dataframe thead th {\n        text-align: right;\n    }\n</style>\n<table border=\"1\" class=\"dataframe\">\n  <thead>\n    <tr style=\"text-align: right;\">\n      <th></th>\n      <th>A</th>\n      <th>B</th>\n      <th>C</th>\n      <th>D</th>\n    </tr>\n  </thead>\n  <tbody>\n    <tr>\n      <th>0</th>\n      <td>foo</td>\n      <td>one</td>\n      <td>-1.800575</td>\n      <td>0.926776</td>\n    </tr>\n    <tr>\n      <th>1</th>\n      <td>bar</td>\n      <td>one</td>\n      <td>-0.725976</td>\n      <td>0.675453</td>\n    </tr>\n    <tr>\n      <th>2</th>\n      <td>foo</td>\n      <td>two</td>\n      <td>0.511159</td>\n      <td>0.335860</td>\n    </tr>\n    <tr>\n      <th>3</th>\n      <td>bar</td>\n      <td>three</td>\n      <td>1.340017</td>\n      <td>0.290663</td>\n    </tr>\n    <tr>\n      <th>4</th>\n      <td>foo</td>\n      <td>two</td>\n      <td>0.478787</td>\n      <td>-0.651279</td>\n    </tr>\n    <tr>\n      <th>5</th>\n      <td>bar</td>\n      <td>two</td>\n      <td>-0.861409</td>\n      <td>0.017083</td>\n    </tr>\n    <tr>\n      <th>6</th>\n      <td>foo</td>\n      <td>one</td>\n      <td>-1.001919</td>\n      <td>0.861418</td>\n    </tr>\n    <tr>\n      <th>7</th>\n      <td>foo</td>\n      <td>three</td>\n      <td>0.708341</td>\n      <td>0.576321</td>\n    </tr>\n  </tbody>\n</table>\n</div>"
     },
     "execution_count": 2,
     "metadata": {},
     "output_type": "execute_result"
    }
   ],
   "source": [
    "df = pd.DataFrame({'A': ['foo', 'bar', 'foo', 'bar', 'foo', 'bar', 'foo', 'foo'],\n",
    "                   'B': ['one', 'one', 'two', 'three', 'two', 'two', 'one', 'three'],\n",
    "                   'C': np.random.randn(8),\n",
    "                   'D': np.random.randn(8)})\n",
    "df"
   ],
   "metadata": {
    "collapsed": false
   }
  },
  {
   "cell_type": "markdown",
   "source": [
    "## 一. 分组使用聚合函数做数据统计\n",
    "**1.单个列groupby, 查询所有数据列的统计**"
   ],
   "metadata": {
    "collapsed": false
   }
  },
  {
   "cell_type": "code",
   "execution_count": 3,
   "outputs": [
    {
     "name": "stderr",
     "output_type": "stream",
     "text": [
      "C:\\Users\\LKJH\\AppData\\Local\\Temp\\ipykernel_18228\\3225325629.py:1: FutureWarning: The default value of numeric_only in DataFrameGroupBy.sum is deprecated. In a future version, numeric_only will default to False. Either specify numeric_only or select only columns which should be valid for the function.\n",
      "  df.groupby('A').sum()\n"
     ]
    },
    {
     "data": {
      "text/plain": "            C         D\nA                      \nbar -0.247368  0.983199\nfoo -1.104206  2.049096",
      "text/html": "<div>\n<style scoped>\n    .dataframe tbody tr th:only-of-type {\n        vertical-align: middle;\n    }\n\n    .dataframe tbody tr th {\n        vertical-align: top;\n    }\n\n    .dataframe thead th {\n        text-align: right;\n    }\n</style>\n<table border=\"1\" class=\"dataframe\">\n  <thead>\n    <tr style=\"text-align: right;\">\n      <th></th>\n      <th>C</th>\n      <th>D</th>\n    </tr>\n    <tr>\n      <th>A</th>\n      <th></th>\n      <th></th>\n    </tr>\n  </thead>\n  <tbody>\n    <tr>\n      <th>bar</th>\n      <td>-0.247368</td>\n      <td>0.983199</td>\n    </tr>\n    <tr>\n      <th>foo</th>\n      <td>-1.104206</td>\n      <td>2.049096</td>\n    </tr>\n  </tbody>\n</table>\n</div>"
     },
     "execution_count": 3,
     "metadata": {},
     "output_type": "execute_result"
    }
   ],
   "source": [
    "df.groupby('A').sum()"
   ],
   "metadata": {
    "collapsed": false
   }
  },
  {
   "cell_type": "markdown",
   "source": [
    "**2.多个列groupby, 查询所有数据列的统计**"
   ],
   "metadata": {
    "collapsed": false
   }
  },
  {
   "cell_type": "code",
   "execution_count": 4,
   "outputs": [
    {
     "data": {
      "text/plain": "                  C         D\nA   B                        \nbar one   -0.725976  0.675453\n    three  1.340017  0.290663\n    two   -0.861409  0.017083\nfoo one   -1.401247  0.894097\n    three  0.708341  0.576321\n    two    0.494973 -0.157709",
      "text/html": "<div>\n<style scoped>\n    .dataframe tbody tr th:only-of-type {\n        vertical-align: middle;\n    }\n\n    .dataframe tbody tr th {\n        vertical-align: top;\n    }\n\n    .dataframe thead th {\n        text-align: right;\n    }\n</style>\n<table border=\"1\" class=\"dataframe\">\n  <thead>\n    <tr style=\"text-align: right;\">\n      <th></th>\n      <th></th>\n      <th>C</th>\n      <th>D</th>\n    </tr>\n    <tr>\n      <th>A</th>\n      <th>B</th>\n      <th></th>\n      <th></th>\n    </tr>\n  </thead>\n  <tbody>\n    <tr>\n      <th rowspan=\"3\" valign=\"top\">bar</th>\n      <th>one</th>\n      <td>-0.725976</td>\n      <td>0.675453</td>\n    </tr>\n    <tr>\n      <th>three</th>\n      <td>1.340017</td>\n      <td>0.290663</td>\n    </tr>\n    <tr>\n      <th>two</th>\n      <td>-0.861409</td>\n      <td>0.017083</td>\n    </tr>\n    <tr>\n      <th rowspan=\"3\" valign=\"top\">foo</th>\n      <th>one</th>\n      <td>-1.401247</td>\n      <td>0.894097</td>\n    </tr>\n    <tr>\n      <th>three</th>\n      <td>0.708341</td>\n      <td>0.576321</td>\n    </tr>\n    <tr>\n      <th>two</th>\n      <td>0.494973</td>\n      <td>-0.157709</td>\n    </tr>\n  </tbody>\n</table>\n</div>"
     },
     "execution_count": 4,
     "metadata": {},
     "output_type": "execute_result"
    }
   ],
   "source": [
    "df.groupby(['A', 'B']).mean()"
   ],
   "metadata": {
    "collapsed": false
   }
  },
  {
   "cell_type": "markdown",
   "source": [
    "我们看到('A', 'B')成对变成了二级索引"
   ],
   "metadata": {
    "collapsed": false
   }
  },
  {
   "cell_type": "code",
   "execution_count": 5,
   "outputs": [
    {
     "data": {
      "text/plain": "     A      B         C         D\n0  bar    one -0.725976  0.675453\n1  bar  three  1.340017  0.290663\n2  bar    two -0.861409  0.017083\n3  foo    one -1.401247  0.894097\n4  foo  three  0.708341  0.576321\n5  foo    two  0.494973 -0.157709",
      "text/html": "<div>\n<style scoped>\n    .dataframe tbody tr th:only-of-type {\n        vertical-align: middle;\n    }\n\n    .dataframe tbody tr th {\n        vertical-align: top;\n    }\n\n    .dataframe thead th {\n        text-align: right;\n    }\n</style>\n<table border=\"1\" class=\"dataframe\">\n  <thead>\n    <tr style=\"text-align: right;\">\n      <th></th>\n      <th>A</th>\n      <th>B</th>\n      <th>C</th>\n      <th>D</th>\n    </tr>\n  </thead>\n  <tbody>\n    <tr>\n      <th>0</th>\n      <td>bar</td>\n      <td>one</td>\n      <td>-0.725976</td>\n      <td>0.675453</td>\n    </tr>\n    <tr>\n      <th>1</th>\n      <td>bar</td>\n      <td>three</td>\n      <td>1.340017</td>\n      <td>0.290663</td>\n    </tr>\n    <tr>\n      <th>2</th>\n      <td>bar</td>\n      <td>two</td>\n      <td>-0.861409</td>\n      <td>0.017083</td>\n    </tr>\n    <tr>\n      <th>3</th>\n      <td>foo</td>\n      <td>one</td>\n      <td>-1.401247</td>\n      <td>0.894097</td>\n    </tr>\n    <tr>\n      <th>4</th>\n      <td>foo</td>\n      <td>three</td>\n      <td>0.708341</td>\n      <td>0.576321</td>\n    </tr>\n    <tr>\n      <th>5</th>\n      <td>foo</td>\n      <td>two</td>\n      <td>0.494973</td>\n      <td>-0.157709</td>\n    </tr>\n  </tbody>\n</table>\n</div>"
     },
     "execution_count": 5,
     "metadata": {},
     "output_type": "execute_result"
    }
   ],
   "source": [
    "df.groupby(['A', 'B'], as_index=False).mean()"
   ],
   "metadata": {
    "collapsed": false
   }
  },
  {
   "cell_type": "markdown",
   "source": [
    "**3.同时查看多种数据统计**"
   ],
   "metadata": {
    "collapsed": false
   }
  },
  {
   "cell_type": "code",
   "execution_count": 6,
   "outputs": [
    {
     "data": {
      "text/plain": "            C                             D                    \n          sum      mean       std       sum      mean       std\nA                                                              \nbar -0.247368 -0.082456  1.233757  0.983199  0.327733  0.330747\nfoo -1.104206 -0.220841  1.117399  2.049096  0.409819  0.638418",
      "text/html": "<div>\n<style scoped>\n    .dataframe tbody tr th:only-of-type {\n        vertical-align: middle;\n    }\n\n    .dataframe tbody tr th {\n        vertical-align: top;\n    }\n\n    .dataframe thead tr th {\n        text-align: left;\n    }\n\n    .dataframe thead tr:last-of-type th {\n        text-align: right;\n    }\n</style>\n<table border=\"1\" class=\"dataframe\">\n  <thead>\n    <tr>\n      <th></th>\n      <th colspan=\"3\" halign=\"left\">C</th>\n      <th colspan=\"3\" halign=\"left\">D</th>\n    </tr>\n    <tr>\n      <th></th>\n      <th>sum</th>\n      <th>mean</th>\n      <th>std</th>\n      <th>sum</th>\n      <th>mean</th>\n      <th>std</th>\n    </tr>\n    <tr>\n      <th>A</th>\n      <th></th>\n      <th></th>\n      <th></th>\n      <th></th>\n      <th></th>\n      <th></th>\n    </tr>\n  </thead>\n  <tbody>\n    <tr>\n      <th>bar</th>\n      <td>-0.247368</td>\n      <td>-0.082456</td>\n      <td>1.233757</td>\n      <td>0.983199</td>\n      <td>0.327733</td>\n      <td>0.330747</td>\n    </tr>\n    <tr>\n      <th>foo</th>\n      <td>-1.104206</td>\n      <td>-0.220841</td>\n      <td>1.117399</td>\n      <td>2.049096</td>\n      <td>0.409819</td>\n      <td>0.638418</td>\n    </tr>\n  </tbody>\n</table>\n</div>"
     },
     "execution_count": 6,
     "metadata": {},
     "output_type": "execute_result"
    }
   ],
   "source": [
    "exclude_b_df = df.loc[:, df.columns != 'B']\n",
    "exclude_b_df.groupby('A').agg([np.sum, np.mean, np.std])"
   ],
   "metadata": {
    "collapsed": false
   }
  },
  {
   "cell_type": "markdown",
   "source": [
    "我们看到: 列变成了多级索引"
   ],
   "metadata": {
    "collapsed": false
   }
  },
  {
   "cell_type": "markdown",
   "source": [
    "**4.查看单列的结果数据统计**"
   ],
   "metadata": {
    "collapsed": false
   }
  },
  {
   "cell_type": "code",
   "execution_count": 7,
   "outputs": [
    {
     "data": {
      "text/plain": "          sum      mean       std\nA                                \nbar -0.247368 -0.082456  1.233757\nfoo -1.104206 -0.220841  1.117399",
      "text/html": "<div>\n<style scoped>\n    .dataframe tbody tr th:only-of-type {\n        vertical-align: middle;\n    }\n\n    .dataframe tbody tr th {\n        vertical-align: top;\n    }\n\n    .dataframe thead th {\n        text-align: right;\n    }\n</style>\n<table border=\"1\" class=\"dataframe\">\n  <thead>\n    <tr style=\"text-align: right;\">\n      <th></th>\n      <th>sum</th>\n      <th>mean</th>\n      <th>std</th>\n    </tr>\n    <tr>\n      <th>A</th>\n      <th></th>\n      <th></th>\n      <th></th>\n    </tr>\n  </thead>\n  <tbody>\n    <tr>\n      <th>bar</th>\n      <td>-0.247368</td>\n      <td>-0.082456</td>\n      <td>1.233757</td>\n    </tr>\n    <tr>\n      <th>foo</th>\n      <td>-1.104206</td>\n      <td>-0.220841</td>\n      <td>1.117399</td>\n    </tr>\n  </tbody>\n</table>\n</div>"
     },
     "execution_count": 7,
     "metadata": {},
     "output_type": "execute_result"
    }
   ],
   "source": [
    "# 方法1: 预过滤, 性能更好\n",
    "exclude_b_df.groupby('A')['C'].agg([np.sum, np.mean, np.std])"
   ],
   "metadata": {
    "collapsed": false
   }
  },
  {
   "cell_type": "code",
   "execution_count": 8,
   "outputs": [
    {
     "data": {
      "text/plain": "          sum      mean       std\nA                                \nbar -0.247368 -0.082456  1.233757\nfoo -1.104206 -0.220841  1.117399",
      "text/html": "<div>\n<style scoped>\n    .dataframe tbody tr th:only-of-type {\n        vertical-align: middle;\n    }\n\n    .dataframe tbody tr th {\n        vertical-align: top;\n    }\n\n    .dataframe thead th {\n        text-align: right;\n    }\n</style>\n<table border=\"1\" class=\"dataframe\">\n  <thead>\n    <tr style=\"text-align: right;\">\n      <th></th>\n      <th>sum</th>\n      <th>mean</th>\n      <th>std</th>\n    </tr>\n    <tr>\n      <th>A</th>\n      <th></th>\n      <th></th>\n      <th></th>\n    </tr>\n  </thead>\n  <tbody>\n    <tr>\n      <th>bar</th>\n      <td>-0.247368</td>\n      <td>-0.082456</td>\n      <td>1.233757</td>\n    </tr>\n    <tr>\n      <th>foo</th>\n      <td>-1.104206</td>\n      <td>-0.220841</td>\n      <td>1.117399</td>\n    </tr>\n  </tbody>\n</table>\n</div>"
     },
     "execution_count": 8,
     "metadata": {},
     "output_type": "execute_result"
    }
   ],
   "source": [
    "# 方法2\n",
    "exclude_b_df.groupby('A').agg([np.sum, np.mean, np.std])['C']"
   ],
   "metadata": {
    "collapsed": false
   }
  },
  {
   "cell_type": "markdown",
   "source": [
    "**5.不同列使用不同的聚合函数**"
   ],
   "metadata": {
    "collapsed": false
   }
  },
  {
   "cell_type": "code",
   "execution_count": 9,
   "outputs": [
    {
     "data": {
      "text/plain": "            C         D          \n          sum      mean       std\nA                                \nbar -0.247368  0.327733  0.330747\nfoo -1.104206  0.409819  0.638418",
      "text/html": "<div>\n<style scoped>\n    .dataframe tbody tr th:only-of-type {\n        vertical-align: middle;\n    }\n\n    .dataframe tbody tr th {\n        vertical-align: top;\n    }\n\n    .dataframe thead tr th {\n        text-align: left;\n    }\n\n    .dataframe thead tr:last-of-type th {\n        text-align: right;\n    }\n</style>\n<table border=\"1\" class=\"dataframe\">\n  <thead>\n    <tr>\n      <th></th>\n      <th>C</th>\n      <th colspan=\"2\" halign=\"left\">D</th>\n    </tr>\n    <tr>\n      <th></th>\n      <th>sum</th>\n      <th>mean</th>\n      <th>std</th>\n    </tr>\n    <tr>\n      <th>A</th>\n      <th></th>\n      <th></th>\n      <th></th>\n    </tr>\n  </thead>\n  <tbody>\n    <tr>\n      <th>bar</th>\n      <td>-0.247368</td>\n      <td>0.327733</td>\n      <td>0.330747</td>\n    </tr>\n    <tr>\n      <th>foo</th>\n      <td>-1.104206</td>\n      <td>0.409819</td>\n      <td>0.638418</td>\n    </tr>\n  </tbody>\n</table>\n</div>"
     },
     "execution_count": 9,
     "metadata": {},
     "output_type": "execute_result"
    }
   ],
   "source": [
    "exclude_b_df.groupby('A').agg({'C': np.sum, 'D': [np.mean, np.std]})"
   ],
   "metadata": {
    "collapsed": false
   }
  },
  {
   "cell_type": "markdown",
   "source": [
    "## 二.遍历groupby的结果理解执行流程\n",
    "for 循环可以直接遍历每个group\n",
    "\n",
    "**1.遍历单个聚合的分组**"
   ],
   "metadata": {
    "collapsed": false
   }
  },
  {
   "cell_type": "code",
   "execution_count": 10,
   "outputs": [
    {
     "data": {
      "text/plain": "<pandas.core.groupby.generic.DataFrameGroupBy object at 0x000002A335F81450>"
     },
     "execution_count": 10,
     "metadata": {},
     "output_type": "execute_result"
    }
   ],
   "source": [
    "g = exclude_b_df.groupby('A')\n",
    "g"
   ],
   "metadata": {
    "collapsed": false
   }
  },
  {
   "cell_type": "code",
   "execution_count": 11,
   "outputs": [
    {
     "name": "stdout",
     "output_type": "stream",
     "text": [
      "bar\n",
      "     A         C         D\n",
      "1  bar -0.725976  0.675453\n",
      "3  bar  1.340017  0.290663\n",
      "5  bar -0.861409  0.017083\n",
      "\n",
      "foo\n",
      "     A         C         D\n",
      "0  foo -1.800575  0.926776\n",
      "2  foo  0.511159  0.335860\n",
      "4  foo  0.478787 -0.651279\n",
      "6  foo -1.001919  0.861418\n",
      "7  foo  0.708341  0.576321\n",
      "\n"
     ]
    }
   ],
   "source": [
    "for name, group in g:\n",
    "    print(name)\n",
    "    print(group)\n",
    "    print()"
   ],
   "metadata": {
    "collapsed": false
   }
  },
  {
   "cell_type": "markdown",
   "source": [
    "**可以获取单个返祖的数据**"
   ],
   "metadata": {
    "collapsed": false
   }
  },
  {
   "cell_type": "code",
   "execution_count": 12,
   "outputs": [
    {
     "data": {
      "text/plain": "     A         C         D\n1  bar -0.725976  0.675453\n3  bar  1.340017  0.290663\n5  bar -0.861409  0.017083",
      "text/html": "<div>\n<style scoped>\n    .dataframe tbody tr th:only-of-type {\n        vertical-align: middle;\n    }\n\n    .dataframe tbody tr th {\n        vertical-align: top;\n    }\n\n    .dataframe thead th {\n        text-align: right;\n    }\n</style>\n<table border=\"1\" class=\"dataframe\">\n  <thead>\n    <tr style=\"text-align: right;\">\n      <th></th>\n      <th>A</th>\n      <th>C</th>\n      <th>D</th>\n    </tr>\n  </thead>\n  <tbody>\n    <tr>\n      <th>1</th>\n      <td>bar</td>\n      <td>-0.725976</td>\n      <td>0.675453</td>\n    </tr>\n    <tr>\n      <th>3</th>\n      <td>bar</td>\n      <td>1.340017</td>\n      <td>0.290663</td>\n    </tr>\n    <tr>\n      <th>5</th>\n      <td>bar</td>\n      <td>-0.861409</td>\n      <td>0.017083</td>\n    </tr>\n  </tbody>\n</table>\n</div>"
     },
     "execution_count": 12,
     "metadata": {},
     "output_type": "execute_result"
    }
   ],
   "source": [
    "g.get_group('bar')"
   ],
   "metadata": {
    "collapsed": false
   }
  },
  {
   "cell_type": "markdown",
   "source": [
    "**2遍历多个聚合的分组**"
   ],
   "metadata": {
    "collapsed": false
   }
  },
  {
   "cell_type": "code",
   "execution_count": 13,
   "outputs": [],
   "source": [
    "g1 = df.groupby(['A', 'B'])"
   ],
   "metadata": {
    "collapsed": false
   }
  },
  {
   "cell_type": "code",
   "execution_count": 14,
   "outputs": [
    {
     "name": "stdout",
     "output_type": "stream",
     "text": [
      "('bar', 'one')\n",
      "     A    B         C         D\n",
      "1  bar  one -0.725976  0.675453\n",
      "\n",
      "('bar', 'three')\n",
      "     A      B         C         D\n",
      "3  bar  three  1.340017  0.290663\n",
      "\n",
      "('bar', 'two')\n",
      "     A    B         C         D\n",
      "5  bar  two -0.861409  0.017083\n",
      "\n",
      "('foo', 'one')\n",
      "     A    B         C         D\n",
      "0  foo  one -1.800575  0.926776\n",
      "6  foo  one -1.001919  0.861418\n",
      "\n",
      "('foo', 'three')\n",
      "     A      B         C         D\n",
      "7  foo  three  0.708341  0.576321\n",
      "\n",
      "('foo', 'two')\n",
      "     A    B         C         D\n",
      "2  foo  two  0.511159  0.335860\n",
      "4  foo  two  0.478787 -0.651279\n",
      "\n"
     ]
    }
   ],
   "source": [
    "for name, group in g1:\n",
    "    print(name)\n",
    "    print(group)\n",
    "    print()"
   ],
   "metadata": {
    "collapsed": false
   }
  },
  {
   "cell_type": "markdown",
   "source": [
    "可以看到, name是一个2个元素的tuple, 代表不同的列"
   ],
   "metadata": {
    "collapsed": false
   }
  },
  {
   "cell_type": "code",
   "execution_count": 15,
   "outputs": [
    {
     "data": {
      "text/plain": "     A    B         C         D\n0  foo  one -1.800575  0.926776\n6  foo  one -1.001919  0.861418",
      "text/html": "<div>\n<style scoped>\n    .dataframe tbody tr th:only-of-type {\n        vertical-align: middle;\n    }\n\n    .dataframe tbody tr th {\n        vertical-align: top;\n    }\n\n    .dataframe thead th {\n        text-align: right;\n    }\n</style>\n<table border=\"1\" class=\"dataframe\">\n  <thead>\n    <tr style=\"text-align: right;\">\n      <th></th>\n      <th>A</th>\n      <th>B</th>\n      <th>C</th>\n      <th>D</th>\n    </tr>\n  </thead>\n  <tbody>\n    <tr>\n      <th>0</th>\n      <td>foo</td>\n      <td>one</td>\n      <td>-1.800575</td>\n      <td>0.926776</td>\n    </tr>\n    <tr>\n      <th>6</th>\n      <td>foo</td>\n      <td>one</td>\n      <td>-1.001919</td>\n      <td>0.861418</td>\n    </tr>\n  </tbody>\n</table>\n</div>"
     },
     "execution_count": 15,
     "metadata": {},
     "output_type": "execute_result"
    }
   ],
   "source": [
    "g1.get_group(('foo', 'one'))"
   ],
   "metadata": {
    "collapsed": false
   }
  },
  {
   "cell_type": "markdown",
   "source": [
    "**可以直接查询group后的某几列, 生成Series或者子DataFrame**"
   ],
   "metadata": {
    "collapsed": false
   }
  },
  {
   "cell_type": "code",
   "execution_count": 16,
   "outputs": [
    {
     "data": {
      "text/plain": "<pandas.core.groupby.generic.SeriesGroupBy object at 0x000002A335F81960>"
     },
     "execution_count": 16,
     "metadata": {},
     "output_type": "execute_result"
    }
   ],
   "source": [
    "g1['C']"
   ],
   "metadata": {
    "collapsed": false
   }
  },
  {
   "cell_type": "code",
   "execution_count": 17,
   "outputs": [
    {
     "name": "stdout",
     "output_type": "stream",
     "text": [
      "('bar', 'one')\n",
      "1   -0.725976\n",
      "Name: C, dtype: float64\n",
      "<class 'pandas.core.series.Series'>\n",
      "\n",
      "('bar', 'three')\n",
      "3    1.340017\n",
      "Name: C, dtype: float64\n",
      "<class 'pandas.core.series.Series'>\n",
      "\n",
      "('bar', 'two')\n",
      "5   -0.861409\n",
      "Name: C, dtype: float64\n",
      "<class 'pandas.core.series.Series'>\n",
      "\n",
      "('foo', 'one')\n",
      "0   -1.800575\n",
      "6   -1.001919\n",
      "Name: C, dtype: float64\n",
      "<class 'pandas.core.series.Series'>\n",
      "\n",
      "('foo', 'three')\n",
      "7    0.708341\n",
      "Name: C, dtype: float64\n",
      "<class 'pandas.core.series.Series'>\n",
      "\n",
      "('foo', 'two')\n",
      "2    0.511159\n",
      "4    0.478787\n",
      "Name: C, dtype: float64\n",
      "<class 'pandas.core.series.Series'>\n",
      "\n"
     ]
    }
   ],
   "source": [
    "for name, group in g1['C']:\n",
    "    print(name)\n",
    "    print(group)\n",
    "    print(type(group))\n",
    "    print()"
   ],
   "metadata": {
    "collapsed": false
   }
  },
  {
   "cell_type": "markdown",
   "source": [
    "其实所有的聚合统计, 都是在DataFrame和Series上进行的"
   ],
   "metadata": {
    "collapsed": false
   }
  },
  {
   "cell_type": "markdown",
   "source": [
    "## 三. 实例分组探索天气数据"
   ],
   "metadata": {
    "collapsed": false
   }
  },
  {
   "cell_type": "code",
   "execution_count": 18,
   "outputs": [
    {
     "ename": "ImportError",
     "evalue": "Missing optional dependency 'openpyxl'.  Use pip or conda to install openpyxl.",
     "output_type": "error",
     "traceback": [
      "\u001B[1;31m---------------------------------------------------------------------------\u001B[0m",
      "\u001B[1;31mModuleNotFoundError\u001B[0m                       Traceback (most recent call last)",
      "File \u001B[1;32m~\\anaconda3\\envs\\statudy_env\\lib\\site-packages\\pandas\\compat\\_optional.py:141\u001B[0m, in \u001B[0;36mimport_optional_dependency\u001B[1;34m(name, extra, errors, min_version)\u001B[0m\n\u001B[0;32m    140\u001B[0m \u001B[38;5;28;01mtry\u001B[39;00m:\n\u001B[1;32m--> 141\u001B[0m     module \u001B[38;5;241m=\u001B[39m \u001B[43mimportlib\u001B[49m\u001B[38;5;241;43m.\u001B[39;49m\u001B[43mimport_module\u001B[49m\u001B[43m(\u001B[49m\u001B[43mname\u001B[49m\u001B[43m)\u001B[49m\n\u001B[0;32m    142\u001B[0m \u001B[38;5;28;01mexcept\u001B[39;00m \u001B[38;5;167;01mImportError\u001B[39;00m:\n",
      "File \u001B[1;32m~\\anaconda3\\envs\\statudy_env\\lib\\importlib\\__init__.py:126\u001B[0m, in \u001B[0;36mimport_module\u001B[1;34m(name, package)\u001B[0m\n\u001B[0;32m    125\u001B[0m         level \u001B[38;5;241m+\u001B[39m\u001B[38;5;241m=\u001B[39m \u001B[38;5;241m1\u001B[39m\n\u001B[1;32m--> 126\u001B[0m \u001B[38;5;28;01mreturn\u001B[39;00m \u001B[43m_bootstrap\u001B[49m\u001B[38;5;241;43m.\u001B[39;49m\u001B[43m_gcd_import\u001B[49m\u001B[43m(\u001B[49m\u001B[43mname\u001B[49m\u001B[43m[\u001B[49m\u001B[43mlevel\u001B[49m\u001B[43m:\u001B[49m\u001B[43m]\u001B[49m\u001B[43m,\u001B[49m\u001B[43m \u001B[49m\u001B[43mpackage\u001B[49m\u001B[43m,\u001B[49m\u001B[43m \u001B[49m\u001B[43mlevel\u001B[49m\u001B[43m)\u001B[49m\n",
      "File \u001B[1;32m<frozen importlib._bootstrap>:1050\u001B[0m, in \u001B[0;36m_gcd_import\u001B[1;34m(name, package, level)\u001B[0m\n",
      "File \u001B[1;32m<frozen importlib._bootstrap>:1027\u001B[0m, in \u001B[0;36m_find_and_load\u001B[1;34m(name, import_)\u001B[0m\n",
      "File \u001B[1;32m<frozen importlib._bootstrap>:1004\u001B[0m, in \u001B[0;36m_find_and_load_unlocked\u001B[1;34m(name, import_)\u001B[0m\n",
      "\u001B[1;31mModuleNotFoundError\u001B[0m: No module named 'openpyxl'",
      "\nDuring handling of the above exception, another exception occurred:\n",
      "\u001B[1;31mImportError\u001B[0m                               Traceback (most recent call last)",
      "Cell \u001B[1;32mIn[18], line 1\u001B[0m\n\u001B[1;32m----> 1\u001B[0m df_weather \u001B[38;5;241m=\u001B[39m \u001B[43mpd\u001B[49m\u001B[38;5;241;43m.\u001B[39;49m\u001B[43mread_excel\u001B[49m\u001B[43m(\u001B[49m\u001B[38;5;124;43m'\u001B[39;49m\u001B[38;5;124;43m./data/weather/weater_beijing.xlsx\u001B[39;49m\u001B[38;5;124;43m'\u001B[39;49m\u001B[43m)\u001B[49m\n\u001B[0;32m      2\u001B[0m df_weather\u001B[38;5;241m.\u001B[39mloc[:, \u001B[38;5;124m'\u001B[39m\u001B[38;5;124m最高温\u001B[39m\u001B[38;5;124m'\u001B[39m] \u001B[38;5;241m=\u001B[39m df_weather[\u001B[38;5;124m'\u001B[39m\u001B[38;5;124m最高温\u001B[39m\u001B[38;5;124m'\u001B[39m]\u001B[38;5;241m.\u001B[39mstr\u001B[38;5;241m.\u001B[39mreplace(\u001B[38;5;124m'\u001B[39m\u001B[38;5;124m°\u001B[39m\u001B[38;5;124m'\u001B[39m, \u001B[38;5;124m'\u001B[39m\u001B[38;5;124m'\u001B[39m)\u001B[38;5;241m.\u001B[39mreplace(\u001B[38;5;124m'\u001B[39m\u001B[38;5;124m'\u001B[39m, \u001B[38;5;124m'\u001B[39m\u001B[38;5;124m0\u001B[39m\u001B[38;5;124m'\u001B[39m)\n\u001B[0;32m      3\u001B[0m df_weather[\u001B[38;5;124m'\u001B[39m\u001B[38;5;124m最高温\u001B[39m\u001B[38;5;124m'\u001B[39m]\u001B[38;5;241m.\u001B[39mfillna(\u001B[38;5;124m'\u001B[39m\u001B[38;5;124m0\u001B[39m\u001B[38;5;124m'\u001B[39m, inplace\u001B[38;5;241m=\u001B[39m\u001B[38;5;28;01mTrue\u001B[39;00m)\n",
      "File \u001B[1;32m~\\anaconda3\\envs\\statudy_env\\lib\\site-packages\\pandas\\util\\_decorators.py:211\u001B[0m, in \u001B[0;36mdeprecate_kwarg.<locals>._deprecate_kwarg.<locals>.wrapper\u001B[1;34m(*args, **kwargs)\u001B[0m\n\u001B[0;32m    209\u001B[0m     \u001B[38;5;28;01melse\u001B[39;00m:\n\u001B[0;32m    210\u001B[0m         kwargs[new_arg_name] \u001B[38;5;241m=\u001B[39m new_arg_value\n\u001B[1;32m--> 211\u001B[0m \u001B[38;5;28;01mreturn\u001B[39;00m func(\u001B[38;5;241m*\u001B[39margs, \u001B[38;5;241m*\u001B[39m\u001B[38;5;241m*\u001B[39mkwargs)\n",
      "File \u001B[1;32m~\\anaconda3\\envs\\statudy_env\\lib\\site-packages\\pandas\\util\\_decorators.py:331\u001B[0m, in \u001B[0;36mdeprecate_nonkeyword_arguments.<locals>.decorate.<locals>.wrapper\u001B[1;34m(*args, **kwargs)\u001B[0m\n\u001B[0;32m    325\u001B[0m \u001B[38;5;28;01mif\u001B[39;00m \u001B[38;5;28mlen\u001B[39m(args) \u001B[38;5;241m>\u001B[39m num_allow_args:\n\u001B[0;32m    326\u001B[0m     warnings\u001B[38;5;241m.\u001B[39mwarn(\n\u001B[0;32m    327\u001B[0m         msg\u001B[38;5;241m.\u001B[39mformat(arguments\u001B[38;5;241m=\u001B[39m_format_argument_list(allow_args)),\n\u001B[0;32m    328\u001B[0m         \u001B[38;5;167;01mFutureWarning\u001B[39;00m,\n\u001B[0;32m    329\u001B[0m         stacklevel\u001B[38;5;241m=\u001B[39mfind_stack_level(),\n\u001B[0;32m    330\u001B[0m     )\n\u001B[1;32m--> 331\u001B[0m \u001B[38;5;28;01mreturn\u001B[39;00m func(\u001B[38;5;241m*\u001B[39margs, \u001B[38;5;241m*\u001B[39m\u001B[38;5;241m*\u001B[39mkwargs)\n",
      "File \u001B[1;32m~\\anaconda3\\envs\\statudy_env\\lib\\site-packages\\pandas\\io\\excel\\_base.py:482\u001B[0m, in \u001B[0;36mread_excel\u001B[1;34m(io, sheet_name, header, names, index_col, usecols, squeeze, dtype, engine, converters, true_values, false_values, skiprows, nrows, na_values, keep_default_na, na_filter, verbose, parse_dates, date_parser, thousands, decimal, comment, skipfooter, convert_float, mangle_dupe_cols, storage_options)\u001B[0m\n\u001B[0;32m    480\u001B[0m \u001B[38;5;28;01mif\u001B[39;00m \u001B[38;5;129;01mnot\u001B[39;00m \u001B[38;5;28misinstance\u001B[39m(io, ExcelFile):\n\u001B[0;32m    481\u001B[0m     should_close \u001B[38;5;241m=\u001B[39m \u001B[38;5;28;01mTrue\u001B[39;00m\n\u001B[1;32m--> 482\u001B[0m     io \u001B[38;5;241m=\u001B[39m \u001B[43mExcelFile\u001B[49m\u001B[43m(\u001B[49m\u001B[43mio\u001B[49m\u001B[43m,\u001B[49m\u001B[43m \u001B[49m\u001B[43mstorage_options\u001B[49m\u001B[38;5;241;43m=\u001B[39;49m\u001B[43mstorage_options\u001B[49m\u001B[43m,\u001B[49m\u001B[43m \u001B[49m\u001B[43mengine\u001B[49m\u001B[38;5;241;43m=\u001B[39;49m\u001B[43mengine\u001B[49m\u001B[43m)\u001B[49m\n\u001B[0;32m    483\u001B[0m \u001B[38;5;28;01melif\u001B[39;00m engine \u001B[38;5;129;01mand\u001B[39;00m engine \u001B[38;5;241m!=\u001B[39m io\u001B[38;5;241m.\u001B[39mengine:\n\u001B[0;32m    484\u001B[0m     \u001B[38;5;28;01mraise\u001B[39;00m \u001B[38;5;167;01mValueError\u001B[39;00m(\n\u001B[0;32m    485\u001B[0m         \u001B[38;5;124m\"\u001B[39m\u001B[38;5;124mEngine should not be specified when passing \u001B[39m\u001B[38;5;124m\"\u001B[39m\n\u001B[0;32m    486\u001B[0m         \u001B[38;5;124m\"\u001B[39m\u001B[38;5;124man ExcelFile - ExcelFile already has the engine set\u001B[39m\u001B[38;5;124m\"\u001B[39m\n\u001B[0;32m    487\u001B[0m     )\n",
      "File \u001B[1;32m~\\anaconda3\\envs\\statudy_env\\lib\\site-packages\\pandas\\io\\excel\\_base.py:1695\u001B[0m, in \u001B[0;36mExcelFile.__init__\u001B[1;34m(self, path_or_buffer, engine, storage_options)\u001B[0m\n\u001B[0;32m   1692\u001B[0m \u001B[38;5;28mself\u001B[39m\u001B[38;5;241m.\u001B[39mengine \u001B[38;5;241m=\u001B[39m engine\n\u001B[0;32m   1693\u001B[0m \u001B[38;5;28mself\u001B[39m\u001B[38;5;241m.\u001B[39mstorage_options \u001B[38;5;241m=\u001B[39m storage_options\n\u001B[1;32m-> 1695\u001B[0m \u001B[38;5;28mself\u001B[39m\u001B[38;5;241m.\u001B[39m_reader \u001B[38;5;241m=\u001B[39m \u001B[38;5;28;43mself\u001B[39;49m\u001B[38;5;241;43m.\u001B[39;49m\u001B[43m_engines\u001B[49m\u001B[43m[\u001B[49m\u001B[43mengine\u001B[49m\u001B[43m]\u001B[49m\u001B[43m(\u001B[49m\u001B[38;5;28;43mself\u001B[39;49m\u001B[38;5;241;43m.\u001B[39;49m\u001B[43m_io\u001B[49m\u001B[43m,\u001B[49m\u001B[43m \u001B[49m\u001B[43mstorage_options\u001B[49m\u001B[38;5;241;43m=\u001B[39;49m\u001B[43mstorage_options\u001B[49m\u001B[43m)\u001B[49m\n",
      "File \u001B[1;32m~\\anaconda3\\envs\\statudy_env\\lib\\site-packages\\pandas\\io\\excel\\_openpyxl.py:556\u001B[0m, in \u001B[0;36mOpenpyxlReader.__init__\u001B[1;34m(self, filepath_or_buffer, storage_options)\u001B[0m\n\u001B[0;32m    541\u001B[0m \u001B[38;5;129m@doc\u001B[39m(storage_options\u001B[38;5;241m=\u001B[39m_shared_docs[\u001B[38;5;124m\"\u001B[39m\u001B[38;5;124mstorage_options\u001B[39m\u001B[38;5;124m\"\u001B[39m])\n\u001B[0;32m    542\u001B[0m \u001B[38;5;28;01mdef\u001B[39;00m \u001B[38;5;21m__init__\u001B[39m(\n\u001B[0;32m    543\u001B[0m     \u001B[38;5;28mself\u001B[39m,\n\u001B[0;32m    544\u001B[0m     filepath_or_buffer: FilePath \u001B[38;5;241m|\u001B[39m ReadBuffer[\u001B[38;5;28mbytes\u001B[39m],\n\u001B[0;32m    545\u001B[0m     storage_options: StorageOptions \u001B[38;5;241m=\u001B[39m \u001B[38;5;28;01mNone\u001B[39;00m,\n\u001B[0;32m    546\u001B[0m ) \u001B[38;5;241m-\u001B[39m\u001B[38;5;241m>\u001B[39m \u001B[38;5;28;01mNone\u001B[39;00m:\n\u001B[0;32m    547\u001B[0m \u001B[38;5;250m    \u001B[39m\u001B[38;5;124;03m\"\"\"\u001B[39;00m\n\u001B[0;32m    548\u001B[0m \u001B[38;5;124;03m    Reader using openpyxl engine.\u001B[39;00m\n\u001B[0;32m    549\u001B[0m \n\u001B[1;32m   (...)\u001B[0m\n\u001B[0;32m    554\u001B[0m \u001B[38;5;124;03m    {storage_options}\u001B[39;00m\n\u001B[0;32m    555\u001B[0m \u001B[38;5;124;03m    \"\"\"\u001B[39;00m\n\u001B[1;32m--> 556\u001B[0m     \u001B[43mimport_optional_dependency\u001B[49m\u001B[43m(\u001B[49m\u001B[38;5;124;43m\"\u001B[39;49m\u001B[38;5;124;43mopenpyxl\u001B[39;49m\u001B[38;5;124;43m\"\u001B[39;49m\u001B[43m)\u001B[49m\n\u001B[0;32m    557\u001B[0m     \u001B[38;5;28msuper\u001B[39m()\u001B[38;5;241m.\u001B[39m\u001B[38;5;21m__init__\u001B[39m(filepath_or_buffer, storage_options\u001B[38;5;241m=\u001B[39mstorage_options)\n",
      "File \u001B[1;32m~\\anaconda3\\envs\\statudy_env\\lib\\site-packages\\pandas\\compat\\_optional.py:144\u001B[0m, in \u001B[0;36mimport_optional_dependency\u001B[1;34m(name, extra, errors, min_version)\u001B[0m\n\u001B[0;32m    142\u001B[0m \u001B[38;5;28;01mexcept\u001B[39;00m \u001B[38;5;167;01mImportError\u001B[39;00m:\n\u001B[0;32m    143\u001B[0m     \u001B[38;5;28;01mif\u001B[39;00m errors \u001B[38;5;241m==\u001B[39m \u001B[38;5;124m\"\u001B[39m\u001B[38;5;124mraise\u001B[39m\u001B[38;5;124m\"\u001B[39m:\n\u001B[1;32m--> 144\u001B[0m         \u001B[38;5;28;01mraise\u001B[39;00m \u001B[38;5;167;01mImportError\u001B[39;00m(msg)\n\u001B[0;32m    145\u001B[0m     \u001B[38;5;28;01melse\u001B[39;00m:\n\u001B[0;32m    146\u001B[0m         \u001B[38;5;28;01mreturn\u001B[39;00m \u001B[38;5;28;01mNone\u001B[39;00m\n",
      "\u001B[1;31mImportError\u001B[0m: Missing optional dependency 'openpyxl'.  Use pip or conda to install openpyxl."
     ]
    }
   ],
   "source": [
    "df_weather = pd.read_excel('./data/weather/weater_beijing.xlsx')\n",
    "df_weather.loc[:, '最高温'] = df_weather['最高温'].str.replace('°', '').replace('', '0')\n",
    "df_weather['最高温'].fillna('0', inplace=True)\n",
    "df_weather.loc[:, '最高温'] = df_weather['最高温'].astype('int32')"
   ],
   "metadata": {
    "collapsed": false
   }
  },
  {
   "cell_type": "code",
   "execution_count": null,
   "outputs": [],
   "source": [
    "df_weather"
   ],
   "metadata": {
    "collapsed": false
   }
  },
  {
   "cell_type": "code",
   "execution_count": null,
   "outputs": [],
   "source": [
    "df_weather.loc[:, '最低温'] = df_weather['最低温'].str.replace('°', '').replace('', '0')\n",
    "df_weather.fillna({'最低温': '0'}, inplace=True)\n",
    "df_weather.loc[:, '最低温'] = df_weather['最低温'].astype('int32')"
   ],
   "metadata": {
    "collapsed": false
   }
  },
  {
   "cell_type": "code",
   "execution_count": null,
   "outputs": [],
   "source": [
    "df_weather"
   ],
   "metadata": {
    "collapsed": false
   }
  },
  {
   "cell_type": "code",
   "execution_count": null,
   "outputs": [],
   "source": [
    "df_weather.fillna({'空气质量指数': '未统计'}, inplace=True)\n",
    "df_weather.loc[:, '空气质量指数'] = df_weather['空气质量指数'].str.split(' ')\n",
    "\n",
    "air_quality = []\n",
    "air_quality_index = []\n",
    "\n",
    "\n",
    "def split_air(d):\n",
    "    if len(d) > 1:\n",
    "        air_quality.append(int(d[0]))\n",
    "        air_quality_index.append(d[1])\n",
    "    else:\n",
    "        air_quality.append(-1)\n",
    "        air_quality_index.append(d[0])\n",
    "\n",
    "\n",
    "df_weather['空气质量指数'].apply(split_air)\n",
    "df_weather.loc[:, '空气质量指数'] = air_quality\n",
    "df_weather.loc[:, '空气质量'] = air_quality_index"
   ],
   "metadata": {
    "collapsed": false
   }
  },
  {
   "cell_type": "code",
   "execution_count": null,
   "outputs": [],
   "source": [
    "df_weather"
   ],
   "metadata": {
    "collapsed": false
   }
  },
  {
   "cell_type": "code",
   "execution_count": null,
   "outputs": [],
   "source": [
    "# 新增一列月份\n",
    "df_weather['月份'] = df_weather['日期'].str[:7]"
   ],
   "metadata": {
    "collapsed": false
   }
  },
  {
   "cell_type": "code",
   "execution_count": null,
   "outputs": [],
   "source": [
    "df_weather"
   ],
   "metadata": {
    "collapsed": false
   }
  },
  {
   "cell_type": "markdown",
   "source": [
    "**1.查看每个月的最高温**"
   ],
   "metadata": {
    "collapsed": false
   }
  },
  {
   "cell_type": "code",
   "execution_count": null,
   "outputs": [],
   "source": [
    "data = df_weather.groupby('月份')['最高温'].max()\n",
    "data"
   ],
   "metadata": {
    "collapsed": false
   }
  },
  {
   "cell_type": "code",
   "execution_count": null,
   "outputs": [],
   "source": [
    "type(data)"
   ],
   "metadata": {
    "collapsed": false
   }
  },
  {
   "cell_type": "code",
   "execution_count": null,
   "outputs": [],
   "source": [
    "data.plot()"
   ],
   "metadata": {
    "collapsed": false
   }
  },
  {
   "cell_type": "markdown",
   "source": [
    "**2.查看每个月的最高温、最低温、平均空气质量指数**"
   ],
   "metadata": {
    "collapsed": false
   }
  },
  {
   "cell_type": "code",
   "execution_count": null,
   "outputs": [],
   "source": [
    "data1 = df_weather.groupby('月份').agg({'最高温': np.max, '最低温': np.min, '空气质量指数': np.mean})\n",
    "data1"
   ],
   "metadata": {
    "collapsed": false
   }
  },
  {
   "cell_type": "code",
   "execution_count": null,
   "outputs": [],
   "source": [
    "data1.plot()"
   ],
   "metadata": {
    "collapsed": false
   }
  }
 ],
 "metadata": {
  "kernelspec": {
   "display_name": "Python 3",
   "language": "python",
   "name": "python3"
  },
  "language_info": {
   "codemirror_mode": {
    "name": "ipython",
    "version": 2
   },
   "file_extension": ".py",
   "mimetype": "text/x-python",
   "name": "python",
   "nbconvert_exporter": "python",
   "pygments_lexer": "ipython2",
   "version": "2.7.6"
  }
 },
 "nbformat": 4,
 "nbformat_minor": 0
}
