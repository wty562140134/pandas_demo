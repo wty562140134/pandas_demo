{
 "cells": [
  {
   "cell_type": "markdown",
   "source": [
    "# pandas实现groupby分组统计\n",
    "\n",
    "类似SQL:\n",
    "select city, max(temperature) from city_weather group by city;\n",
    "\n",
    "groupby: 先对数据分组, 然后在每个分组上应用聚合函数、转换函数\n",
    "\n",
    "本次示例:\n",
    "1. 分组使用聚合函数做数据统计\n",
    "2. 遍历groupby的结果理解执行流程\n",
    "3. 实例分组探索天气数据"
   ],
   "metadata": {
    "collapsed": false
   }
  },
  {
   "cell_type": "code",
   "execution_count": 119,
   "outputs": [],
   "source": [
    "import pandas as pd\n",
    "import numpy as np\n",
    "from pandas import DataFrame\n",
    "# 加速这一句, 能在jupyter notebook展示matplot图表\n",
    "% matplotlib inline"
   ],
   "metadata": {
    "collapsed": false
   }
  },
  {
   "cell_type": "code",
   "execution_count": 120,
   "outputs": [
    {
     "data": {
      "text/plain": "     A      B         C         D\n0  foo    one -1.756825 -1.277181\n1  bar    one -0.143414  0.613374\n2  foo    two -2.046537  1.067192\n3  bar  three -0.483003  1.201565\n4  foo    two -0.450126  1.186188\n5  bar    two  0.437690  1.900416\n6  foo    one  1.435011 -1.373841\n7  foo  three -0.425954 -1.087321",
      "text/html": "<div>\n<style scoped>\n    .dataframe tbody tr th:only-of-type {\n        vertical-align: middle;\n    }\n\n    .dataframe tbody tr th {\n        vertical-align: top;\n    }\n\n    .dataframe thead th {\n        text-align: right;\n    }\n</style>\n<table border=\"1\" class=\"dataframe\">\n  <thead>\n    <tr style=\"text-align: right;\">\n      <th></th>\n      <th>A</th>\n      <th>B</th>\n      <th>C</th>\n      <th>D</th>\n    </tr>\n  </thead>\n  <tbody>\n    <tr>\n      <th>0</th>\n      <td>foo</td>\n      <td>one</td>\n      <td>-1.756825</td>\n      <td>-1.277181</td>\n    </tr>\n    <tr>\n      <th>1</th>\n      <td>bar</td>\n      <td>one</td>\n      <td>-0.143414</td>\n      <td>0.613374</td>\n    </tr>\n    <tr>\n      <th>2</th>\n      <td>foo</td>\n      <td>two</td>\n      <td>-2.046537</td>\n      <td>1.067192</td>\n    </tr>\n    <tr>\n      <th>3</th>\n      <td>bar</td>\n      <td>three</td>\n      <td>-0.483003</td>\n      <td>1.201565</td>\n    </tr>\n    <tr>\n      <th>4</th>\n      <td>foo</td>\n      <td>two</td>\n      <td>-0.450126</td>\n      <td>1.186188</td>\n    </tr>\n    <tr>\n      <th>5</th>\n      <td>bar</td>\n      <td>two</td>\n      <td>0.437690</td>\n      <td>1.900416</td>\n    </tr>\n    <tr>\n      <th>6</th>\n      <td>foo</td>\n      <td>one</td>\n      <td>1.435011</td>\n      <td>-1.373841</td>\n    </tr>\n    <tr>\n      <th>7</th>\n      <td>foo</td>\n      <td>three</td>\n      <td>-0.425954</td>\n      <td>-1.087321</td>\n    </tr>\n  </tbody>\n</table>\n</div>"
     },
     "execution_count": 120,
     "metadata": {},
     "output_type": "execute_result"
    }
   ],
   "source": [
    "df = pd.DataFrame({'A': ['foo', 'bar', 'foo', 'bar', 'foo', 'bar', 'foo', 'foo'],\n",
    "                   'B': ['one', 'one', 'two', 'three', 'two', 'two', 'one', 'three'],\n",
    "                   'C': np.random.randn(8),\n",
    "                   'D': np.random.randn(8)})\n",
    "df"
   ],
   "metadata": {
    "collapsed": false
   }
  },
  {
   "cell_type": "markdown",
   "source": [
    "## 一. 分组使用聚合函数做数据统计\n",
    "**1.单个列groupby, 查询所有数据列的统计**"
   ],
   "metadata": {
    "collapsed": false
   }
  },
  {
   "cell_type": "code",
   "execution_count": 121,
   "outputs": [
    {
     "data": {
      "text/plain": "                     B         C         D\nA                                         \nbar        onethreetwo -0.188727  3.715355\nfoo  onetwotwoonethree -3.244432 -1.484964",
      "text/html": "<div>\n<style scoped>\n    .dataframe tbody tr th:only-of-type {\n        vertical-align: middle;\n    }\n\n    .dataframe tbody tr th {\n        vertical-align: top;\n    }\n\n    .dataframe thead th {\n        text-align: right;\n    }\n</style>\n<table border=\"1\" class=\"dataframe\">\n  <thead>\n    <tr style=\"text-align: right;\">\n      <th></th>\n      <th>B</th>\n      <th>C</th>\n      <th>D</th>\n    </tr>\n    <tr>\n      <th>A</th>\n      <th></th>\n      <th></th>\n      <th></th>\n    </tr>\n  </thead>\n  <tbody>\n    <tr>\n      <th>bar</th>\n      <td>onethreetwo</td>\n      <td>-0.188727</td>\n      <td>3.715355</td>\n    </tr>\n    <tr>\n      <th>foo</th>\n      <td>onetwotwoonethree</td>\n      <td>-3.244432</td>\n      <td>-1.484964</td>\n    </tr>\n  </tbody>\n</table>\n</div>"
     },
     "execution_count": 121,
     "metadata": {},
     "output_type": "execute_result"
    }
   ],
   "source": [
    "df.groupby('A').sum()"
   ],
   "metadata": {
    "collapsed": false
   }
  },
  {
   "cell_type": "markdown",
   "source": [
    "**2.多个列groupby, 查询所有数据列的统计**"
   ],
   "metadata": {
    "collapsed": false
   }
  },
  {
   "cell_type": "code",
   "execution_count": 122,
   "outputs": [
    {
     "data": {
      "text/plain": "                  C         D\nA   B                        \nbar one   -0.143414  0.613374\n    three -0.483003  1.201565\n    two    0.437690  1.900416\nfoo one   -0.160907 -1.325511\n    three -0.425954 -1.087321\n    two   -1.248332  1.126690",
      "text/html": "<div>\n<style scoped>\n    .dataframe tbody tr th:only-of-type {\n        vertical-align: middle;\n    }\n\n    .dataframe tbody tr th {\n        vertical-align: top;\n    }\n\n    .dataframe thead th {\n        text-align: right;\n    }\n</style>\n<table border=\"1\" class=\"dataframe\">\n  <thead>\n    <tr style=\"text-align: right;\">\n      <th></th>\n      <th></th>\n      <th>C</th>\n      <th>D</th>\n    </tr>\n    <tr>\n      <th>A</th>\n      <th>B</th>\n      <th></th>\n      <th></th>\n    </tr>\n  </thead>\n  <tbody>\n    <tr>\n      <th rowspan=\"3\" valign=\"top\">bar</th>\n      <th>one</th>\n      <td>-0.143414</td>\n      <td>0.613374</td>\n    </tr>\n    <tr>\n      <th>three</th>\n      <td>-0.483003</td>\n      <td>1.201565</td>\n    </tr>\n    <tr>\n      <th>two</th>\n      <td>0.437690</td>\n      <td>1.900416</td>\n    </tr>\n    <tr>\n      <th rowspan=\"3\" valign=\"top\">foo</th>\n      <th>one</th>\n      <td>-0.160907</td>\n      <td>-1.325511</td>\n    </tr>\n    <tr>\n      <th>three</th>\n      <td>-0.425954</td>\n      <td>-1.087321</td>\n    </tr>\n    <tr>\n      <th>two</th>\n      <td>-1.248332</td>\n      <td>1.126690</td>\n    </tr>\n  </tbody>\n</table>\n</div>"
     },
     "execution_count": 122,
     "metadata": {},
     "output_type": "execute_result"
    }
   ],
   "source": [
    "df.groupby(['A', 'B']).mean()"
   ],
   "metadata": {
    "collapsed": false
   }
  },
  {
   "cell_type": "markdown",
   "source": [
    "我们看到('A', 'B')成对变成了二级索引"
   ],
   "metadata": {
    "collapsed": false
   }
  },
  {
   "cell_type": "code",
   "execution_count": 123,
   "outputs": [
    {
     "data": {
      "text/plain": "     A      B         C         D\n0  bar    one -0.143414  0.613374\n1  bar  three -0.483003  1.201565\n2  bar    two  0.437690  1.900416\n3  foo    one -0.160907 -1.325511\n4  foo  three -0.425954 -1.087321\n5  foo    two -1.248332  1.126690",
      "text/html": "<div>\n<style scoped>\n    .dataframe tbody tr th:only-of-type {\n        vertical-align: middle;\n    }\n\n    .dataframe tbody tr th {\n        vertical-align: top;\n    }\n\n    .dataframe thead th {\n        text-align: right;\n    }\n</style>\n<table border=\"1\" class=\"dataframe\">\n  <thead>\n    <tr style=\"text-align: right;\">\n      <th></th>\n      <th>A</th>\n      <th>B</th>\n      <th>C</th>\n      <th>D</th>\n    </tr>\n  </thead>\n  <tbody>\n    <tr>\n      <th>0</th>\n      <td>bar</td>\n      <td>one</td>\n      <td>-0.143414</td>\n      <td>0.613374</td>\n    </tr>\n    <tr>\n      <th>1</th>\n      <td>bar</td>\n      <td>three</td>\n      <td>-0.483003</td>\n      <td>1.201565</td>\n    </tr>\n    <tr>\n      <th>2</th>\n      <td>bar</td>\n      <td>two</td>\n      <td>0.437690</td>\n      <td>1.900416</td>\n    </tr>\n    <tr>\n      <th>3</th>\n      <td>foo</td>\n      <td>one</td>\n      <td>-0.160907</td>\n      <td>-1.325511</td>\n    </tr>\n    <tr>\n      <th>4</th>\n      <td>foo</td>\n      <td>three</td>\n      <td>-0.425954</td>\n      <td>-1.087321</td>\n    </tr>\n    <tr>\n      <th>5</th>\n      <td>foo</td>\n      <td>two</td>\n      <td>-1.248332</td>\n      <td>1.126690</td>\n    </tr>\n  </tbody>\n</table>\n</div>"
     },
     "execution_count": 123,
     "metadata": {},
     "output_type": "execute_result"
    }
   ],
   "source": [
    "df.groupby(['A', 'B'], as_index=False).mean()"
   ],
   "metadata": {
    "collapsed": false
   }
  },
  {
   "cell_type": "markdown",
   "source": [
    "**3.同时查看多种数据统计**"
   ],
   "metadata": {
    "collapsed": false
   }
  },
  {
   "cell_type": "code",
   "execution_count": 124,
   "outputs": [
    {
     "data": {
      "text/plain": "            C                             D                    \n          sum      mean       std       sum      mean       std\nA                                                              \nbar -0.188727 -0.062909  0.465596  3.715355  1.238452  0.644314\nfoo -3.244432 -0.648886  1.379564 -1.484964 -0.296993  1.304398",
      "text/html": "<div>\n<style scoped>\n    .dataframe tbody tr th:only-of-type {\n        vertical-align: middle;\n    }\n\n    .dataframe tbody tr th {\n        vertical-align: top;\n    }\n\n    .dataframe thead tr th {\n        text-align: left;\n    }\n\n    .dataframe thead tr:last-of-type th {\n        text-align: right;\n    }\n</style>\n<table border=\"1\" class=\"dataframe\">\n  <thead>\n    <tr>\n      <th></th>\n      <th colspan=\"3\" halign=\"left\">C</th>\n      <th colspan=\"3\" halign=\"left\">D</th>\n    </tr>\n    <tr>\n      <th></th>\n      <th>sum</th>\n      <th>mean</th>\n      <th>std</th>\n      <th>sum</th>\n      <th>mean</th>\n      <th>std</th>\n    </tr>\n    <tr>\n      <th>A</th>\n      <th></th>\n      <th></th>\n      <th></th>\n      <th></th>\n      <th></th>\n      <th></th>\n    </tr>\n  </thead>\n  <tbody>\n    <tr>\n      <th>bar</th>\n      <td>-0.188727</td>\n      <td>-0.062909</td>\n      <td>0.465596</td>\n      <td>3.715355</td>\n      <td>1.238452</td>\n      <td>0.644314</td>\n    </tr>\n    <tr>\n      <th>foo</th>\n      <td>-3.244432</td>\n      <td>-0.648886</td>\n      <td>1.379564</td>\n      <td>-1.484964</td>\n      <td>-0.296993</td>\n      <td>1.304398</td>\n    </tr>\n  </tbody>\n</table>\n</div>"
     },
     "execution_count": 124,
     "metadata": {},
     "output_type": "execute_result"
    }
   ],
   "source": [
    "exclude_b_df = df.loc[:, df.columns != 'B']\n",
    "exclude_b_df.groupby('A').agg([np.sum, np.mean, np.std])"
   ],
   "metadata": {
    "collapsed": false
   }
  },
  {
   "cell_type": "markdown",
   "source": [
    "我们看到: 列变成了多级索引"
   ],
   "metadata": {
    "collapsed": false
   }
  },
  {
   "cell_type": "markdown",
   "source": [
    "**4.查看单列的结果数据统计**"
   ],
   "metadata": {
    "collapsed": false
   }
  },
  {
   "cell_type": "code",
   "execution_count": 125,
   "outputs": [
    {
     "data": {
      "text/plain": "          sum      mean       std\nA                                \nbar -0.188727 -0.062909  0.465596\nfoo -3.244432 -0.648886  1.379564",
      "text/html": "<div>\n<style scoped>\n    .dataframe tbody tr th:only-of-type {\n        vertical-align: middle;\n    }\n\n    .dataframe tbody tr th {\n        vertical-align: top;\n    }\n\n    .dataframe thead th {\n        text-align: right;\n    }\n</style>\n<table border=\"1\" class=\"dataframe\">\n  <thead>\n    <tr style=\"text-align: right;\">\n      <th></th>\n      <th>sum</th>\n      <th>mean</th>\n      <th>std</th>\n    </tr>\n    <tr>\n      <th>A</th>\n      <th></th>\n      <th></th>\n      <th></th>\n    </tr>\n  </thead>\n  <tbody>\n    <tr>\n      <th>bar</th>\n      <td>-0.188727</td>\n      <td>-0.062909</td>\n      <td>0.465596</td>\n    </tr>\n    <tr>\n      <th>foo</th>\n      <td>-3.244432</td>\n      <td>-0.648886</td>\n      <td>1.379564</td>\n    </tr>\n  </tbody>\n</table>\n</div>"
     },
     "execution_count": 125,
     "metadata": {},
     "output_type": "execute_result"
    }
   ],
   "source": [
    "# 方法1: 预过滤, 性能更好\n",
    "exclude_b_df.groupby('A')['C'].agg([np.sum, np.mean, np.std])"
   ],
   "metadata": {
    "collapsed": false
   }
  },
  {
   "cell_type": "code",
   "execution_count": 126,
   "outputs": [
    {
     "data": {
      "text/plain": "          sum      mean       std\nA                                \nbar -0.188727 -0.062909  0.465596\nfoo -3.244432 -0.648886  1.379564",
      "text/html": "<div>\n<style scoped>\n    .dataframe tbody tr th:only-of-type {\n        vertical-align: middle;\n    }\n\n    .dataframe tbody tr th {\n        vertical-align: top;\n    }\n\n    .dataframe thead th {\n        text-align: right;\n    }\n</style>\n<table border=\"1\" class=\"dataframe\">\n  <thead>\n    <tr style=\"text-align: right;\">\n      <th></th>\n      <th>sum</th>\n      <th>mean</th>\n      <th>std</th>\n    </tr>\n    <tr>\n      <th>A</th>\n      <th></th>\n      <th></th>\n      <th></th>\n    </tr>\n  </thead>\n  <tbody>\n    <tr>\n      <th>bar</th>\n      <td>-0.188727</td>\n      <td>-0.062909</td>\n      <td>0.465596</td>\n    </tr>\n    <tr>\n      <th>foo</th>\n      <td>-3.244432</td>\n      <td>-0.648886</td>\n      <td>1.379564</td>\n    </tr>\n  </tbody>\n</table>\n</div>"
     },
     "execution_count": 126,
     "metadata": {},
     "output_type": "execute_result"
    }
   ],
   "source": [
    "# 方法2\n",
    "exclude_b_df.groupby('A').agg([np.sum, np.mean, np.std])['C']"
   ],
   "metadata": {
    "collapsed": false
   }
  },
  {
   "cell_type": "markdown",
   "source": [
    "**5.不同列使用不同的聚合函数**"
   ],
   "metadata": {
    "collapsed": false
   }
  },
  {
   "cell_type": "code",
   "execution_count": 127,
   "outputs": [
    {
     "data": {
      "text/plain": "            C         D          \n          sum      mean       std\nA                                \nbar -0.188727  1.238452  0.644314\nfoo -3.244432 -0.296993  1.304398",
      "text/html": "<div>\n<style scoped>\n    .dataframe tbody tr th:only-of-type {\n        vertical-align: middle;\n    }\n\n    .dataframe tbody tr th {\n        vertical-align: top;\n    }\n\n    .dataframe thead tr th {\n        text-align: left;\n    }\n\n    .dataframe thead tr:last-of-type th {\n        text-align: right;\n    }\n</style>\n<table border=\"1\" class=\"dataframe\">\n  <thead>\n    <tr>\n      <th></th>\n      <th>C</th>\n      <th colspan=\"2\" halign=\"left\">D</th>\n    </tr>\n    <tr>\n      <th></th>\n      <th>sum</th>\n      <th>mean</th>\n      <th>std</th>\n    </tr>\n    <tr>\n      <th>A</th>\n      <th></th>\n      <th></th>\n      <th></th>\n    </tr>\n  </thead>\n  <tbody>\n    <tr>\n      <th>bar</th>\n      <td>-0.188727</td>\n      <td>1.238452</td>\n      <td>0.644314</td>\n    </tr>\n    <tr>\n      <th>foo</th>\n      <td>-3.244432</td>\n      <td>-0.296993</td>\n      <td>1.304398</td>\n    </tr>\n  </tbody>\n</table>\n</div>"
     },
     "execution_count": 127,
     "metadata": {},
     "output_type": "execute_result"
    }
   ],
   "source": [
    "exclude_b_df.groupby('A').agg({'C': np.sum, 'D': [np.mean, np.std]})"
   ],
   "metadata": {
    "collapsed": false
   }
  },
  {
   "cell_type": "markdown",
   "source": [
    "## 二.遍历groupby的结果理解执行流程\n",
    "for 循环可以直接遍历每个group\n",
    "\n",
    "**1.遍历单个聚合的分组**"
   ],
   "metadata": {
    "collapsed": false
   }
  },
  {
   "cell_type": "code",
   "execution_count": 128,
   "outputs": [
    {
     "data": {
      "text/plain": "<pandas.core.groupby.generic.DataFrameGroupBy object at 0x0000021061ED8C70>"
     },
     "execution_count": 128,
     "metadata": {},
     "output_type": "execute_result"
    }
   ],
   "source": [
    "g = exclude_b_df.groupby('A')\n",
    "g"
   ],
   "metadata": {
    "collapsed": false
   }
  },
  {
   "cell_type": "code",
   "execution_count": 129,
   "outputs": [
    {
     "name": "stdout",
     "output_type": "stream",
     "text": [
      "bar\n",
      "     A         C         D\n",
      "1  bar -0.143414  0.613374\n",
      "3  bar -0.483003  1.201565\n",
      "5  bar  0.437690  1.900416\n",
      "\n",
      "foo\n",
      "     A         C         D\n",
      "0  foo -1.756825 -1.277181\n",
      "2  foo -2.046537  1.067192\n",
      "4  foo -0.450126  1.186188\n",
      "6  foo  1.435011 -1.373841\n",
      "7  foo -0.425954 -1.087321\n",
      "\n"
     ]
    }
   ],
   "source": [
    "for name, group in g:\n",
    "    print(name)\n",
    "    print(group)\n",
    "    print()"
   ],
   "metadata": {
    "collapsed": false
   }
  },
  {
   "cell_type": "markdown",
   "source": [
    "**可以获取单个返祖的数据**"
   ],
   "metadata": {
    "collapsed": false
   }
  },
  {
   "cell_type": "code",
   "execution_count": 130,
   "outputs": [
    {
     "data": {
      "text/plain": "     A         C         D\n1  bar -0.143414  0.613374\n3  bar -0.483003  1.201565\n5  bar  0.437690  1.900416",
      "text/html": "<div>\n<style scoped>\n    .dataframe tbody tr th:only-of-type {\n        vertical-align: middle;\n    }\n\n    .dataframe tbody tr th {\n        vertical-align: top;\n    }\n\n    .dataframe thead th {\n        text-align: right;\n    }\n</style>\n<table border=\"1\" class=\"dataframe\">\n  <thead>\n    <tr style=\"text-align: right;\">\n      <th></th>\n      <th>A</th>\n      <th>C</th>\n      <th>D</th>\n    </tr>\n  </thead>\n  <tbody>\n    <tr>\n      <th>1</th>\n      <td>bar</td>\n      <td>-0.143414</td>\n      <td>0.613374</td>\n    </tr>\n    <tr>\n      <th>3</th>\n      <td>bar</td>\n      <td>-0.483003</td>\n      <td>1.201565</td>\n    </tr>\n    <tr>\n      <th>5</th>\n      <td>bar</td>\n      <td>0.437690</td>\n      <td>1.900416</td>\n    </tr>\n  </tbody>\n</table>\n</div>"
     },
     "execution_count": 130,
     "metadata": {},
     "output_type": "execute_result"
    }
   ],
   "source": [
    "g.get_group('bar')"
   ],
   "metadata": {
    "collapsed": false
   }
  },
  {
   "cell_type": "markdown",
   "source": [
    "**2遍历多个聚合的分组**"
   ],
   "metadata": {
    "collapsed": false
   }
  },
  {
   "cell_type": "code",
   "execution_count": 131,
   "outputs": [],
   "source": [
    "g1 = df.groupby(['A', 'B'])"
   ],
   "metadata": {
    "collapsed": false
   }
  },
  {
   "cell_type": "code",
   "execution_count": 132,
   "outputs": [
    {
     "name": "stdout",
     "output_type": "stream",
     "text": [
      "('bar', 'one')\n",
      "     A    B         C         D\n",
      "1  bar  one -0.143414  0.613374\n",
      "\n",
      "('bar', 'three')\n",
      "     A      B         C         D\n",
      "3  bar  three -0.483003  1.201565\n",
      "\n",
      "('bar', 'two')\n",
      "     A    B        C         D\n",
      "5  bar  two  0.43769  1.900416\n",
      "\n",
      "('foo', 'one')\n",
      "     A    B         C         D\n",
      "0  foo  one -1.756825 -1.277181\n",
      "6  foo  one  1.435011 -1.373841\n",
      "\n",
      "('foo', 'three')\n",
      "     A      B         C         D\n",
      "7  foo  three -0.425954 -1.087321\n",
      "\n",
      "('foo', 'two')\n",
      "     A    B         C         D\n",
      "2  foo  two -2.046537  1.067192\n",
      "4  foo  two -0.450126  1.186188\n",
      "\n"
     ]
    }
   ],
   "source": [
    "for name, group in g1:\n",
    "    print(name)\n",
    "    print(group)\n",
    "    print()"
   ],
   "metadata": {
    "collapsed": false
   }
  },
  {
   "cell_type": "markdown",
   "source": [
    "可以看到, name是一个2个元素的tuple, 代表不同的列"
   ],
   "metadata": {
    "collapsed": false
   }
  },
  {
   "cell_type": "code",
   "execution_count": 133,
   "outputs": [
    {
     "data": {
      "text/plain": "     A    B         C         D\n0  foo  one -1.756825 -1.277181\n6  foo  one  1.435011 -1.373841",
      "text/html": "<div>\n<style scoped>\n    .dataframe tbody tr th:only-of-type {\n        vertical-align: middle;\n    }\n\n    .dataframe tbody tr th {\n        vertical-align: top;\n    }\n\n    .dataframe thead th {\n        text-align: right;\n    }\n</style>\n<table border=\"1\" class=\"dataframe\">\n  <thead>\n    <tr style=\"text-align: right;\">\n      <th></th>\n      <th>A</th>\n      <th>B</th>\n      <th>C</th>\n      <th>D</th>\n    </tr>\n  </thead>\n  <tbody>\n    <tr>\n      <th>0</th>\n      <td>foo</td>\n      <td>one</td>\n      <td>-1.756825</td>\n      <td>-1.277181</td>\n    </tr>\n    <tr>\n      <th>6</th>\n      <td>foo</td>\n      <td>one</td>\n      <td>1.435011</td>\n      <td>-1.373841</td>\n    </tr>\n  </tbody>\n</table>\n</div>"
     },
     "execution_count": 133,
     "metadata": {},
     "output_type": "execute_result"
    }
   ],
   "source": [
    "g1.get_group(('foo', 'one'))"
   ],
   "metadata": {
    "collapsed": false
   }
  },
  {
   "cell_type": "markdown",
   "source": [
    "**可以直接查询group后的某几列, 生成Series或者子DataFrame**"
   ],
   "metadata": {
    "collapsed": false
   }
  },
  {
   "cell_type": "code",
   "execution_count": 134,
   "outputs": [
    {
     "data": {
      "text/plain": "<pandas.core.groupby.generic.SeriesGroupBy object at 0x0000021061ED8430>"
     },
     "execution_count": 134,
     "metadata": {},
     "output_type": "execute_result"
    }
   ],
   "source": [
    "g1['C']"
   ],
   "metadata": {
    "collapsed": false
   }
  },
  {
   "cell_type": "code",
   "execution_count": 135,
   "outputs": [
    {
     "name": "stdout",
     "output_type": "stream",
     "text": [
      "('bar', 'one')\n",
      "1   -0.143414\n",
      "Name: C, dtype: float64\n",
      "<class 'pandas.core.series.Series'>\n",
      "\n",
      "('bar', 'three')\n",
      "3   -0.483003\n",
      "Name: C, dtype: float64\n",
      "<class 'pandas.core.series.Series'>\n",
      "\n",
      "('bar', 'two')\n",
      "5    0.43769\n",
      "Name: C, dtype: float64\n",
      "<class 'pandas.core.series.Series'>\n",
      "\n",
      "('foo', 'one')\n",
      "0   -1.756825\n",
      "6    1.435011\n",
      "Name: C, dtype: float64\n",
      "<class 'pandas.core.series.Series'>\n",
      "\n",
      "('foo', 'three')\n",
      "7   -0.425954\n",
      "Name: C, dtype: float64\n",
      "<class 'pandas.core.series.Series'>\n",
      "\n",
      "('foo', 'two')\n",
      "2   -2.046537\n",
      "4   -0.450126\n",
      "Name: C, dtype: float64\n",
      "<class 'pandas.core.series.Series'>\n",
      "\n"
     ]
    }
   ],
   "source": [
    "for name, group in g1['C']:\n",
    "    print(name)\n",
    "    print(group)\n",
    "    print(type(group))\n",
    "    print()"
   ],
   "metadata": {
    "collapsed": false
   }
  },
  {
   "cell_type": "markdown",
   "source": [
    "其实所有的聚合统计, 都是在DataFrame和Series上进行的"
   ],
   "metadata": {
    "collapsed": false
   }
  },
  {
   "cell_type": "markdown",
   "source": [
    "## 三. 实例分组探索天气数据"
   ],
   "metadata": {
    "collapsed": false
   }
  },
  {
   "cell_type": "code",
   "execution_count": 136,
   "outputs": [],
   "source": [
    "df_weather = pd.read_excel('./data/weather/weater_beijing.xlsx')\n",
    "df_weather.loc[:, '最高温'] = df_weather['最高温'].str.replace('°', '').replace('', '0')\n",
    "df_weather['最高温'].fillna('0', inplace=True)\n",
    "df_weather.loc[:, '最高温'] = df_weather['最高温'].astype('int32')"
   ],
   "metadata": {
    "collapsed": false
   }
  },
  {
   "cell_type": "code",
   "execution_count": 137,
   "outputs": [
    {
     "data": {
      "text/plain": "                 日期 最高温   最低温    天气             风力风向 空气质量指数\n0     2011-01-01 周六  -2   -7°  多云~阴          无持续风向微风    NaN\n1     2011-01-02 周日  -2   -7°    多云          无持续风向微风    NaN\n2     2011-01-03 周一  -2   -6°  多云~阴  西北风~北风3-4级~4-5级    NaN\n3     2011-01-04 周二  -2   -9°     晴           北风5-6级    NaN\n4     2011-01-05 周三  -2  -10°     晴  北风~无持续风向3-4级~微风    NaN\n...             ...  ..   ...   ...              ...    ...\n4001  2021-12-27 周一   6   -8°     晴            西北风1级   56 良\n4002  2021-12-28 周二   6   -5°  多云~晴            西北风1级   64 良\n4003  2021-12-29 周三   5   -5°     晴            西北风3级   43 优\n4004  2021-12-30 周四   6   -7°     晴            西北风3级   38 优\n4005  2021-12-31 周五   5   -7°     晴            东北风1级   44 优\n\n[4006 rows x 6 columns]",
      "text/html": "<div>\n<style scoped>\n    .dataframe tbody tr th:only-of-type {\n        vertical-align: middle;\n    }\n\n    .dataframe tbody tr th {\n        vertical-align: top;\n    }\n\n    .dataframe thead th {\n        text-align: right;\n    }\n</style>\n<table border=\"1\" class=\"dataframe\">\n  <thead>\n    <tr style=\"text-align: right;\">\n      <th></th>\n      <th>日期</th>\n      <th>最高温</th>\n      <th>最低温</th>\n      <th>天气</th>\n      <th>风力风向</th>\n      <th>空气质量指数</th>\n    </tr>\n  </thead>\n  <tbody>\n    <tr>\n      <th>0</th>\n      <td>2011-01-01 周六</td>\n      <td>-2</td>\n      <td>-7°</td>\n      <td>多云~阴</td>\n      <td>无持续风向微风</td>\n      <td>NaN</td>\n    </tr>\n    <tr>\n      <th>1</th>\n      <td>2011-01-02 周日</td>\n      <td>-2</td>\n      <td>-7°</td>\n      <td>多云</td>\n      <td>无持续风向微风</td>\n      <td>NaN</td>\n    </tr>\n    <tr>\n      <th>2</th>\n      <td>2011-01-03 周一</td>\n      <td>-2</td>\n      <td>-6°</td>\n      <td>多云~阴</td>\n      <td>西北风~北风3-4级~4-5级</td>\n      <td>NaN</td>\n    </tr>\n    <tr>\n      <th>3</th>\n      <td>2011-01-04 周二</td>\n      <td>-2</td>\n      <td>-9°</td>\n      <td>晴</td>\n      <td>北风5-6级</td>\n      <td>NaN</td>\n    </tr>\n    <tr>\n      <th>4</th>\n      <td>2011-01-05 周三</td>\n      <td>-2</td>\n      <td>-10°</td>\n      <td>晴</td>\n      <td>北风~无持续风向3-4级~微风</td>\n      <td>NaN</td>\n    </tr>\n    <tr>\n      <th>...</th>\n      <td>...</td>\n      <td>...</td>\n      <td>...</td>\n      <td>...</td>\n      <td>...</td>\n      <td>...</td>\n    </tr>\n    <tr>\n      <th>4001</th>\n      <td>2021-12-27 周一</td>\n      <td>6</td>\n      <td>-8°</td>\n      <td>晴</td>\n      <td>西北风1级</td>\n      <td>56 良</td>\n    </tr>\n    <tr>\n      <th>4002</th>\n      <td>2021-12-28 周二</td>\n      <td>6</td>\n      <td>-5°</td>\n      <td>多云~晴</td>\n      <td>西北风1级</td>\n      <td>64 良</td>\n    </tr>\n    <tr>\n      <th>4003</th>\n      <td>2021-12-29 周三</td>\n      <td>5</td>\n      <td>-5°</td>\n      <td>晴</td>\n      <td>西北风3级</td>\n      <td>43 优</td>\n    </tr>\n    <tr>\n      <th>4004</th>\n      <td>2021-12-30 周四</td>\n      <td>6</td>\n      <td>-7°</td>\n      <td>晴</td>\n      <td>西北风3级</td>\n      <td>38 优</td>\n    </tr>\n    <tr>\n      <th>4005</th>\n      <td>2021-12-31 周五</td>\n      <td>5</td>\n      <td>-7°</td>\n      <td>晴</td>\n      <td>东北风1级</td>\n      <td>44 优</td>\n    </tr>\n  </tbody>\n</table>\n<p>4006 rows × 6 columns</p>\n</div>"
     },
     "execution_count": 137,
     "metadata": {},
     "output_type": "execute_result"
    }
   ],
   "source": [
    "df_weather"
   ],
   "metadata": {
    "collapsed": false
   }
  },
  {
   "cell_type": "code",
   "execution_count": 138,
   "outputs": [],
   "source": [
    "df_weather.loc[:, '最低温'] = df_weather['最低温'].str.replace('°', '').replace('', '0')\n",
    "df_weather.fillna({'最低温': '0'}, inplace=True)\n",
    "df_weather.loc[:, '最低温'] = df_weather['最低温'].astype('int32')"
   ],
   "metadata": {
    "collapsed": false
   }
  },
  {
   "cell_type": "code",
   "execution_count": 139,
   "outputs": [
    {
     "data": {
      "text/plain": "                 日期 最高温  最低温    天气             风力风向 空气质量指数\n0     2011-01-01 周六  -2   -7  多云~阴          无持续风向微风    NaN\n1     2011-01-02 周日  -2   -7    多云          无持续风向微风    NaN\n2     2011-01-03 周一  -2   -6  多云~阴  西北风~北风3-4级~4-5级    NaN\n3     2011-01-04 周二  -2   -9     晴           北风5-6级    NaN\n4     2011-01-05 周三  -2  -10     晴  北风~无持续风向3-4级~微风    NaN\n...             ...  ..  ...   ...              ...    ...\n4001  2021-12-27 周一   6   -8     晴            西北风1级   56 良\n4002  2021-12-28 周二   6   -5  多云~晴            西北风1级   64 良\n4003  2021-12-29 周三   5   -5     晴            西北风3级   43 优\n4004  2021-12-30 周四   6   -7     晴            西北风3级   38 优\n4005  2021-12-31 周五   5   -7     晴            东北风1级   44 优\n\n[4006 rows x 6 columns]",
      "text/html": "<div>\n<style scoped>\n    .dataframe tbody tr th:only-of-type {\n        vertical-align: middle;\n    }\n\n    .dataframe tbody tr th {\n        vertical-align: top;\n    }\n\n    .dataframe thead th {\n        text-align: right;\n    }\n</style>\n<table border=\"1\" class=\"dataframe\">\n  <thead>\n    <tr style=\"text-align: right;\">\n      <th></th>\n      <th>日期</th>\n      <th>最高温</th>\n      <th>最低温</th>\n      <th>天气</th>\n      <th>风力风向</th>\n      <th>空气质量指数</th>\n    </tr>\n  </thead>\n  <tbody>\n    <tr>\n      <th>0</th>\n      <td>2011-01-01 周六</td>\n      <td>-2</td>\n      <td>-7</td>\n      <td>多云~阴</td>\n      <td>无持续风向微风</td>\n      <td>NaN</td>\n    </tr>\n    <tr>\n      <th>1</th>\n      <td>2011-01-02 周日</td>\n      <td>-2</td>\n      <td>-7</td>\n      <td>多云</td>\n      <td>无持续风向微风</td>\n      <td>NaN</td>\n    </tr>\n    <tr>\n      <th>2</th>\n      <td>2011-01-03 周一</td>\n      <td>-2</td>\n      <td>-6</td>\n      <td>多云~阴</td>\n      <td>西北风~北风3-4级~4-5级</td>\n      <td>NaN</td>\n    </tr>\n    <tr>\n      <th>3</th>\n      <td>2011-01-04 周二</td>\n      <td>-2</td>\n      <td>-9</td>\n      <td>晴</td>\n      <td>北风5-6级</td>\n      <td>NaN</td>\n    </tr>\n    <tr>\n      <th>4</th>\n      <td>2011-01-05 周三</td>\n      <td>-2</td>\n      <td>-10</td>\n      <td>晴</td>\n      <td>北风~无持续风向3-4级~微风</td>\n      <td>NaN</td>\n    </tr>\n    <tr>\n      <th>...</th>\n      <td>...</td>\n      <td>...</td>\n      <td>...</td>\n      <td>...</td>\n      <td>...</td>\n      <td>...</td>\n    </tr>\n    <tr>\n      <th>4001</th>\n      <td>2021-12-27 周一</td>\n      <td>6</td>\n      <td>-8</td>\n      <td>晴</td>\n      <td>西北风1级</td>\n      <td>56 良</td>\n    </tr>\n    <tr>\n      <th>4002</th>\n      <td>2021-12-28 周二</td>\n      <td>6</td>\n      <td>-5</td>\n      <td>多云~晴</td>\n      <td>西北风1级</td>\n      <td>64 良</td>\n    </tr>\n    <tr>\n      <th>4003</th>\n      <td>2021-12-29 周三</td>\n      <td>5</td>\n      <td>-5</td>\n      <td>晴</td>\n      <td>西北风3级</td>\n      <td>43 优</td>\n    </tr>\n    <tr>\n      <th>4004</th>\n      <td>2021-12-30 周四</td>\n      <td>6</td>\n      <td>-7</td>\n      <td>晴</td>\n      <td>西北风3级</td>\n      <td>38 优</td>\n    </tr>\n    <tr>\n      <th>4005</th>\n      <td>2021-12-31 周五</td>\n      <td>5</td>\n      <td>-7</td>\n      <td>晴</td>\n      <td>东北风1级</td>\n      <td>44 优</td>\n    </tr>\n  </tbody>\n</table>\n<p>4006 rows × 6 columns</p>\n</div>"
     },
     "execution_count": 139,
     "metadata": {},
     "output_type": "execute_result"
    }
   ],
   "source": [
    "df_weather"
   ],
   "metadata": {
    "collapsed": false
   }
  },
  {
   "cell_type": "code",
   "execution_count": 140,
   "outputs": [],
   "source": [
    "df_weather.fillna({'空气质量指数': '未统计'}, inplace=True)\n",
    "df_weather.loc[:, '空气质量指数'] = df_weather['空气质量指数'].str.split(' ')\n",
    "\n",
    "air_quality = []\n",
    "air_quality_index = []\n",
    "\n",
    "\n",
    "def split_air(d):\n",
    "    if len(d) > 1:\n",
    "        air_quality.append(d[0])\n",
    "        air_quality_index.append(d[1])\n",
    "    else:\n",
    "        air_quality.append(-1)\n",
    "        air_quality_index.append(d[0])\n",
    "\n",
    "\n",
    "df_weather['空气质量指数'].apply(split_air)\n",
    "df_weather.loc[:, '空气质量指数'] = air_quality\n",
    "df_weather.loc[:, '空气质量'] = air_quality_index"
   ],
   "metadata": {
    "collapsed": false
   }
  },
  {
   "cell_type": "code",
   "execution_count": 141,
   "outputs": [
    {
     "data": {
      "text/plain": "                 日期 最高温  最低温    天气             风力风向 空气质量指数 空气质量\n0     2011-01-01 周六  -2   -7  多云~阴          无持续风向微风     -1  未统计\n1     2011-01-02 周日  -2   -7    多云          无持续风向微风     -1  未统计\n2     2011-01-03 周一  -2   -6  多云~阴  西北风~北风3-4级~4-5级     -1  未统计\n3     2011-01-04 周二  -2   -9     晴           北风5-6级     -1  未统计\n4     2011-01-05 周三  -2  -10     晴  北风~无持续风向3-4级~微风     -1  未统计\n...             ...  ..  ...   ...              ...    ...  ...\n4001  2021-12-27 周一   6   -8     晴            西北风1级     56    良\n4002  2021-12-28 周二   6   -5  多云~晴            西北风1级     64    良\n4003  2021-12-29 周三   5   -5     晴            西北风3级     43    优\n4004  2021-12-30 周四   6   -7     晴            西北风3级     38    优\n4005  2021-12-31 周五   5   -7     晴            东北风1级     44    优\n\n[4006 rows x 7 columns]",
      "text/html": "<div>\n<style scoped>\n    .dataframe tbody tr th:only-of-type {\n        vertical-align: middle;\n    }\n\n    .dataframe tbody tr th {\n        vertical-align: top;\n    }\n\n    .dataframe thead th {\n        text-align: right;\n    }\n</style>\n<table border=\"1\" class=\"dataframe\">\n  <thead>\n    <tr style=\"text-align: right;\">\n      <th></th>\n      <th>日期</th>\n      <th>最高温</th>\n      <th>最低温</th>\n      <th>天气</th>\n      <th>风力风向</th>\n      <th>空气质量指数</th>\n      <th>空气质量</th>\n    </tr>\n  </thead>\n  <tbody>\n    <tr>\n      <th>0</th>\n      <td>2011-01-01 周六</td>\n      <td>-2</td>\n      <td>-7</td>\n      <td>多云~阴</td>\n      <td>无持续风向微风</td>\n      <td>-1</td>\n      <td>未统计</td>\n    </tr>\n    <tr>\n      <th>1</th>\n      <td>2011-01-02 周日</td>\n      <td>-2</td>\n      <td>-7</td>\n      <td>多云</td>\n      <td>无持续风向微风</td>\n      <td>-1</td>\n      <td>未统计</td>\n    </tr>\n    <tr>\n      <th>2</th>\n      <td>2011-01-03 周一</td>\n      <td>-2</td>\n      <td>-6</td>\n      <td>多云~阴</td>\n      <td>西北风~北风3-4级~4-5级</td>\n      <td>-1</td>\n      <td>未统计</td>\n    </tr>\n    <tr>\n      <th>3</th>\n      <td>2011-01-04 周二</td>\n      <td>-2</td>\n      <td>-9</td>\n      <td>晴</td>\n      <td>北风5-6级</td>\n      <td>-1</td>\n      <td>未统计</td>\n    </tr>\n    <tr>\n      <th>4</th>\n      <td>2011-01-05 周三</td>\n      <td>-2</td>\n      <td>-10</td>\n      <td>晴</td>\n      <td>北风~无持续风向3-4级~微风</td>\n      <td>-1</td>\n      <td>未统计</td>\n    </tr>\n    <tr>\n      <th>...</th>\n      <td>...</td>\n      <td>...</td>\n      <td>...</td>\n      <td>...</td>\n      <td>...</td>\n      <td>...</td>\n      <td>...</td>\n    </tr>\n    <tr>\n      <th>4001</th>\n      <td>2021-12-27 周一</td>\n      <td>6</td>\n      <td>-8</td>\n      <td>晴</td>\n      <td>西北风1级</td>\n      <td>56</td>\n      <td>良</td>\n    </tr>\n    <tr>\n      <th>4002</th>\n      <td>2021-12-28 周二</td>\n      <td>6</td>\n      <td>-5</td>\n      <td>多云~晴</td>\n      <td>西北风1级</td>\n      <td>64</td>\n      <td>良</td>\n    </tr>\n    <tr>\n      <th>4003</th>\n      <td>2021-12-29 周三</td>\n      <td>5</td>\n      <td>-5</td>\n      <td>晴</td>\n      <td>西北风3级</td>\n      <td>43</td>\n      <td>优</td>\n    </tr>\n    <tr>\n      <th>4004</th>\n      <td>2021-12-30 周四</td>\n      <td>6</td>\n      <td>-7</td>\n      <td>晴</td>\n      <td>西北风3级</td>\n      <td>38</td>\n      <td>优</td>\n    </tr>\n    <tr>\n      <th>4005</th>\n      <td>2021-12-31 周五</td>\n      <td>5</td>\n      <td>-7</td>\n      <td>晴</td>\n      <td>东北风1级</td>\n      <td>44</td>\n      <td>优</td>\n    </tr>\n  </tbody>\n</table>\n<p>4006 rows × 7 columns</p>\n</div>"
     },
     "execution_count": 141,
     "metadata": {},
     "output_type": "execute_result"
    }
   ],
   "source": [
    "df_weather"
   ],
   "metadata": {
    "collapsed": false
   }
  },
  {
   "cell_type": "code",
   "execution_count": null,
   "outputs": [],
   "source": [
    "s = pd.Series([1, 2, 3, 4], name='a')\n",
    "s1 = pd.Series([5], name='a')\n",
    "d = pd.DataFrame({'data': ['a', 'b', 'c', 'd']})\n",
    "pd.concat([d, s], axis=1)"
   ],
   "metadata": {
    "collapsed": false
   }
  }
 ],
 "metadata": {
  "kernelspec": {
   "display_name": "Python 3",
   "language": "python",
   "name": "python3"
  },
  "language_info": {
   "codemirror_mode": {
    "name": "ipython",
    "version": 2
   },
   "file_extension": ".py",
   "mimetype": "text/x-python",
   "name": "python",
   "nbconvert_exporter": "python",
   "pygments_lexer": "ipython2",
   "version": "2.7.6"
  }
 },
 "nbformat": 4,
 "nbformat_minor": 0
}
