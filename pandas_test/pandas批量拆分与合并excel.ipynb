{
 "cells": [
  {
   "cell_type": "markdown",
   "source": [
    "# pandas批量拆分与合并Excel\n",
    "实例:\n",
    "1. 将一个大excel等份拆分成多个excel\n",
    "2. 将多个小excel合并成一个大excel并标记来源"
   ],
   "metadata": {
    "collapsed": false
   }
  },
  {
   "cell_type": "code",
   "execution_count": 31,
   "outputs": [],
   "source": [
    "work_dir = './data/合并目录/'\n",
    "split_dir = './data/合并目录/splits'"
   ],
   "metadata": {
    "collapsed": false
   }
  },
  {
   "cell_type": "code",
   "execution_count": 32,
   "outputs": [],
   "source": [
    "import os\n",
    "\n",
    "if not os.path.exists(split_dir):\n",
    "    os.mkdir(split_dir)"
   ],
   "metadata": {
    "collapsed": false
   }
  },
  {
   "cell_type": "markdown",
   "source": [
    "## 0. 读取exce"
   ],
   "metadata": {
    "collapsed": false
   }
  },
  {
   "cell_type": "code",
   "execution_count": 33,
   "outputs": [],
   "source": [
    "import pandas as pd"
   ],
   "metadata": {
    "collapsed": false
   }
  },
  {
   "cell_type": "code",
   "execution_count": 34,
   "outputs": [],
   "source": [
    "df_source = pd.read_excel('./data/movies/users.xlsx')"
   ],
   "metadata": {
    "collapsed": false
   }
  },
  {
   "cell_type": "code",
   "execution_count": 35,
   "outputs": [
    {
     "data": {
      "text/plain": "   userId  age gender  occupation zip-code\n0       1   24      M  technician    85711\n1       2   53      F       other    94043\n2       3   23      M      writer    32067\n3       4   24      M  technician    43537\n4       5   33      F       other    15213",
      "text/html": "<div>\n<style scoped>\n    .dataframe tbody tr th:only-of-type {\n        vertical-align: middle;\n    }\n\n    .dataframe tbody tr th {\n        vertical-align: top;\n    }\n\n    .dataframe thead th {\n        text-align: right;\n    }\n</style>\n<table border=\"1\" class=\"dataframe\">\n  <thead>\n    <tr style=\"text-align: right;\">\n      <th></th>\n      <th>userId</th>\n      <th>age</th>\n      <th>gender</th>\n      <th>occupation</th>\n      <th>zip-code</th>\n    </tr>\n  </thead>\n  <tbody>\n    <tr>\n      <th>0</th>\n      <td>1</td>\n      <td>24</td>\n      <td>M</td>\n      <td>technician</td>\n      <td>85711</td>\n    </tr>\n    <tr>\n      <th>1</th>\n      <td>2</td>\n      <td>53</td>\n      <td>F</td>\n      <td>other</td>\n      <td>94043</td>\n    </tr>\n    <tr>\n      <th>2</th>\n      <td>3</td>\n      <td>23</td>\n      <td>M</td>\n      <td>writer</td>\n      <td>32067</td>\n    </tr>\n    <tr>\n      <th>3</th>\n      <td>4</td>\n      <td>24</td>\n      <td>M</td>\n      <td>technician</td>\n      <td>43537</td>\n    </tr>\n    <tr>\n      <th>4</th>\n      <td>5</td>\n      <td>33</td>\n      <td>F</td>\n      <td>other</td>\n      <td>15213</td>\n    </tr>\n  </tbody>\n</table>\n</div>"
     },
     "execution_count": 35,
     "metadata": {},
     "output_type": "execute_result"
    }
   ],
   "source": [
    "df_source.head()"
   ],
   "metadata": {
    "collapsed": false
   }
  },
  {
   "cell_type": "code",
   "execution_count": 36,
   "outputs": [
    {
     "data": {
      "text/plain": "RangeIndex(start=0, stop=943, step=1)"
     },
     "execution_count": 36,
     "metadata": {},
     "output_type": "execute_result"
    }
   ],
   "source": [
    "df_source.index"
   ],
   "metadata": {
    "collapsed": false
   }
  },
  {
   "cell_type": "code",
   "execution_count": 37,
   "outputs": [
    {
     "data": {
      "text/plain": "(943, 5)"
     },
     "execution_count": 37,
     "metadata": {},
     "output_type": "execute_result"
    }
   ],
   "source": [
    "df_source.shape  # 查看有几行几列"
   ],
   "metadata": {
    "collapsed": false
   }
  },
  {
   "cell_type": "markdown",
   "source": [
    "# 一. 将一个大excel等份拆分成多个excel\n",
    "1. 使用df.iloc方法, 将一个大DataFrame拆分成多个小DataFrame\n",
    "2. 将使用dataFrame.to_excel()保存小excel\n"
   ],
   "metadata": {
    "collapsed": false
   }
  },
  {
   "cell_type": "markdown",
   "source": [
    "**1.计算拆分后的每个excel的行数**"
   ],
   "metadata": {
    "collapsed": false
   }
  },
  {
   "cell_type": "code",
   "execution_count": 38,
   "outputs": [
    {
     "data": {
      "text/plain": "['student',\n 'other',\n 'educator',\n 'administrator',\n 'engineer',\n 'programmer',\n 'librarian',\n 'writer',\n 'executive',\n 'scientist',\n 'artist',\n 'technician',\n 'marketing',\n 'entertainment',\n 'healthcare',\n 'retired',\n 'lawyer',\n 'salesman',\n 'none',\n 'homemaker',\n 'doctor']"
     },
     "execution_count": 38,
     "metadata": {},
     "output_type": "execute_result"
    }
   ],
   "source": [
    "# 将某一列做统计并且将统计结果转换为列表方式一\n",
    "list(df_source['occupation'].value_counts().keys()[0:])"
   ],
   "metadata": {
    "collapsed": false
   }
  },
  {
   "cell_type": "code",
   "execution_count": 39,
   "outputs": [
    {
     "data": {
      "text/plain": "['student',\n 'other',\n 'educator',\n 'administrator',\n 'engineer',\n 'programmer',\n 'librarian',\n 'writer',\n 'executive',\n 'scientist',\n 'artist',\n 'technician',\n 'marketing',\n 'entertainment',\n 'healthcare',\n 'retired',\n 'lawyer',\n 'salesman',\n 'none',\n 'homemaker',\n 'doctor']"
     },
     "execution_count": 39,
     "metadata": {},
     "output_type": "execute_result"
    }
   ],
   "source": [
    "# 将某一列做统计并且将统计结果转换为列表方式二\n",
    "list(df_source['occupation'].value_counts().index[0:])"
   ],
   "metadata": {
    "collapsed": false
   }
  },
  {
   "cell_type": "code",
   "execution_count": 40,
   "outputs": [
    {
     "data": {
      "text/plain": "158"
     },
     "execution_count": 40,
     "metadata": {},
     "output_type": "execute_result"
    }
   ],
   "source": [
    "# 这个大excel, 会拆封给这些人\n",
    "user_names = ['xiao_shuai', 'xiao_wang' ,'xiao_ming' , 'xiao_lei', 'xiao_bo', 'xiao_hong']\n",
    "# 每个人的任务数目\n",
    "total_row_count = df_source.shape[0]\n",
    "split_size = total_row_count / len(user_names)\n",
    "if total_row_count % len(user_names) !=0:\n",
    "    split_size += 1\n",
    "int(split_size)"
   ],
   "metadata": {
    "collapsed": false
   }
  },
  {
   "cell_type": "markdown",
   "source": [
    "**2.拆分成多个DataFrame**"
   ],
   "metadata": {
    "collapsed": false
   }
  },
  {
   "cell_type": "code",
   "execution_count": null,
   "outputs": [],
   "source": [
    "df_subs = []"
   ],
   "metadata": {
    "collapsed": false
   }
  }
 ],
 "metadata": {
  "kernelspec": {
   "display_name": "Python 3",
   "language": "python",
   "name": "python3"
  },
  "language_info": {
   "codemirror_mode": {
    "name": "ipython",
    "version": 2
   },
   "file_extension": ".py",
   "mimetype": "text/x-python",
   "name": "python",
   "nbconvert_exporter": "python",
   "pygments_lexer": "ipython2",
   "version": "2.7.6"
  }
 },
 "nbformat": 4,
 "nbformat_minor": 0
}
