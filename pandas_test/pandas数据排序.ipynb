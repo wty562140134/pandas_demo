{
 "cells": [
  {
   "cell_type": "markdown",
   "source": [
    "# pandas数据排序\n",
    "Series的排序:\n",
    "**`Series.sort_values(ascending=True, inplace=False)`**\n",
    "参数说明:\n",
    "- ascending: 默认True升序排序, 为False降序排序\n",
    "- inplace: 是否修改原始Series\n",
    "\n",
    "\n",
    "DataFrame的排序:\n",
    "**`DataFrame.sort_values(by, ascending=True, inplace=False)`**\n",
    "参数说明:\n",
    "- by: 字符串或者List<字符串>, 单列排序或者多列排序\n",
    "- ascending: bool或者List, 默认True升序排序, 为False降序排序, 如果是List对于by的多列\n",
    "- inplace: 是否修改原始DataFrame"
   ],
   "metadata": {
    "collapsed": false
   }
  },
  {
   "cell_type": "code",
   "execution_count": 10,
   "outputs": [],
   "source": [
    "import pandas as pd"
   ],
   "metadata": {
    "collapsed": false
   }
  },
  {
   "cell_type": "markdown",
   "source": [
    "## 1.读取数据"
   ],
   "metadata": {
    "collapsed": false
   }
  },
  {
   "cell_type": "code",
   "execution_count": 11,
   "outputs": [],
   "source": [
    "fpath='./data/weather/weater_beijing.xlsx'\n",
    "df = pd.read_excel(fpath)\n"
   ],
   "metadata": {
    "collapsed": false
   }
  },
  {
   "cell_type": "code",
   "execution_count": 12,
   "outputs": [
    {
     "data": {
      "text/plain": "                 日期  最高温   最低温    天气             风力风向 空气质量指数\n0     2011-01-01 周六  -2°   -7°  多云~阴          无持续风向微风    NaN\n1     2011-01-02 周日  -2°   -7°    多云          无持续风向微风    NaN\n2     2011-01-03 周一  -2°   -6°  多云~阴  西北风~北风3-4级~4-5级    NaN\n3     2011-01-04 周二  -2°   -9°     晴           北风5-6级    NaN\n4     2011-01-05 周三  -2°  -10°     晴  北风~无持续风向3-4级~微风    NaN\n...             ...  ...   ...   ...              ...    ...\n4001  2021-12-27 周一   6°   -8°     晴            西北风1级   56 良\n4002  2021-12-28 周二   6°   -5°  多云~晴            西北风1级   64 良\n4003  2021-12-29 周三   5°   -5°     晴            西北风3级   43 优\n4004  2021-12-30 周四   6°   -7°     晴            西北风3级   38 优\n4005  2021-12-31 周五   5°   -7°     晴            东北风1级   44 优\n\n[4006 rows x 6 columns]",
      "text/html": "<div>\n<style scoped>\n    .dataframe tbody tr th:only-of-type {\n        vertical-align: middle;\n    }\n\n    .dataframe tbody tr th {\n        vertical-align: top;\n    }\n\n    .dataframe thead th {\n        text-align: right;\n    }\n</style>\n<table border=\"1\" class=\"dataframe\">\n  <thead>\n    <tr style=\"text-align: right;\">\n      <th></th>\n      <th>日期</th>\n      <th>最高温</th>\n      <th>最低温</th>\n      <th>天气</th>\n      <th>风力风向</th>\n      <th>空气质量指数</th>\n    </tr>\n  </thead>\n  <tbody>\n    <tr>\n      <th>0</th>\n      <td>2011-01-01 周六</td>\n      <td>-2°</td>\n      <td>-7°</td>\n      <td>多云~阴</td>\n      <td>无持续风向微风</td>\n      <td>NaN</td>\n    </tr>\n    <tr>\n      <th>1</th>\n      <td>2011-01-02 周日</td>\n      <td>-2°</td>\n      <td>-7°</td>\n      <td>多云</td>\n      <td>无持续风向微风</td>\n      <td>NaN</td>\n    </tr>\n    <tr>\n      <th>2</th>\n      <td>2011-01-03 周一</td>\n      <td>-2°</td>\n      <td>-6°</td>\n      <td>多云~阴</td>\n      <td>西北风~北风3-4级~4-5级</td>\n      <td>NaN</td>\n    </tr>\n    <tr>\n      <th>3</th>\n      <td>2011-01-04 周二</td>\n      <td>-2°</td>\n      <td>-9°</td>\n      <td>晴</td>\n      <td>北风5-6级</td>\n      <td>NaN</td>\n    </tr>\n    <tr>\n      <th>4</th>\n      <td>2011-01-05 周三</td>\n      <td>-2°</td>\n      <td>-10°</td>\n      <td>晴</td>\n      <td>北风~无持续风向3-4级~微风</td>\n      <td>NaN</td>\n    </tr>\n    <tr>\n      <th>...</th>\n      <td>...</td>\n      <td>...</td>\n      <td>...</td>\n      <td>...</td>\n      <td>...</td>\n      <td>...</td>\n    </tr>\n    <tr>\n      <th>4001</th>\n      <td>2021-12-27 周一</td>\n      <td>6°</td>\n      <td>-8°</td>\n      <td>晴</td>\n      <td>西北风1级</td>\n      <td>56 良</td>\n    </tr>\n    <tr>\n      <th>4002</th>\n      <td>2021-12-28 周二</td>\n      <td>6°</td>\n      <td>-5°</td>\n      <td>多云~晴</td>\n      <td>西北风1级</td>\n      <td>64 良</td>\n    </tr>\n    <tr>\n      <th>4003</th>\n      <td>2021-12-29 周三</td>\n      <td>5°</td>\n      <td>-5°</td>\n      <td>晴</td>\n      <td>西北风3级</td>\n      <td>43 优</td>\n    </tr>\n    <tr>\n      <th>4004</th>\n      <td>2021-12-30 周四</td>\n      <td>6°</td>\n      <td>-7°</td>\n      <td>晴</td>\n      <td>西北风3级</td>\n      <td>38 优</td>\n    </tr>\n    <tr>\n      <th>4005</th>\n      <td>2021-12-31 周五</td>\n      <td>5°</td>\n      <td>-7°</td>\n      <td>晴</td>\n      <td>东北风1级</td>\n      <td>44 优</td>\n    </tr>\n  </tbody>\n</table>\n<p>4006 rows × 6 columns</p>\n</div>"
     },
     "execution_count": 12,
     "metadata": {},
     "output_type": "execute_result"
    }
   ],
   "source": [
    "df"
   ],
   "metadata": {
    "collapsed": false
   }
  },
  {
   "cell_type": "code",
   "execution_count": 13,
   "outputs": [],
   "source": [
    "# 替换温度中的°并处理缺失值\n",
    "# 第一种处理缺失值方式\n",
    "df.loc[:, '最高温'] = df['最高温'].str.replace('°', '').replace('', '0')\n",
    "df.loc[:, '最高温'] = df['最高温'].fillna('0')\n",
    "df.loc[:, '最高温'] = df['最高温'].astype('int32')"
   ],
   "metadata": {
    "collapsed": false
   }
  },
  {
   "cell_type": "code",
   "execution_count": 14,
   "outputs": [
    {
     "data": {
      "text/plain": "                 日期 最高温   最低温    天气             风力风向 空气质量指数\n0     2011-01-01 周六  -2   -7°  多云~阴          无持续风向微风    NaN\n1     2011-01-02 周日  -2   -7°    多云          无持续风向微风    NaN\n2     2011-01-03 周一  -2   -6°  多云~阴  西北风~北风3-4级~4-5级    NaN\n3     2011-01-04 周二  -2   -9°     晴           北风5-6级    NaN\n4     2011-01-05 周三  -2  -10°     晴  北风~无持续风向3-4级~微风    NaN\n...             ...  ..   ...   ...              ...    ...\n4001  2021-12-27 周一   6   -8°     晴            西北风1级   56 良\n4002  2021-12-28 周二   6   -5°  多云~晴            西北风1级   64 良\n4003  2021-12-29 周三   5   -5°     晴            西北风3级   43 优\n4004  2021-12-30 周四   6   -7°     晴            西北风3级   38 优\n4005  2021-12-31 周五   5   -7°     晴            东北风1级   44 优\n\n[4006 rows x 6 columns]",
      "text/html": "<div>\n<style scoped>\n    .dataframe tbody tr th:only-of-type {\n        vertical-align: middle;\n    }\n\n    .dataframe tbody tr th {\n        vertical-align: top;\n    }\n\n    .dataframe thead th {\n        text-align: right;\n    }\n</style>\n<table border=\"1\" class=\"dataframe\">\n  <thead>\n    <tr style=\"text-align: right;\">\n      <th></th>\n      <th>日期</th>\n      <th>最高温</th>\n      <th>最低温</th>\n      <th>天气</th>\n      <th>风力风向</th>\n      <th>空气质量指数</th>\n    </tr>\n  </thead>\n  <tbody>\n    <tr>\n      <th>0</th>\n      <td>2011-01-01 周六</td>\n      <td>-2</td>\n      <td>-7°</td>\n      <td>多云~阴</td>\n      <td>无持续风向微风</td>\n      <td>NaN</td>\n    </tr>\n    <tr>\n      <th>1</th>\n      <td>2011-01-02 周日</td>\n      <td>-2</td>\n      <td>-7°</td>\n      <td>多云</td>\n      <td>无持续风向微风</td>\n      <td>NaN</td>\n    </tr>\n    <tr>\n      <th>2</th>\n      <td>2011-01-03 周一</td>\n      <td>-2</td>\n      <td>-6°</td>\n      <td>多云~阴</td>\n      <td>西北风~北风3-4级~4-5级</td>\n      <td>NaN</td>\n    </tr>\n    <tr>\n      <th>3</th>\n      <td>2011-01-04 周二</td>\n      <td>-2</td>\n      <td>-9°</td>\n      <td>晴</td>\n      <td>北风5-6级</td>\n      <td>NaN</td>\n    </tr>\n    <tr>\n      <th>4</th>\n      <td>2011-01-05 周三</td>\n      <td>-2</td>\n      <td>-10°</td>\n      <td>晴</td>\n      <td>北风~无持续风向3-4级~微风</td>\n      <td>NaN</td>\n    </tr>\n    <tr>\n      <th>...</th>\n      <td>...</td>\n      <td>...</td>\n      <td>...</td>\n      <td>...</td>\n      <td>...</td>\n      <td>...</td>\n    </tr>\n    <tr>\n      <th>4001</th>\n      <td>2021-12-27 周一</td>\n      <td>6</td>\n      <td>-8°</td>\n      <td>晴</td>\n      <td>西北风1级</td>\n      <td>56 良</td>\n    </tr>\n    <tr>\n      <th>4002</th>\n      <td>2021-12-28 周二</td>\n      <td>6</td>\n      <td>-5°</td>\n      <td>多云~晴</td>\n      <td>西北风1级</td>\n      <td>64 良</td>\n    </tr>\n    <tr>\n      <th>4003</th>\n      <td>2021-12-29 周三</td>\n      <td>5</td>\n      <td>-5°</td>\n      <td>晴</td>\n      <td>西北风3级</td>\n      <td>43 优</td>\n    </tr>\n    <tr>\n      <th>4004</th>\n      <td>2021-12-30 周四</td>\n      <td>6</td>\n      <td>-7°</td>\n      <td>晴</td>\n      <td>西北风3级</td>\n      <td>38 优</td>\n    </tr>\n    <tr>\n      <th>4005</th>\n      <td>2021-12-31 周五</td>\n      <td>5</td>\n      <td>-7°</td>\n      <td>晴</td>\n      <td>东北风1级</td>\n      <td>44 优</td>\n    </tr>\n  </tbody>\n</table>\n<p>4006 rows × 6 columns</p>\n</div>"
     },
     "execution_count": 14,
     "metadata": {},
     "output_type": "execute_result"
    }
   ],
   "source": [
    "df"
   ],
   "metadata": {
    "collapsed": false
   }
  },
  {
   "cell_type": "code",
   "execution_count": 15,
   "outputs": [],
   "source": [
    "# 第二种处理缺失值方式\n",
    "df.loc[:, '最低温'] = df['最低温'].str.replace('°', '').replace('', '0')\n",
    "df.loc[:, '最低温'] = df['最低温'].fillna({'最低温': '0'})\n",
    "df.loc[:, '最低温'] = df['最低温'].astype('int32')"
   ],
   "metadata": {
    "collapsed": false
   }
  },
  {
   "cell_type": "code",
   "execution_count": 17,
   "outputs": [
    {
     "data": {
      "text/plain": "                 日期 最高温  最低温    天气             风力风向 空气质量指数\n0     2011-01-01 周六  -2   -7  多云~阴          无持续风向微风    NaN\n1     2011-01-02 周日  -2   -7    多云          无持续风向微风    NaN\n2     2011-01-03 周一  -2   -6  多云~阴  西北风~北风3-4级~4-5级    NaN\n3     2011-01-04 周二  -2   -9     晴           北风5-6级    NaN\n4     2011-01-05 周三  -2  -10     晴  北风~无持续风向3-4级~微风    NaN\n...             ...  ..  ...   ...              ...    ...\n4001  2021-12-27 周一   6   -8     晴            西北风1级   56 良\n4002  2021-12-28 周二   6   -5  多云~晴            西北风1级   64 良\n4003  2021-12-29 周三   5   -5     晴            西北风3级   43 优\n4004  2021-12-30 周四   6   -7     晴            西北风3级   38 优\n4005  2021-12-31 周五   5   -7     晴            东北风1级   44 优\n\n[4006 rows x 6 columns]",
      "text/html": "<div>\n<style scoped>\n    .dataframe tbody tr th:only-of-type {\n        vertical-align: middle;\n    }\n\n    .dataframe tbody tr th {\n        vertical-align: top;\n    }\n\n    .dataframe thead th {\n        text-align: right;\n    }\n</style>\n<table border=\"1\" class=\"dataframe\">\n  <thead>\n    <tr style=\"text-align: right;\">\n      <th></th>\n      <th>日期</th>\n      <th>最高温</th>\n      <th>最低温</th>\n      <th>天气</th>\n      <th>风力风向</th>\n      <th>空气质量指数</th>\n    </tr>\n  </thead>\n  <tbody>\n    <tr>\n      <th>0</th>\n      <td>2011-01-01 周六</td>\n      <td>-2</td>\n      <td>-7</td>\n      <td>多云~阴</td>\n      <td>无持续风向微风</td>\n      <td>NaN</td>\n    </tr>\n    <tr>\n      <th>1</th>\n      <td>2011-01-02 周日</td>\n      <td>-2</td>\n      <td>-7</td>\n      <td>多云</td>\n      <td>无持续风向微风</td>\n      <td>NaN</td>\n    </tr>\n    <tr>\n      <th>2</th>\n      <td>2011-01-03 周一</td>\n      <td>-2</td>\n      <td>-6</td>\n      <td>多云~阴</td>\n      <td>西北风~北风3-4级~4-5级</td>\n      <td>NaN</td>\n    </tr>\n    <tr>\n      <th>3</th>\n      <td>2011-01-04 周二</td>\n      <td>-2</td>\n      <td>-9</td>\n      <td>晴</td>\n      <td>北风5-6级</td>\n      <td>NaN</td>\n    </tr>\n    <tr>\n      <th>4</th>\n      <td>2011-01-05 周三</td>\n      <td>-2</td>\n      <td>-10</td>\n      <td>晴</td>\n      <td>北风~无持续风向3-4级~微风</td>\n      <td>NaN</td>\n    </tr>\n    <tr>\n      <th>...</th>\n      <td>...</td>\n      <td>...</td>\n      <td>...</td>\n      <td>...</td>\n      <td>...</td>\n      <td>...</td>\n    </tr>\n    <tr>\n      <th>4001</th>\n      <td>2021-12-27 周一</td>\n      <td>6</td>\n      <td>-8</td>\n      <td>晴</td>\n      <td>西北风1级</td>\n      <td>56 良</td>\n    </tr>\n    <tr>\n      <th>4002</th>\n      <td>2021-12-28 周二</td>\n      <td>6</td>\n      <td>-5</td>\n      <td>多云~晴</td>\n      <td>西北风1级</td>\n      <td>64 良</td>\n    </tr>\n    <tr>\n      <th>4003</th>\n      <td>2021-12-29 周三</td>\n      <td>5</td>\n      <td>-5</td>\n      <td>晴</td>\n      <td>西北风3级</td>\n      <td>43 优</td>\n    </tr>\n    <tr>\n      <th>4004</th>\n      <td>2021-12-30 周四</td>\n      <td>6</td>\n      <td>-7</td>\n      <td>晴</td>\n      <td>西北风3级</td>\n      <td>38 优</td>\n    </tr>\n    <tr>\n      <th>4005</th>\n      <td>2021-12-31 周五</td>\n      <td>5</td>\n      <td>-7</td>\n      <td>晴</td>\n      <td>东北风1级</td>\n      <td>44 优</td>\n    </tr>\n  </tbody>\n</table>\n<p>4006 rows × 6 columns</p>\n</div>"
     },
     "execution_count": 17,
     "metadata": {},
     "output_type": "execute_result"
    }
   ],
   "source": [
    "df"
   ],
   "metadata": {
    "collapsed": false
   }
  },
  {
   "cell_type": "markdown",
   "source": [
    "## 2.1 Series排序"
   ],
   "metadata": {
    "collapsed": false
   }
  },
  {
   "cell_type": "code",
   "execution_count": 19,
   "outputs": [
    {
     "data": {
      "text/plain": "2863    100 良\n3989    100 良\n3749    100 良\n2671    100 良\n2346    100 良\n        ...  \n1809      NaN\n1810      NaN\n1811      NaN\n1812      NaN\n1813      NaN\nName: 空气质量指数, Length: 4006, dtype: object"
     },
     "execution_count": 19,
     "metadata": {},
     "output_type": "execute_result"
    }
   ],
   "source": [
    "df['空气质量指数'].sort_values()"
   ],
   "metadata": {
    "collapsed": false
   }
  },
  {
   "cell_type": "code",
   "execution_count": 22,
   "outputs": [
    {
     "data": {
      "text/plain": "2217    99 良\n3524    99 良\n2688    99 良\n2413    99 良\n1887    99 良\n        ... \n1809     NaN\n1810     NaN\n1811     NaN\n1812     NaN\n1813     NaN\nName: 空气质量指数, Length: 4006, dtype: object"
     },
     "execution_count": 22,
     "metadata": {},
     "output_type": "execute_result"
    }
   ],
   "source": [
    "df['空气质量指数'].sort_values(ascending=False)"
   ],
   "metadata": {
    "collapsed": false
   }
  },
  {
   "cell_type": "code",
   "execution_count": 24,
   "outputs": [
    {
     "data": {
      "text/plain": "942             下午到夜间~阴有大雨到暴雨\n926                下午到夜间~阴有阵雨\n1265      下午到夜间阴转大雨~傍晚到夜间阴有大雨\n1250    下午到夜间：中-大雨~傍晚到前半夜阴有中雨\n901      下午到夜间：雾霾转大雨~傍晚-夜间：大雨\n                ...          \n1803                      霾~雾\n1815                      霾~雾\n1766                      霾~雾\n2122                      霾~雾\n1153             霾转阴~傍晚阴转零星小雨\nName: 天气, Length: 4006, dtype: object"
     },
     "execution_count": 24,
     "metadata": {},
     "output_type": "execute_result"
    }
   ],
   "source": [
    "df['天气'].sort_values()"
   ],
   "metadata": {
    "collapsed": false
   }
  },
  {
   "cell_type": "markdown",
   "source": [
    "## 2.2 DataFrame排序\n",
    "- 2.2.1 单列排序"
   ],
   "metadata": {
    "collapsed": false
   }
  },
  {
   "cell_type": "code",
   "execution_count": 27,
   "outputs": [
    {
     "data": {
      "text/plain": "                 日期  最高温  最低温    天气     风力风向 空气质量指数\n1836  2016-01-23 周六  -11  -14     晴   北风5-6级   65 良\n3638  2020-12-29 周二   -8  -13  多云~晴    西北风4级   56 良\n3647  2021-01-07 周四   -7  -14     晴    西北风3级   34 优\n1835  2016-01-22 周五   -6  -16  多云~晴   北风4-5级   24 优\n721   2013-01-02 周三   -6  -14  晴间多云   北风4-5级    NaN\n...             ...  ...  ...   ...      ...    ...\n3094  2019-07-04 周四   38   25  晴~多云    西南风2级   89 良\n1641  2015-07-12 周日   38   25     晴  无持续风向微风    NaN\n2700  2018-06-05 周二   38   25    多云  西南风4-5级   94 良\n2345  2017-06-15 周四   38   24     晴   南风1-2级   82 良\n1642  2015-07-13 周一   40   25  雷雨~晴  无持续风向微风    NaN\n\n[4006 rows x 6 columns]",
      "text/html": "<div>\n<style scoped>\n    .dataframe tbody tr th:only-of-type {\n        vertical-align: middle;\n    }\n\n    .dataframe tbody tr th {\n        vertical-align: top;\n    }\n\n    .dataframe thead th {\n        text-align: right;\n    }\n</style>\n<table border=\"1\" class=\"dataframe\">\n  <thead>\n    <tr style=\"text-align: right;\">\n      <th></th>\n      <th>日期</th>\n      <th>最高温</th>\n      <th>最低温</th>\n      <th>天气</th>\n      <th>风力风向</th>\n      <th>空气质量指数</th>\n    </tr>\n  </thead>\n  <tbody>\n    <tr>\n      <th>1836</th>\n      <td>2016-01-23 周六</td>\n      <td>-11</td>\n      <td>-14</td>\n      <td>晴</td>\n      <td>北风5-6级</td>\n      <td>65 良</td>\n    </tr>\n    <tr>\n      <th>3638</th>\n      <td>2020-12-29 周二</td>\n      <td>-8</td>\n      <td>-13</td>\n      <td>多云~晴</td>\n      <td>西北风4级</td>\n      <td>56 良</td>\n    </tr>\n    <tr>\n      <th>3647</th>\n      <td>2021-01-07 周四</td>\n      <td>-7</td>\n      <td>-14</td>\n      <td>晴</td>\n      <td>西北风3级</td>\n      <td>34 优</td>\n    </tr>\n    <tr>\n      <th>1835</th>\n      <td>2016-01-22 周五</td>\n      <td>-6</td>\n      <td>-16</td>\n      <td>多云~晴</td>\n      <td>北风4-5级</td>\n      <td>24 优</td>\n    </tr>\n    <tr>\n      <th>721</th>\n      <td>2013-01-02 周三</td>\n      <td>-6</td>\n      <td>-14</td>\n      <td>晴间多云</td>\n      <td>北风4-5级</td>\n      <td>NaN</td>\n    </tr>\n    <tr>\n      <th>...</th>\n      <td>...</td>\n      <td>...</td>\n      <td>...</td>\n      <td>...</td>\n      <td>...</td>\n      <td>...</td>\n    </tr>\n    <tr>\n      <th>3094</th>\n      <td>2019-07-04 周四</td>\n      <td>38</td>\n      <td>25</td>\n      <td>晴~多云</td>\n      <td>西南风2级</td>\n      <td>89 良</td>\n    </tr>\n    <tr>\n      <th>1641</th>\n      <td>2015-07-12 周日</td>\n      <td>38</td>\n      <td>25</td>\n      <td>晴</td>\n      <td>无持续风向微风</td>\n      <td>NaN</td>\n    </tr>\n    <tr>\n      <th>2700</th>\n      <td>2018-06-05 周二</td>\n      <td>38</td>\n      <td>25</td>\n      <td>多云</td>\n      <td>西南风4-5级</td>\n      <td>94 良</td>\n    </tr>\n    <tr>\n      <th>2345</th>\n      <td>2017-06-15 周四</td>\n      <td>38</td>\n      <td>24</td>\n      <td>晴</td>\n      <td>南风1-2级</td>\n      <td>82 良</td>\n    </tr>\n    <tr>\n      <th>1642</th>\n      <td>2015-07-13 周一</td>\n      <td>40</td>\n      <td>25</td>\n      <td>雷雨~晴</td>\n      <td>无持续风向微风</td>\n      <td>NaN</td>\n    </tr>\n  </tbody>\n</table>\n<p>4006 rows × 6 columns</p>\n</div>"
     },
     "execution_count": 27,
     "metadata": {},
     "output_type": "execute_result"
    }
   ],
   "source": [
    "df.sort_values(by='最高温')"
   ],
   "metadata": {
    "collapsed": false
   }
  },
  {
   "cell_type": "code",
   "execution_count": 29,
   "outputs": [
    {
     "data": {
      "text/plain": "                 日期  最高温  最低温    天气     风力风向 空气质量指数\n1642  2015-07-13 周一   40   25  雷雨~晴  无持续风向微风    NaN\n3094  2019-07-04 周四   38   25  晴~多云    西南风2级   89 良\n522   2012-06-17 周日   38   24  多云~晴  无持续风向微风    NaN\n1641  2015-07-12 周日   38   25     晴  无持续风向微风    NaN\n2345  2017-06-15 周四   38   24     晴   南风1-2级   82 良\n...             ...  ...  ...   ...      ...    ...\n1835  2016-01-22 周五   -6  -16  多云~晴   北风4-5级   24 优\n721   2013-01-02 周三   -6  -14  晴间多云   北风4-5级    NaN\n3647  2021-01-07 周四   -7  -14     晴    西北风3级   34 优\n3638  2020-12-29 周二   -8  -13  多云~晴    西北风4级   56 良\n1836  2016-01-23 周六  -11  -14     晴   北风5-6级   65 良\n\n[4006 rows x 6 columns]",
      "text/html": "<div>\n<style scoped>\n    .dataframe tbody tr th:only-of-type {\n        vertical-align: middle;\n    }\n\n    .dataframe tbody tr th {\n        vertical-align: top;\n    }\n\n    .dataframe thead th {\n        text-align: right;\n    }\n</style>\n<table border=\"1\" class=\"dataframe\">\n  <thead>\n    <tr style=\"text-align: right;\">\n      <th></th>\n      <th>日期</th>\n      <th>最高温</th>\n      <th>最低温</th>\n      <th>天气</th>\n      <th>风力风向</th>\n      <th>空气质量指数</th>\n    </tr>\n  </thead>\n  <tbody>\n    <tr>\n      <th>1642</th>\n      <td>2015-07-13 周一</td>\n      <td>40</td>\n      <td>25</td>\n      <td>雷雨~晴</td>\n      <td>无持续风向微风</td>\n      <td>NaN</td>\n    </tr>\n    <tr>\n      <th>3094</th>\n      <td>2019-07-04 周四</td>\n      <td>38</td>\n      <td>25</td>\n      <td>晴~多云</td>\n      <td>西南风2级</td>\n      <td>89 良</td>\n    </tr>\n    <tr>\n      <th>522</th>\n      <td>2012-06-17 周日</td>\n      <td>38</td>\n      <td>24</td>\n      <td>多云~晴</td>\n      <td>无持续风向微风</td>\n      <td>NaN</td>\n    </tr>\n    <tr>\n      <th>1641</th>\n      <td>2015-07-12 周日</td>\n      <td>38</td>\n      <td>25</td>\n      <td>晴</td>\n      <td>无持续风向微风</td>\n      <td>NaN</td>\n    </tr>\n    <tr>\n      <th>2345</th>\n      <td>2017-06-15 周四</td>\n      <td>38</td>\n      <td>24</td>\n      <td>晴</td>\n      <td>南风1-2级</td>\n      <td>82 良</td>\n    </tr>\n    <tr>\n      <th>...</th>\n      <td>...</td>\n      <td>...</td>\n      <td>...</td>\n      <td>...</td>\n      <td>...</td>\n      <td>...</td>\n    </tr>\n    <tr>\n      <th>1835</th>\n      <td>2016-01-22 周五</td>\n      <td>-6</td>\n      <td>-16</td>\n      <td>多云~晴</td>\n      <td>北风4-5级</td>\n      <td>24 优</td>\n    </tr>\n    <tr>\n      <th>721</th>\n      <td>2013-01-02 周三</td>\n      <td>-6</td>\n      <td>-14</td>\n      <td>晴间多云</td>\n      <td>北风4-5级</td>\n      <td>NaN</td>\n    </tr>\n    <tr>\n      <th>3647</th>\n      <td>2021-01-07 周四</td>\n      <td>-7</td>\n      <td>-14</td>\n      <td>晴</td>\n      <td>西北风3级</td>\n      <td>34 优</td>\n    </tr>\n    <tr>\n      <th>3638</th>\n      <td>2020-12-29 周二</td>\n      <td>-8</td>\n      <td>-13</td>\n      <td>多云~晴</td>\n      <td>西北风4级</td>\n      <td>56 良</td>\n    </tr>\n    <tr>\n      <th>1836</th>\n      <td>2016-01-23 周六</td>\n      <td>-11</td>\n      <td>-14</td>\n      <td>晴</td>\n      <td>北风5-6级</td>\n      <td>65 良</td>\n    </tr>\n  </tbody>\n</table>\n<p>4006 rows × 6 columns</p>\n</div>"
     },
     "execution_count": 29,
     "metadata": {},
     "output_type": "execute_result"
    }
   ],
   "source": [
    "df.sort_values(by='最高温', ascending=False)"
   ],
   "metadata": {
    "collapsed": false
   }
  },
  {
   "cell_type": "markdown",
   "source": [
    "- 2.2.2 多列排序"
   ],
   "metadata": {
    "collapsed": false
   }
  },
  {
   "cell_type": "code",
   "execution_count": 31,
   "outputs": [
    {
     "data": {
      "text/plain": "                 日期 最高温 最低温         天气     风力风向 空气质量指数\n3271  2019-12-28 周六   3  -7       晴~多云    东北风1级  100 良\n3989  2021-12-15 周三   3  -4       多云~晴    东北风1级  100 良\n2863  2018-11-15 周四   8   1      小雨~多云   北风3-4级  100 良\n2093  2016-10-06 周四  19  14    小雨~小到中雨  无持续风向微风  100 良\n3749  2021-04-19 周一  27  15       晴~多云    西南风2级  100 良\n...             ...  ..  ..        ...      ...    ...\n1643  2015-07-14 周二  37  24         雷雨  无持续风向微风    NaN\n522   2012-06-17 周日  38  24       多云~晴  无持续风向微风    NaN\n1232  2014-05-29 周四  38  23  晴间多云~多云转晴  无持续风向微风    NaN\n1641  2015-07-12 周日  38  25          晴  无持续风向微风    NaN\n1642  2015-07-13 周一  40  25       雷雨~晴  无持续风向微风    NaN\n\n[4006 rows x 6 columns]",
      "text/html": "<div>\n<style scoped>\n    .dataframe tbody tr th:only-of-type {\n        vertical-align: middle;\n    }\n\n    .dataframe tbody tr th {\n        vertical-align: top;\n    }\n\n    .dataframe thead th {\n        text-align: right;\n    }\n</style>\n<table border=\"1\" class=\"dataframe\">\n  <thead>\n    <tr style=\"text-align: right;\">\n      <th></th>\n      <th>日期</th>\n      <th>最高温</th>\n      <th>最低温</th>\n      <th>天气</th>\n      <th>风力风向</th>\n      <th>空气质量指数</th>\n    </tr>\n  </thead>\n  <tbody>\n    <tr>\n      <th>3271</th>\n      <td>2019-12-28 周六</td>\n      <td>3</td>\n      <td>-7</td>\n      <td>晴~多云</td>\n      <td>东北风1级</td>\n      <td>100 良</td>\n    </tr>\n    <tr>\n      <th>3989</th>\n      <td>2021-12-15 周三</td>\n      <td>3</td>\n      <td>-4</td>\n      <td>多云~晴</td>\n      <td>东北风1级</td>\n      <td>100 良</td>\n    </tr>\n    <tr>\n      <th>2863</th>\n      <td>2018-11-15 周四</td>\n      <td>8</td>\n      <td>1</td>\n      <td>小雨~多云</td>\n      <td>北风3-4级</td>\n      <td>100 良</td>\n    </tr>\n    <tr>\n      <th>2093</th>\n      <td>2016-10-06 周四</td>\n      <td>19</td>\n      <td>14</td>\n      <td>小雨~小到中雨</td>\n      <td>无持续风向微风</td>\n      <td>100 良</td>\n    </tr>\n    <tr>\n      <th>3749</th>\n      <td>2021-04-19 周一</td>\n      <td>27</td>\n      <td>15</td>\n      <td>晴~多云</td>\n      <td>西南风2级</td>\n      <td>100 良</td>\n    </tr>\n    <tr>\n      <th>...</th>\n      <td>...</td>\n      <td>...</td>\n      <td>...</td>\n      <td>...</td>\n      <td>...</td>\n      <td>...</td>\n    </tr>\n    <tr>\n      <th>1643</th>\n      <td>2015-07-14 周二</td>\n      <td>37</td>\n      <td>24</td>\n      <td>雷雨</td>\n      <td>无持续风向微风</td>\n      <td>NaN</td>\n    </tr>\n    <tr>\n      <th>522</th>\n      <td>2012-06-17 周日</td>\n      <td>38</td>\n      <td>24</td>\n      <td>多云~晴</td>\n      <td>无持续风向微风</td>\n      <td>NaN</td>\n    </tr>\n    <tr>\n      <th>1232</th>\n      <td>2014-05-29 周四</td>\n      <td>38</td>\n      <td>23</td>\n      <td>晴间多云~多云转晴</td>\n      <td>无持续风向微风</td>\n      <td>NaN</td>\n    </tr>\n    <tr>\n      <th>1641</th>\n      <td>2015-07-12 周日</td>\n      <td>38</td>\n      <td>25</td>\n      <td>晴</td>\n      <td>无持续风向微风</td>\n      <td>NaN</td>\n    </tr>\n    <tr>\n      <th>1642</th>\n      <td>2015-07-13 周一</td>\n      <td>40</td>\n      <td>25</td>\n      <td>雷雨~晴</td>\n      <td>无持续风向微风</td>\n      <td>NaN</td>\n    </tr>\n  </tbody>\n</table>\n<p>4006 rows × 6 columns</p>\n</div>"
     },
     "execution_count": 31,
     "metadata": {},
     "output_type": "execute_result"
    }
   ],
   "source": [
    "# 按控制质量等级、最高温度排序, 默认升序\n",
    "df.sort_values(by=['空气质量指数', '最高温'])"
   ],
   "metadata": {
    "collapsed": false
   }
  },
  {
   "cell_type": "code",
   "execution_count": 33,
   "outputs": [
    {
     "data": {
      "text/plain": "                 日期 最高温  最低温             天气             风力风向 空气质量指数\n2756  2018-07-31 周二  35   26              晴           南风1-2级   99 良\n3054  2019-05-25 周六  35   20         多云~雷阵雨            东南风2级   99 良\n2743  2018-07-18 周三  33   25             多云           南风1-2级   99 良\n2688  2018-05-24 周四  31   17              晴           南风3-4级   99 良\n3524  2020-09-06 周日  30   20         多云~雷阵雨            东南风2级   99 良\n...             ...  ..  ...            ...              ...    ...\n716   2012-12-28 周五  -4   -8  阴有轻雾转小雪~小雪转多云  无持续风向~北风微风~5-6级    NaN\n722   2013-01-03 周四  -4  -13         晴间多云~晴          无持续风向微风    NaN\n757   2013-02-07 周四  -4  -12           晴间多云  北风~无持续风向3-4级~微风    NaN\n711   2012-12-23 周日  -5  -11           晴间多云  北风~无持续风向3-4级~微风    NaN\n721   2013-01-02 周三  -6  -14           晴间多云           北风4-5级    NaN\n\n[4006 rows x 6 columns]",
      "text/html": "<div>\n<style scoped>\n    .dataframe tbody tr th:only-of-type {\n        vertical-align: middle;\n    }\n\n    .dataframe tbody tr th {\n        vertical-align: top;\n    }\n\n    .dataframe thead th {\n        text-align: right;\n    }\n</style>\n<table border=\"1\" class=\"dataframe\">\n  <thead>\n    <tr style=\"text-align: right;\">\n      <th></th>\n      <th>日期</th>\n      <th>最高温</th>\n      <th>最低温</th>\n      <th>天气</th>\n      <th>风力风向</th>\n      <th>空气质量指数</th>\n    </tr>\n  </thead>\n  <tbody>\n    <tr>\n      <th>2756</th>\n      <td>2018-07-31 周二</td>\n      <td>35</td>\n      <td>26</td>\n      <td>晴</td>\n      <td>南风1-2级</td>\n      <td>99 良</td>\n    </tr>\n    <tr>\n      <th>3054</th>\n      <td>2019-05-25 周六</td>\n      <td>35</td>\n      <td>20</td>\n      <td>多云~雷阵雨</td>\n      <td>东南风2级</td>\n      <td>99 良</td>\n    </tr>\n    <tr>\n      <th>2743</th>\n      <td>2018-07-18 周三</td>\n      <td>33</td>\n      <td>25</td>\n      <td>多云</td>\n      <td>南风1-2级</td>\n      <td>99 良</td>\n    </tr>\n    <tr>\n      <th>2688</th>\n      <td>2018-05-24 周四</td>\n      <td>31</td>\n      <td>17</td>\n      <td>晴</td>\n      <td>南风3-4级</td>\n      <td>99 良</td>\n    </tr>\n    <tr>\n      <th>3524</th>\n      <td>2020-09-06 周日</td>\n      <td>30</td>\n      <td>20</td>\n      <td>多云~雷阵雨</td>\n      <td>东南风2级</td>\n      <td>99 良</td>\n    </tr>\n    <tr>\n      <th>...</th>\n      <td>...</td>\n      <td>...</td>\n      <td>...</td>\n      <td>...</td>\n      <td>...</td>\n      <td>...</td>\n    </tr>\n    <tr>\n      <th>716</th>\n      <td>2012-12-28 周五</td>\n      <td>-4</td>\n      <td>-8</td>\n      <td>阴有轻雾转小雪~小雪转多云</td>\n      <td>无持续风向~北风微风~5-6级</td>\n      <td>NaN</td>\n    </tr>\n    <tr>\n      <th>722</th>\n      <td>2013-01-03 周四</td>\n      <td>-4</td>\n      <td>-13</td>\n      <td>晴间多云~晴</td>\n      <td>无持续风向微风</td>\n      <td>NaN</td>\n    </tr>\n    <tr>\n      <th>757</th>\n      <td>2013-02-07 周四</td>\n      <td>-4</td>\n      <td>-12</td>\n      <td>晴间多云</td>\n      <td>北风~无持续风向3-4级~微风</td>\n      <td>NaN</td>\n    </tr>\n    <tr>\n      <th>711</th>\n      <td>2012-12-23 周日</td>\n      <td>-5</td>\n      <td>-11</td>\n      <td>晴间多云</td>\n      <td>北风~无持续风向3-4级~微风</td>\n      <td>NaN</td>\n    </tr>\n    <tr>\n      <th>721</th>\n      <td>2013-01-02 周三</td>\n      <td>-6</td>\n      <td>-14</td>\n      <td>晴间多云</td>\n      <td>北风4-5级</td>\n      <td>NaN</td>\n    </tr>\n  </tbody>\n</table>\n<p>4006 rows × 6 columns</p>\n</div>"
     },
     "execution_count": 33,
     "metadata": {},
     "output_type": "execute_result"
    }
   ],
   "source": [
    "# 两个字段都是降序\n",
    "df.sort_values(by=['空气质量指数', '最高温'], ascending=False)"
   ],
   "metadata": {
    "collapsed": false
   }
  },
  {
   "cell_type": "code",
   "execution_count": 34,
   "outputs": [
    {
     "data": {
      "text/plain": "                 日期 最高温  最低温             天气             风力风向 空气质量指数\n2346  2017-06-16 周五  36   24           多云~阴           南风3-4级  100 良\n3442  2020-06-16 周二  36   24           阴~多云             南风2级  100 良\n2435  2017-09-13 周三  28   19             多云           东风1-2级  100 良\n2671  2018-05-07 周一  28   13              晴           南风3-4级  100 良\n3749  2021-04-19 周一  27   15           晴~多云            西南风2级  100 良\n...             ...  ..  ...            ...              ...    ...\n716   2012-12-28 周五  -4   -8  阴有轻雾转小雪~小雪转多云  无持续风向~北风微风~5-6级    NaN\n722   2013-01-03 周四  -4  -13         晴间多云~晴          无持续风向微风    NaN\n757   2013-02-07 周四  -4  -12           晴间多云  北风~无持续风向3-4级~微风    NaN\n711   2012-12-23 周日  -5  -11           晴间多云  北风~无持续风向3-4级~微风    NaN\n721   2013-01-02 周三  -6  -14           晴间多云           北风4-5级    NaN\n\n[4006 rows x 6 columns]",
      "text/html": "<div>\n<style scoped>\n    .dataframe tbody tr th:only-of-type {\n        vertical-align: middle;\n    }\n\n    .dataframe tbody tr th {\n        vertical-align: top;\n    }\n\n    .dataframe thead th {\n        text-align: right;\n    }\n</style>\n<table border=\"1\" class=\"dataframe\">\n  <thead>\n    <tr style=\"text-align: right;\">\n      <th></th>\n      <th>日期</th>\n      <th>最高温</th>\n      <th>最低温</th>\n      <th>天气</th>\n      <th>风力风向</th>\n      <th>空气质量指数</th>\n    </tr>\n  </thead>\n  <tbody>\n    <tr>\n      <th>2346</th>\n      <td>2017-06-16 周五</td>\n      <td>36</td>\n      <td>24</td>\n      <td>多云~阴</td>\n      <td>南风3-4级</td>\n      <td>100 良</td>\n    </tr>\n    <tr>\n      <th>3442</th>\n      <td>2020-06-16 周二</td>\n      <td>36</td>\n      <td>24</td>\n      <td>阴~多云</td>\n      <td>南风2级</td>\n      <td>100 良</td>\n    </tr>\n    <tr>\n      <th>2435</th>\n      <td>2017-09-13 周三</td>\n      <td>28</td>\n      <td>19</td>\n      <td>多云</td>\n      <td>东风1-2级</td>\n      <td>100 良</td>\n    </tr>\n    <tr>\n      <th>2671</th>\n      <td>2018-05-07 周一</td>\n      <td>28</td>\n      <td>13</td>\n      <td>晴</td>\n      <td>南风3-4级</td>\n      <td>100 良</td>\n    </tr>\n    <tr>\n      <th>3749</th>\n      <td>2021-04-19 周一</td>\n      <td>27</td>\n      <td>15</td>\n      <td>晴~多云</td>\n      <td>西南风2级</td>\n      <td>100 良</td>\n    </tr>\n    <tr>\n      <th>...</th>\n      <td>...</td>\n      <td>...</td>\n      <td>...</td>\n      <td>...</td>\n      <td>...</td>\n      <td>...</td>\n    </tr>\n    <tr>\n      <th>716</th>\n      <td>2012-12-28 周五</td>\n      <td>-4</td>\n      <td>-8</td>\n      <td>阴有轻雾转小雪~小雪转多云</td>\n      <td>无持续风向~北风微风~5-6级</td>\n      <td>NaN</td>\n    </tr>\n    <tr>\n      <th>722</th>\n      <td>2013-01-03 周四</td>\n      <td>-4</td>\n      <td>-13</td>\n      <td>晴间多云~晴</td>\n      <td>无持续风向微风</td>\n      <td>NaN</td>\n    </tr>\n    <tr>\n      <th>757</th>\n      <td>2013-02-07 周四</td>\n      <td>-4</td>\n      <td>-12</td>\n      <td>晴间多云</td>\n      <td>北风~无持续风向3-4级~微风</td>\n      <td>NaN</td>\n    </tr>\n    <tr>\n      <th>711</th>\n      <td>2012-12-23 周日</td>\n      <td>-5</td>\n      <td>-11</td>\n      <td>晴间多云</td>\n      <td>北风~无持续风向3-4级~微风</td>\n      <td>NaN</td>\n    </tr>\n    <tr>\n      <th>721</th>\n      <td>2013-01-02 周三</td>\n      <td>-6</td>\n      <td>-14</td>\n      <td>晴间多云</td>\n      <td>北风4-5级</td>\n      <td>NaN</td>\n    </tr>\n  </tbody>\n</table>\n<p>4006 rows × 6 columns</p>\n</div>"
     },
     "execution_count": 34,
     "metadata": {},
     "output_type": "execute_result"
    }
   ],
   "source": [
    "# 分别指定两个字段是升序和降序\n",
    "df.sort_values(by=['空气质量指数', '最高温'], ascending=[True, False])"
   ],
   "metadata": {
    "collapsed": false
   }
  }
 ],
 "metadata": {
  "kernelspec": {
   "display_name": "Python 3",
   "language": "python",
   "name": "python3"
  },
  "language_info": {
   "codemirror_mode": {
    "name": "ipython",
    "version": 2
   },
   "file_extension": ".py",
   "mimetype": "text/x-python",
   "name": "python",
   "nbconvert_exporter": "python",
   "pygments_lexer": "ipython2",
   "version": "2.7.6"
  }
 },
 "nbformat": 4,
 "nbformat_minor": 0
}
