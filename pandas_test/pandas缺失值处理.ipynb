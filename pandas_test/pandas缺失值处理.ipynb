{
 "cells": [
  {
   "cell_type": "markdown",
   "source": [
    "# pandas对缺失值的处理"
   ],
   "metadata": {
    "collapsed": false
   }
  },
  {
   "cell_type": "markdown",
   "source": [
    "pandas 处理缺失值的函数:\n",
    "- isnull 和 notnull: 检测是否是空值, 可用于DataFrame和series\n",
    "- dropna: 丢弃、删除缺失值\n",
    "    参数:\n",
    "    + axis: 删除行或是列(axis=0 或 axis=index 删除行, axis=1 或 axis=columns 删除列,默认为axis=0)\n",
    "    + how: 如果等于any则任何值为空都删除, 如果等于all则所有值都为空才删除\n",
    "    + inplace: 如果为True则修改当前DataFrame, 否则返回新的DataFrame\n",
    "- fillna: 填充空值\n",
    "    参数:\n",
    "    + value: 用于填充的值, 可以是单个值, 或字典(key作为列名, value为值)\n",
    "    + method: 等于ffill使用数据的前一个不为空的值填充数据; 等于bfill使用数据的后一个不为空的值填充数据\n",
    "    + axis: 按行填充还是按列(axis=0 或者 axis=index 删除行, axis=1 或 axis=columns删除列,默认为axis=0)\n",
    "    + inplace: 如果为True则修改当前DataFrame, 否则返回新的DataFrame"
   ],
   "metadata": {
    "collapsed": false
   }
  },
  {
   "cell_type": "code",
   "execution_count": 1,
   "outputs": [],
   "source": [
    "import pandas as pd"
   ],
   "metadata": {
    "collapsed": false
   }
  },
  {
   "cell_type": "markdown",
   "source": [
    "## 实例: 特殊excel的读取、清洗、处理"
   ],
   "metadata": {
    "collapsed": false
   }
  },
  {
   "cell_type": "markdown",
   "source": [
    "### 步骤1: 读取excel的时候, 忽略前级个空行"
   ],
   "metadata": {
    "collapsed": false
   }
  },
  {
   "cell_type": "code",
   "execution_count": 2,
   "outputs": [
    {
     "data": {
      "text/plain": "    Unnamed: 0   姓名   科目    分数\n0          NaN   小明   语文  85.0\n1          NaN  NaN   数学  80.0\n2          NaN  NaN   英语  90.0\n3          NaN  NaN  NaN   NaN\n4          NaN   小王   语文  85.0\n5          NaN  NaN   数学   NaN\n6          NaN  NaN   英语  90.0\n7          NaN  NaN  NaN   NaN\n8          NaN   小钢   语文  85.0\n9          NaN  NaN   数学  80.0\n10         NaN  NaN   英语  90.0",
      "text/html": "<div>\n<style scoped>\n    .dataframe tbody tr th:only-of-type {\n        vertical-align: middle;\n    }\n\n    .dataframe tbody tr th {\n        vertical-align: top;\n    }\n\n    .dataframe thead th {\n        text-align: right;\n    }\n</style>\n<table border=\"1\" class=\"dataframe\">\n  <thead>\n    <tr style=\"text-align: right;\">\n      <th></th>\n      <th>Unnamed: 0</th>\n      <th>姓名</th>\n      <th>科目</th>\n      <th>分数</th>\n    </tr>\n  </thead>\n  <tbody>\n    <tr>\n      <th>0</th>\n      <td>NaN</td>\n      <td>小明</td>\n      <td>语文</td>\n      <td>85.0</td>\n    </tr>\n    <tr>\n      <th>1</th>\n      <td>NaN</td>\n      <td>NaN</td>\n      <td>数学</td>\n      <td>80.0</td>\n    </tr>\n    <tr>\n      <th>2</th>\n      <td>NaN</td>\n      <td>NaN</td>\n      <td>英语</td>\n      <td>90.0</td>\n    </tr>\n    <tr>\n      <th>3</th>\n      <td>NaN</td>\n      <td>NaN</td>\n      <td>NaN</td>\n      <td>NaN</td>\n    </tr>\n    <tr>\n      <th>4</th>\n      <td>NaN</td>\n      <td>小王</td>\n      <td>语文</td>\n      <td>85.0</td>\n    </tr>\n    <tr>\n      <th>5</th>\n      <td>NaN</td>\n      <td>NaN</td>\n      <td>数学</td>\n      <td>NaN</td>\n    </tr>\n    <tr>\n      <th>6</th>\n      <td>NaN</td>\n      <td>NaN</td>\n      <td>英语</td>\n      <td>90.0</td>\n    </tr>\n    <tr>\n      <th>7</th>\n      <td>NaN</td>\n      <td>NaN</td>\n      <td>NaN</td>\n      <td>NaN</td>\n    </tr>\n    <tr>\n      <th>8</th>\n      <td>NaN</td>\n      <td>小钢</td>\n      <td>语文</td>\n      <td>85.0</td>\n    </tr>\n    <tr>\n      <th>9</th>\n      <td>NaN</td>\n      <td>NaN</td>\n      <td>数学</td>\n      <td>80.0</td>\n    </tr>\n    <tr>\n      <th>10</th>\n      <td>NaN</td>\n      <td>NaN</td>\n      <td>英语</td>\n      <td>90.0</td>\n    </tr>\n  </tbody>\n</table>\n</div>"
     },
     "execution_count": 2,
     "metadata": {},
     "output_type": "execute_result"
    }
   ],
   "source": [
    "# skiprows参数为读取数据时用于指定需要跳过的行数。它可以是一个整数，也可以是一个列表或数组，其中包含需要跳过的行的编号\n",
    "'''\n",
    "读取 CSV 文件时跳过前两行\n",
    "df = pd.read_csv('filename.csv', skiprows=2)\n",
    "读取 CSV 文件时跳过第一行和第三行\n",
    "df = pd.read_csv('filename.csv', skiprows=[0, 2])\n",
    "读取 CSV 文件时跳过前 5 行\n",
    "df = pd.read_csv('filename.csv', skiprows=lambda x: x < 5)\n",
    "'''\n",
    "studf = pd.read_excel('./data/缺失值处理/pandas缺失值处理源数据.xlsx', skiprows=2)\n",
    "studf"
   ],
   "metadata": {
    "collapsed": false
   }
  },
  {
   "cell_type": "code",
   "execution_count": 2,
   "outputs": [],
   "source": [],
   "metadata": {
    "collapsed": false
   }
  },
  {
   "cell_type": "markdown",
   "source": [
    "### 步骤2: 检测空值"
   ],
   "metadata": {
    "collapsed": false
   }
  },
  {
   "cell_type": "code",
   "execution_count": 3,
   "outputs": [
    {
     "data": {
      "text/plain": "    Unnamed: 0     姓名     科目     分数\n0         True  False  False  False\n1         True   True  False  False\n2         True   True  False  False\n3         True   True   True   True\n4         True  False  False  False\n5         True   True  False   True\n6         True   True  False  False\n7         True   True   True   True\n8         True  False  False  False\n9         True   True  False  False\n10        True   True  False  False",
      "text/html": "<div>\n<style scoped>\n    .dataframe tbody tr th:only-of-type {\n        vertical-align: middle;\n    }\n\n    .dataframe tbody tr th {\n        vertical-align: top;\n    }\n\n    .dataframe thead th {\n        text-align: right;\n    }\n</style>\n<table border=\"1\" class=\"dataframe\">\n  <thead>\n    <tr style=\"text-align: right;\">\n      <th></th>\n      <th>Unnamed: 0</th>\n      <th>姓名</th>\n      <th>科目</th>\n      <th>分数</th>\n    </tr>\n  </thead>\n  <tbody>\n    <tr>\n      <th>0</th>\n      <td>True</td>\n      <td>False</td>\n      <td>False</td>\n      <td>False</td>\n    </tr>\n    <tr>\n      <th>1</th>\n      <td>True</td>\n      <td>True</td>\n      <td>False</td>\n      <td>False</td>\n    </tr>\n    <tr>\n      <th>2</th>\n      <td>True</td>\n      <td>True</td>\n      <td>False</td>\n      <td>False</td>\n    </tr>\n    <tr>\n      <th>3</th>\n      <td>True</td>\n      <td>True</td>\n      <td>True</td>\n      <td>True</td>\n    </tr>\n    <tr>\n      <th>4</th>\n      <td>True</td>\n      <td>False</td>\n      <td>False</td>\n      <td>False</td>\n    </tr>\n    <tr>\n      <th>5</th>\n      <td>True</td>\n      <td>True</td>\n      <td>False</td>\n      <td>True</td>\n    </tr>\n    <tr>\n      <th>6</th>\n      <td>True</td>\n      <td>True</td>\n      <td>False</td>\n      <td>False</td>\n    </tr>\n    <tr>\n      <th>7</th>\n      <td>True</td>\n      <td>True</td>\n      <td>True</td>\n      <td>True</td>\n    </tr>\n    <tr>\n      <th>8</th>\n      <td>True</td>\n      <td>False</td>\n      <td>False</td>\n      <td>False</td>\n    </tr>\n    <tr>\n      <th>9</th>\n      <td>True</td>\n      <td>True</td>\n      <td>False</td>\n      <td>False</td>\n    </tr>\n    <tr>\n      <th>10</th>\n      <td>True</td>\n      <td>True</td>\n      <td>False</td>\n      <td>False</td>\n    </tr>\n  </tbody>\n</table>\n</div>"
     },
     "execution_count": 3,
     "metadata": {},
     "output_type": "execute_result"
    }
   ],
   "source": [
    "studf.isnull()"
   ],
   "metadata": {
    "collapsed": false
   }
  },
  {
   "cell_type": "code",
   "execution_count": 4,
   "outputs": [
    {
     "data": {
      "text/plain": "0     False\n1     False\n2     False\n3      True\n4     False\n5      True\n6     False\n7      True\n8     False\n9     False\n10    False\nName: 分数, dtype: bool"
     },
     "execution_count": 4,
     "metadata": {},
     "output_type": "execute_result"
    }
   ],
   "source": [
    "studf['分数'].isnull()"
   ],
   "metadata": {
    "collapsed": false
   }
  },
  {
   "cell_type": "code",
   "execution_count": 5,
   "outputs": [
    {
     "data": {
      "text/plain": "0      True\n1      True\n2      True\n3     False\n4      True\n5     False\n6      True\n7     False\n8      True\n9      True\n10     True\nName: 分数, dtype: bool"
     },
     "execution_count": 5,
     "metadata": {},
     "output_type": "execute_result"
    }
   ],
   "source": [
    "studf['分数'].notnull()"
   ],
   "metadata": {
    "collapsed": false
   }
  },
  {
   "cell_type": "code",
   "execution_count": 6,
   "outputs": [
    {
     "data": {
      "text/plain": "    Unnamed: 0   姓名  科目    分数\n0          NaN   小明  语文  85.0\n1          NaN  NaN  数学  80.0\n2          NaN  NaN  英语  90.0\n4          NaN   小王  语文  85.0\n6          NaN  NaN  英语  90.0\n8          NaN   小钢  语文  85.0\n9          NaN  NaN  数学  80.0\n10         NaN  NaN  英语  90.0",
      "text/html": "<div>\n<style scoped>\n    .dataframe tbody tr th:only-of-type {\n        vertical-align: middle;\n    }\n\n    .dataframe tbody tr th {\n        vertical-align: top;\n    }\n\n    .dataframe thead th {\n        text-align: right;\n    }\n</style>\n<table border=\"1\" class=\"dataframe\">\n  <thead>\n    <tr style=\"text-align: right;\">\n      <th></th>\n      <th>Unnamed: 0</th>\n      <th>姓名</th>\n      <th>科目</th>\n      <th>分数</th>\n    </tr>\n  </thead>\n  <tbody>\n    <tr>\n      <th>0</th>\n      <td>NaN</td>\n      <td>小明</td>\n      <td>语文</td>\n      <td>85.0</td>\n    </tr>\n    <tr>\n      <th>1</th>\n      <td>NaN</td>\n      <td>NaN</td>\n      <td>数学</td>\n      <td>80.0</td>\n    </tr>\n    <tr>\n      <th>2</th>\n      <td>NaN</td>\n      <td>NaN</td>\n      <td>英语</td>\n      <td>90.0</td>\n    </tr>\n    <tr>\n      <th>4</th>\n      <td>NaN</td>\n      <td>小王</td>\n      <td>语文</td>\n      <td>85.0</td>\n    </tr>\n    <tr>\n      <th>6</th>\n      <td>NaN</td>\n      <td>NaN</td>\n      <td>英语</td>\n      <td>90.0</td>\n    </tr>\n    <tr>\n      <th>8</th>\n      <td>NaN</td>\n      <td>小钢</td>\n      <td>语文</td>\n      <td>85.0</td>\n    </tr>\n    <tr>\n      <th>9</th>\n      <td>NaN</td>\n      <td>NaN</td>\n      <td>数学</td>\n      <td>80.0</td>\n    </tr>\n    <tr>\n      <th>10</th>\n      <td>NaN</td>\n      <td>NaN</td>\n      <td>英语</td>\n      <td>90.0</td>\n    </tr>\n  </tbody>\n</table>\n</div>"
     },
     "execution_count": 6,
     "metadata": {},
     "output_type": "execute_result"
    }
   ],
   "source": [
    "# 筛选没有空分数的所有行\n",
    "studf.loc[studf['分数'].notnull(), :]"
   ],
   "metadata": {
    "collapsed": false
   }
  },
  {
   "cell_type": "markdown",
   "source": [
    "### 步骤3: 删除掉全是空值的列"
   ],
   "metadata": {
    "collapsed": false
   }
  },
  {
   "cell_type": "code",
   "execution_count": 7,
   "outputs": [
    {
     "data": {
      "text/plain": "     姓名   科目    分数\n0    小明   语文  85.0\n1   NaN   数学  80.0\n2   NaN   英语  90.0\n3   NaN  NaN   NaN\n4    小王   语文  85.0\n5   NaN   数学   NaN\n6   NaN   英语  90.0\n7   NaN  NaN   NaN\n8    小钢   语文  85.0\n9   NaN   数学  80.0\n10  NaN   英语  90.0",
      "text/html": "<div>\n<style scoped>\n    .dataframe tbody tr th:only-of-type {\n        vertical-align: middle;\n    }\n\n    .dataframe tbody tr th {\n        vertical-align: top;\n    }\n\n    .dataframe thead th {\n        text-align: right;\n    }\n</style>\n<table border=\"1\" class=\"dataframe\">\n  <thead>\n    <tr style=\"text-align: right;\">\n      <th></th>\n      <th>姓名</th>\n      <th>科目</th>\n      <th>分数</th>\n    </tr>\n  </thead>\n  <tbody>\n    <tr>\n      <th>0</th>\n      <td>小明</td>\n      <td>语文</td>\n      <td>85.0</td>\n    </tr>\n    <tr>\n      <th>1</th>\n      <td>NaN</td>\n      <td>数学</td>\n      <td>80.0</td>\n    </tr>\n    <tr>\n      <th>2</th>\n      <td>NaN</td>\n      <td>英语</td>\n      <td>90.0</td>\n    </tr>\n    <tr>\n      <th>3</th>\n      <td>NaN</td>\n      <td>NaN</td>\n      <td>NaN</td>\n    </tr>\n    <tr>\n      <th>4</th>\n      <td>小王</td>\n      <td>语文</td>\n      <td>85.0</td>\n    </tr>\n    <tr>\n      <th>5</th>\n      <td>NaN</td>\n      <td>数学</td>\n      <td>NaN</td>\n    </tr>\n    <tr>\n      <th>6</th>\n      <td>NaN</td>\n      <td>英语</td>\n      <td>90.0</td>\n    </tr>\n    <tr>\n      <th>7</th>\n      <td>NaN</td>\n      <td>NaN</td>\n      <td>NaN</td>\n    </tr>\n    <tr>\n      <th>8</th>\n      <td>小钢</td>\n      <td>语文</td>\n      <td>85.0</td>\n    </tr>\n    <tr>\n      <th>9</th>\n      <td>NaN</td>\n      <td>数学</td>\n      <td>80.0</td>\n    </tr>\n    <tr>\n      <th>10</th>\n      <td>NaN</td>\n      <td>英语</td>\n      <td>90.0</td>\n    </tr>\n  </tbody>\n</table>\n</div>"
     },
     "execution_count": 7,
     "metadata": {},
     "output_type": "execute_result"
    }
   ],
   "source": [
    "studf.dropna(axis='columns', how='all', inplace=True)\n",
    "studf"
   ],
   "metadata": {
    "collapsed": false
   }
  },
  {
   "cell_type": "markdown",
   "source": [
    "### 步骤4: 删除全是空值的行"
   ],
   "metadata": {
    "collapsed": false
   }
  },
  {
   "cell_type": "code",
   "execution_count": 8,
   "outputs": [
    {
     "data": {
      "text/plain": "     姓名  科目    分数\n0    小明  语文  85.0\n1   NaN  数学  80.0\n2   NaN  英语  90.0\n4    小王  语文  85.0\n5   NaN  数学   NaN\n6   NaN  英语  90.0\n8    小钢  语文  85.0\n9   NaN  数学  80.0\n10  NaN  英语  90.0",
      "text/html": "<div>\n<style scoped>\n    .dataframe tbody tr th:only-of-type {\n        vertical-align: middle;\n    }\n\n    .dataframe tbody tr th {\n        vertical-align: top;\n    }\n\n    .dataframe thead th {\n        text-align: right;\n    }\n</style>\n<table border=\"1\" class=\"dataframe\">\n  <thead>\n    <tr style=\"text-align: right;\">\n      <th></th>\n      <th>姓名</th>\n      <th>科目</th>\n      <th>分数</th>\n    </tr>\n  </thead>\n  <tbody>\n    <tr>\n      <th>0</th>\n      <td>小明</td>\n      <td>语文</td>\n      <td>85.0</td>\n    </tr>\n    <tr>\n      <th>1</th>\n      <td>NaN</td>\n      <td>数学</td>\n      <td>80.0</td>\n    </tr>\n    <tr>\n      <th>2</th>\n      <td>NaN</td>\n      <td>英语</td>\n      <td>90.0</td>\n    </tr>\n    <tr>\n      <th>4</th>\n      <td>小王</td>\n      <td>语文</td>\n      <td>85.0</td>\n    </tr>\n    <tr>\n      <th>5</th>\n      <td>NaN</td>\n      <td>数学</td>\n      <td>NaN</td>\n    </tr>\n    <tr>\n      <th>6</th>\n      <td>NaN</td>\n      <td>英语</td>\n      <td>90.0</td>\n    </tr>\n    <tr>\n      <th>8</th>\n      <td>小钢</td>\n      <td>语文</td>\n      <td>85.0</td>\n    </tr>\n    <tr>\n      <th>9</th>\n      <td>NaN</td>\n      <td>数学</td>\n      <td>80.0</td>\n    </tr>\n    <tr>\n      <th>10</th>\n      <td>NaN</td>\n      <td>英语</td>\n      <td>90.0</td>\n    </tr>\n  </tbody>\n</table>\n</div>"
     },
     "execution_count": 8,
     "metadata": {},
     "output_type": "execute_result"
    }
   ],
   "source": [
    "studf.dropna(axis='index', how='all', inplace=True)\n",
    "studf"
   ],
   "metadata": {
    "collapsed": false
   }
  },
  {
   "cell_type": "markdown",
   "source": [
    "### 步骤5: 将分数列为空的填充为0"
   ],
   "metadata": {
    "collapsed": false
   }
  },
  {
   "cell_type": "code",
   "execution_count": 9,
   "outputs": [
    {
     "data": {
      "text/plain": "     姓名  科目    分数\n0    小明  语文  85.0\n1   NaN  数学  80.0\n2   NaN  英语  90.0\n4    小王  语文  85.0\n5   NaN  数学   0.0\n6   NaN  英语  90.0\n8    小钢  语文  85.0\n9   NaN  数学  80.0\n10  NaN  英语  90.0",
      "text/html": "<div>\n<style scoped>\n    .dataframe tbody tr th:only-of-type {\n        vertical-align: middle;\n    }\n\n    .dataframe tbody tr th {\n        vertical-align: top;\n    }\n\n    .dataframe thead th {\n        text-align: right;\n    }\n</style>\n<table border=\"1\" class=\"dataframe\">\n  <thead>\n    <tr style=\"text-align: right;\">\n      <th></th>\n      <th>姓名</th>\n      <th>科目</th>\n      <th>分数</th>\n    </tr>\n  </thead>\n  <tbody>\n    <tr>\n      <th>0</th>\n      <td>小明</td>\n      <td>语文</td>\n      <td>85.0</td>\n    </tr>\n    <tr>\n      <th>1</th>\n      <td>NaN</td>\n      <td>数学</td>\n      <td>80.0</td>\n    </tr>\n    <tr>\n      <th>2</th>\n      <td>NaN</td>\n      <td>英语</td>\n      <td>90.0</td>\n    </tr>\n    <tr>\n      <th>4</th>\n      <td>小王</td>\n      <td>语文</td>\n      <td>85.0</td>\n    </tr>\n    <tr>\n      <th>5</th>\n      <td>NaN</td>\n      <td>数学</td>\n      <td>0.0</td>\n    </tr>\n    <tr>\n      <th>6</th>\n      <td>NaN</td>\n      <td>英语</td>\n      <td>90.0</td>\n    </tr>\n    <tr>\n      <th>8</th>\n      <td>小钢</td>\n      <td>语文</td>\n      <td>85.0</td>\n    </tr>\n    <tr>\n      <th>9</th>\n      <td>NaN</td>\n      <td>数学</td>\n      <td>80.0</td>\n    </tr>\n    <tr>\n      <th>10</th>\n      <td>NaN</td>\n      <td>英语</td>\n      <td>90.0</td>\n    </tr>\n  </tbody>\n</table>\n</div>"
     },
     "execution_count": 9,
     "metadata": {},
     "output_type": "execute_result"
    }
   ],
   "source": [
    "studf_copy1 = studf.copy(True)\n",
    "studf_copy1.loc[:, '分数'] = studf_copy1['分数'].fillna(0)\n",
    "studf_copy1"
   ],
   "metadata": {
    "collapsed": false
   }
  },
  {
   "cell_type": "code",
   "execution_count": 10,
   "outputs": [
    {
     "data": {
      "text/plain": "     姓名  科目    分数\n0    小明  语文  85.0\n1   NaN  数学  80.0\n2   NaN  英语  90.0\n4    小王  语文  85.0\n5   NaN  数学   0.0\n6   NaN  英语  90.0\n8    小钢  语文  85.0\n9   NaN  数学  80.0\n10  NaN  英语  90.0",
      "text/html": "<div>\n<style scoped>\n    .dataframe tbody tr th:only-of-type {\n        vertical-align: middle;\n    }\n\n    .dataframe tbody tr th {\n        vertical-align: top;\n    }\n\n    .dataframe thead th {\n        text-align: right;\n    }\n</style>\n<table border=\"1\" class=\"dataframe\">\n  <thead>\n    <tr style=\"text-align: right;\">\n      <th></th>\n      <th>姓名</th>\n      <th>科目</th>\n      <th>分数</th>\n    </tr>\n  </thead>\n  <tbody>\n    <tr>\n      <th>0</th>\n      <td>小明</td>\n      <td>语文</td>\n      <td>85.0</td>\n    </tr>\n    <tr>\n      <th>1</th>\n      <td>NaN</td>\n      <td>数学</td>\n      <td>80.0</td>\n    </tr>\n    <tr>\n      <th>2</th>\n      <td>NaN</td>\n      <td>英语</td>\n      <td>90.0</td>\n    </tr>\n    <tr>\n      <th>4</th>\n      <td>小王</td>\n      <td>语文</td>\n      <td>85.0</td>\n    </tr>\n    <tr>\n      <th>5</th>\n      <td>NaN</td>\n      <td>数学</td>\n      <td>0.0</td>\n    </tr>\n    <tr>\n      <th>6</th>\n      <td>NaN</td>\n      <td>英语</td>\n      <td>90.0</td>\n    </tr>\n    <tr>\n      <th>8</th>\n      <td>小钢</td>\n      <td>语文</td>\n      <td>85.0</td>\n    </tr>\n    <tr>\n      <th>9</th>\n      <td>NaN</td>\n      <td>数学</td>\n      <td>80.0</td>\n    </tr>\n    <tr>\n      <th>10</th>\n      <td>NaN</td>\n      <td>英语</td>\n      <td>90.0</td>\n    </tr>\n  </tbody>\n</table>\n</div>"
     },
     "execution_count": 10,
     "metadata": {},
     "output_type": "execute_result"
    }
   ],
   "source": [
    "studf_copy2 = studf.copy(True)\n",
    "studf_copy2.fillna({'分数':0}, inplace=True)\n",
    "studf_copy2"
   ],
   "metadata": {
    "collapsed": false
   }
  },
  {
   "cell_type": "markdown",
   "source": [
    "### 步骤6: 将姓名的缺失值填充\n",
    "使用前面的有效值填充"
   ],
   "metadata": {
    "collapsed": false
   }
  },
  {
   "cell_type": "code",
   "execution_count": 11,
   "outputs": [
    {
     "data": {
      "text/plain": "    姓名  科目    分数\n0   小明  语文  85.0\n1   小明  数学  80.0\n2   小明  英语  90.0\n4   小王  语文  85.0\n5   小王  数学   0.0\n6   小王  英语  90.0\n8   小钢  语文  85.0\n9   小钢  数学  80.0\n10  小钢  英语  90.0",
      "text/html": "<div>\n<style scoped>\n    .dataframe tbody tr th:only-of-type {\n        vertical-align: middle;\n    }\n\n    .dataframe tbody tr th {\n        vertical-align: top;\n    }\n\n    .dataframe thead th {\n        text-align: right;\n    }\n</style>\n<table border=\"1\" class=\"dataframe\">\n  <thead>\n    <tr style=\"text-align: right;\">\n      <th></th>\n      <th>姓名</th>\n      <th>科目</th>\n      <th>分数</th>\n    </tr>\n  </thead>\n  <tbody>\n    <tr>\n      <th>0</th>\n      <td>小明</td>\n      <td>语文</td>\n      <td>85.0</td>\n    </tr>\n    <tr>\n      <th>1</th>\n      <td>小明</td>\n      <td>数学</td>\n      <td>80.0</td>\n    </tr>\n    <tr>\n      <th>2</th>\n      <td>小明</td>\n      <td>英语</td>\n      <td>90.0</td>\n    </tr>\n    <tr>\n      <th>4</th>\n      <td>小王</td>\n      <td>语文</td>\n      <td>85.0</td>\n    </tr>\n    <tr>\n      <th>5</th>\n      <td>小王</td>\n      <td>数学</td>\n      <td>0.0</td>\n    </tr>\n    <tr>\n      <th>6</th>\n      <td>小王</td>\n      <td>英语</td>\n      <td>90.0</td>\n    </tr>\n    <tr>\n      <th>8</th>\n      <td>小钢</td>\n      <td>语文</td>\n      <td>85.0</td>\n    </tr>\n    <tr>\n      <th>9</th>\n      <td>小钢</td>\n      <td>数学</td>\n      <td>80.0</td>\n    </tr>\n    <tr>\n      <th>10</th>\n      <td>小钢</td>\n      <td>英语</td>\n      <td>90.0</td>\n    </tr>\n  </tbody>\n</table>\n</div>"
     },
     "execution_count": 11,
     "metadata": {},
     "output_type": "execute_result"
    }
   ],
   "source": [
    "studf_copy1['姓名'].fillna(method='ffill', inplace=True)\n",
    "studf_copy1"
   ],
   "metadata": {
    "collapsed": false
   }
  },
  {
   "cell_type": "code",
   "execution_count": 12,
   "outputs": [
    {
     "data": {
      "text/plain": "    姓名  科目    分数\n0   小明  语文  85.0\n1   小明  数学  80.0\n2   小明  英语  90.0\n4   小王  语文  85.0\n5   小王  数学   0.0\n6   小王  英语  90.0\n8   小钢  语文  85.0\n9   小钢  数学  80.0\n10  小钢  英语  90.0",
      "text/html": "<div>\n<style scoped>\n    .dataframe tbody tr th:only-of-type {\n        vertical-align: middle;\n    }\n\n    .dataframe tbody tr th {\n        vertical-align: top;\n    }\n\n    .dataframe thead th {\n        text-align: right;\n    }\n</style>\n<table border=\"1\" class=\"dataframe\">\n  <thead>\n    <tr style=\"text-align: right;\">\n      <th></th>\n      <th>姓名</th>\n      <th>科目</th>\n      <th>分数</th>\n    </tr>\n  </thead>\n  <tbody>\n    <tr>\n      <th>0</th>\n      <td>小明</td>\n      <td>语文</td>\n      <td>85.0</td>\n    </tr>\n    <tr>\n      <th>1</th>\n      <td>小明</td>\n      <td>数学</td>\n      <td>80.0</td>\n    </tr>\n    <tr>\n      <th>2</th>\n      <td>小明</td>\n      <td>英语</td>\n      <td>90.0</td>\n    </tr>\n    <tr>\n      <th>4</th>\n      <td>小王</td>\n      <td>语文</td>\n      <td>85.0</td>\n    </tr>\n    <tr>\n      <th>5</th>\n      <td>小王</td>\n      <td>数学</td>\n      <td>0.0</td>\n    </tr>\n    <tr>\n      <th>6</th>\n      <td>小王</td>\n      <td>英语</td>\n      <td>90.0</td>\n    </tr>\n    <tr>\n      <th>8</th>\n      <td>小钢</td>\n      <td>语文</td>\n      <td>85.0</td>\n    </tr>\n    <tr>\n      <th>9</th>\n      <td>小钢</td>\n      <td>数学</td>\n      <td>80.0</td>\n    </tr>\n    <tr>\n      <th>10</th>\n      <td>小钢</td>\n      <td>英语</td>\n      <td>90.0</td>\n    </tr>\n  </tbody>\n</table>\n</div>"
     },
     "execution_count": 12,
     "metadata": {},
     "output_type": "execute_result"
    }
   ],
   "source": [
    "studf_copy2.loc[:, '姓名'] = studf_copy2.fillna(method='ffill')\n",
    "studf_copy2"
   ],
   "metadata": {
    "collapsed": false
   }
  },
  {
   "cell_type": "markdown",
   "source": [
    "### 步骤7. 保存数据"
   ],
   "metadata": {
    "collapsed": false
   }
  },
  {
   "cell_type": "code",
   "execution_count": 21,
   "outputs": [
    {
     "data": {
      "text/plain": "array(['小明', '小王', '小钢'], dtype=object)"
     },
     "execution_count": 21,
     "metadata": {},
     "output_type": "execute_result"
    }
   ],
   "source": [
    "# studf_copy2.to_excel('./data/缺失值处理/pandas缺失值处理源数据_save.xlsx', index=False)\n",
    "studf_copy2"
   ],
   "metadata": {
    "collapsed": false
   }
  }
 ],
 "metadata": {
  "kernelspec": {
   "display_name": "Python 3",
   "language": "python",
   "name": "python3"
  },
  "language_info": {
   "codemirror_mode": {
    "name": "ipython",
    "version": 2
   },
   "file_extension": ".py",
   "mimetype": "text/x-python",
   "name": "python",
   "nbconvert_exporter": "python",
   "pygments_lexer": "ipython2",
   "version": "2.7.6"
  }
 },
 "nbformat": 4,
 "nbformat_minor": 0
}
