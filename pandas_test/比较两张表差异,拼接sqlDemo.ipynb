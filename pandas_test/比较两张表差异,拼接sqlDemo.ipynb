{
 "cells": [
  {
   "cell_type": "code",
   "execution_count": 1,
   "metadata": {
    "collapsed": true
   },
   "outputs": [],
   "source": [
    "import pandas as pd\n",
    "from pandas import DataFrame\n",
    "\n",
    "df1 = pd.DataFrame({'id': [1, 2, 3], 'name': ['a', 'c', 'c']})\n",
    "df2 = pd.DataFrame({'id': [1, 2, 4], 'name': ['b', 'b', 'c']})\n",
    "dif = df1.compare(df2, keep_shape=True, keep_equal=True)\n",
    "dif1 = pd.merge(df1, df2, on='id')\n",
    "\n",
    "\n",
    "def get_update_condition(da: DataFrame):\n",
    "    update_condition = (da['id']['self'] == da['id']['other']) & (da['name']['self'] != da['name']['other'])\n",
    "    return update_condition\n",
    "\n",
    "\n",
    "dif.loc[get_update_condition, 'sql'] = 'update table set name=' + dif['name']['self'] + ' where id=' + dif['id'][\n",
    "    'other'].astype(str)\n",
    "\n",
    "\n",
    "def get_insert_condition(da: DataFrame):\n",
    "    insert_condition = da['id']['self'] != da['id']['other']\n",
    "    return insert_condition\n",
    "\n",
    "\n",
    "dif.loc[get_insert_condition, 'sql'] = 'insert into table (id,name) values (' + dif['id']['self'].astype(str) + ',' + \\\n",
    "                                       dif['name']['self'] + ')'"
   ]
  },
  {
   "cell_type": "code",
   "execution_count": 2,
   "outputs": [
    {
     "data": {
      "text/plain": "    id       name                                             sql\n  self other self other                                          \n0    1     1    a     b        update table set name=a where id=1\n1    2     2    c     b        update table set name=c where id=2\n2    3     4    c     c  insert into table (id,name) values (3,c)",
      "text/html": "<div>\n<style scoped>\n    .dataframe tbody tr th:only-of-type {\n        vertical-align: middle;\n    }\n\n    .dataframe tbody tr th {\n        vertical-align: top;\n    }\n\n    .dataframe thead tr th {\n        text-align: left;\n    }\n</style>\n<table border=\"1\" class=\"dataframe\">\n  <thead>\n    <tr>\n      <th></th>\n      <th colspan=\"2\" halign=\"left\">id</th>\n      <th colspan=\"2\" halign=\"left\">name</th>\n      <th>sql</th>\n    </tr>\n    <tr>\n      <th></th>\n      <th>self</th>\n      <th>other</th>\n      <th>self</th>\n      <th>other</th>\n      <th></th>\n    </tr>\n  </thead>\n  <tbody>\n    <tr>\n      <th>0</th>\n      <td>1</td>\n      <td>1</td>\n      <td>a</td>\n      <td>b</td>\n      <td>update table set name=a where id=1</td>\n    </tr>\n    <tr>\n      <th>1</th>\n      <td>2</td>\n      <td>2</td>\n      <td>c</td>\n      <td>b</td>\n      <td>update table set name=c where id=2</td>\n    </tr>\n    <tr>\n      <th>2</th>\n      <td>3</td>\n      <td>4</td>\n      <td>c</td>\n      <td>c</td>\n      <td>insert into table (id,name) values (3,c)</td>\n    </tr>\n  </tbody>\n</table>\n</div>"
     },
     "execution_count": 2,
     "metadata": {},
     "output_type": "execute_result"
    }
   ],
   "source": [
    "dif"
   ],
   "metadata": {
    "collapsed": false
   }
  }
 ],
 "metadata": {
  "kernelspec": {
   "display_name": "Python 3",
   "language": "python",
   "name": "python3"
  },
  "language_info": {
   "codemirror_mode": {
    "name": "ipython",
    "version": 2
   },
   "file_extension": ".py",
   "mimetype": "text/x-python",
   "name": "python",
   "nbconvert_exporter": "python",
   "pygments_lexer": "ipython2",
   "version": "2.7.6"
  }
 },
 "nbformat": 4,
 "nbformat_minor": 0
}
