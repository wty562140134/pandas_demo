{
 "cells": [
  {
   "cell_type": "code",
   "execution_count": 1,
   "metadata": {
    "collapsed": true
   },
   "outputs": [
    {
     "data": {
      "text/plain": "0          update table set name=a where id=1\n1          update table set name=c where id=2\n2    insert into table (id,name) values (3,c)\nName: sql, dtype: object"
     },
     "execution_count": 1,
     "metadata": {},
     "output_type": "execute_result"
    }
   ],
   "source": [
    "import pandas as pd\n",
    "from pandas import DataFrame\n",
    "\n",
    "df1 = pd.DataFrame({'id': [1, 2, 3], 'name': ['a', 'c', 'c']})\n",
    "df2 = pd.DataFrame({'id': [1, 2, 4], 'name': ['b', 'b', 'c']})\n",
    "dif = df1.compare(df2, keep_shape=True, keep_equal=True)\n",
    "dif1 = pd.merge(df1, df2, on='id')\n",
    "\n",
    "\n",
    "def get_update_condition(da: DataFrame):\n",
    "    update_condition = (da['id']['self'] == da['id']['other']) & (da['name']['self'] != da['name']['other'])\n",
    "    return update_condition\n",
    "\n",
    "\n",
    "dif.loc[get_update_condition, 'sql'] = 'update table set name=' + dif['name']['self'] + ' where id=' + dif['id'][\n",
    "    'other'].astype(str)\n",
    "\n",
    "\n",
    "def get_insert_condition(da: DataFrame):\n",
    "    insert_condition = da['id']['self'] != da['id']['other']\n",
    "    return insert_condition\n",
    "\n",
    "dif.loc[get_insert_condition, 'sql'] = 'insert into table (id,name) values (' + dif['id']['self'].astype(str) + ',' + dif['name']['self'] + ')'\n",
    "\n",
    "dif['sql']\n"
   ]
  }
 ],
 "metadata": {
  "kernelspec": {
   "display_name": "Python 3",
   "language": "python",
   "name": "python3"
  },
  "language_info": {
   "codemirror_mode": {
    "name": "ipython",
    "version": 2
   },
   "file_extension": ".py",
   "mimetype": "text/x-python",
   "name": "python",
   "nbconvert_exporter": "python",
   "pygments_lexer": "ipython2",
   "version": "2.7.6"
  }
 },
 "nbformat": 4,
 "nbformat_minor": 0
}
